{
 "cells": [
  {
   "cell_type": "markdown",
   "source": [
    "# SameSentiment Yelp - Create Sentiment Pairs"
   ],
   "metadata": {}
  },
  {
   "cell_type": "code",
   "execution_count": null,
   "source": [
    "import pickle\n",
    "from collection import Counter\n",
    "from copy import deepcopy\n",
    "from itertools import combinations, groupby\n",
    "from pathlib import Path\n",
    "\n",
    "try:\n",
    "    import networkx as nx\n",
    "except ImportError:\n",
    "    print(\"No networkx installed!\")\n",
    "\n",
    "import pandas as pd\n",
    "\n",
    "from tqdm import tqdm\n",
    "from transformers.trainer_utils import set_seed\n",
    "\n",
    "tqdm.pandas()"
   ],
   "outputs": [],
   "metadata": {}
  },
  {
   "cell_type": "code",
   "execution_count": null,
   "source": [
    "# download + scp to server + extract\n",
    "data_yelp_path = Path(\"data/sentiment/yelp/\")\n",
    "\n",
    "# ------------------------------------\n",
    "\n",
    "# local?\n",
    "data_yelp_path = Path(\"data_raw/sentiment/yelp/\")\n",
    "\n",
    "# local? - output path (base) for sentiment review yelp pairs\n",
    "data_yelp_b_tdt_path = Path(\"data/sentiment/yelp-pair-b/\")\n",
    "data_yelp_b_rand_tdt_path = Path(\"data/sentiment/yelp-pair-rand-b/\")\n",
    "# local - output path for simple sentiment reviews yelp\n",
    "data_yelp_tdt_sentiment_5_path = Path(\"data/sentiment/yelp-sentiment-5/\")\n",
    "data_yelp_tdt_sentiment_b_path = Path(\"data/sentiment/yelp-sentiment-b/\")"
   ],
   "outputs": [],
   "metadata": {}
  },
  {
   "cell_type": "markdown",
   "source": [
    "---"
   ],
   "metadata": {}
  },
  {
   "cell_type": "code",
   "execution_count": null,
   "source": [
    "dn_yelp_cached = data_yelp_path / \"cached\""
   ],
   "outputs": [],
   "metadata": {}
  },
  {
   "cell_type": "code",
   "execution_count": null,
   "source": [
    "#  #### Load categories & topics\n",
    "from data_prep import load_reviews, load_topics\n",
    "\n",
    "# ##### Filter categories\n",
    "from data_prep import filter_min_cat_combis, make_map_cats, make_cat_combis\n",
    "\n",
    "# ##### Filter reviews\n",
    "from data_prep import filter_min_review_freq, filter_both_good_bad\n",
    "\n",
    "# ##### Filter businesses\n",
    "from data_prep import filter_by_businesses, filter_by_businesses_not_same\n",
    "\n",
    "# #### Load category tree\n",
    "from data_prep import load_category_tree\n",
    "from data_prep import get_root_category_items, get_children_category_item_list\n",
    "from data_prep import get_businesses_in_category, get_businesses_in_category_branch\n",
    "\n",
    "\n",
    "# #### Cache root category reviews in dataframes\n",
    "from data_prep import cache_root_category_businesses_df, load_cached_root_category_businesses_df\n",
    "\n",
    "\n",
    "# #### Positive + negative same-sentiment pairs\n",
    "from data_prep import make_pairs_good_bad\n",
    "from data_prep import make_pairs_good_bad_over_business\n",
    "\n",
    "# #### Not same-sentiment pairs (combinations positive + negative)\n",
    "from data_prep import make_pairs_negative\n",
    "from data_prep import make_pairs_negative_over_business\n",
    "\n",
    "# #### Dataframe for training etc.\n",
    "from data_prep import make_or_load_pairs\n",
    "from data_prep import make_or_load_pairs_over_businesses\n",
    "\n",
    "\n",
    "# #### Make train/dev/test splits\n",
    "from data_prep import split_df, write_pair_df_tsv, write_pair_tdt_tsv\n"
   ],
   "outputs": [],
   "metadata": {}
  },
  {
   "cell_type": "markdown",
   "source": [
    "---"
   ],
   "metadata": {}
  },
  {
   "cell_type": "markdown",
   "source": [
    "#### Get topN categories + make Ntuples from category combinations"
   ],
   "metadata": {}
  },
  {
   "cell_type": "code",
   "execution_count": null,
   "source": [
    "def get_Ntop_cats(inv_cat_bids, n=50):\n",
    "    # get most common cats\n",
    "    f_cat_cnt = Counter({k: len(v) for k, v in inv_cat_bids.items()})\n",
    "    f_cats = {c for c, v in f_cat_cnt.most_common(n)}\n",
    "    return f_cats\n",
    "\n",
    "\n",
    "def make_cat_Ntuples(f_inv_cat_combis, n=2):\n",
    "    f_cat_pairs = Counter()\n",
    "\n",
    "    for cat_group in tqdm(f_inv_cat_combis.keys()):\n",
    "        if len(cat_group) < n:\n",
    "            continue\n",
    "        it = combinations(cat_group, n)\n",
    "        # repeat (#num_businesses) + chain combis\n",
    "        f_cat_pairs.update(it)\n",
    "        \n",
    "    return f_cat_pairs"
   ],
   "outputs": [],
   "metadata": {
    "ExecuteTime": {
     "end_time": "2020-05-25T09:52:22.837095Z",
     "start_time": "2020-05-25T09:52:22.827303Z"
    },
    "code_folding": [
     0,
     7
    ],
    "jupyter": {
     "source_hidden": true
    }
   }
  },
  {
   "cell_type": "markdown",
   "source": [
    "#### Make category graph or NxN map (df + array)"
   ],
   "metadata": {}
  },
  {
   "cell_type": "code",
   "execution_count": null,
   "source": [
    "def make_graph(f_cat_pairs):\n",
    "    g_from, g_to, g_value = zip(*((k1, k2, n) for (k1, k2), n in tqdm(f_cat_pairs.most_common())))\n",
    "\n",
    "    g_df = pd.DataFrame({\"from\": g_from, \"to\": g_to, \"value\": g_value})\n",
    "    G = nx.from_pandas_edgelist(g_df, \"from\", \"to\", create_using=nx.Graph())\n",
    "    \n",
    "    return G\n",
    "\n",
    "\n",
    "def make_NxN_map(f_cats, f_cat_pairs):\n",
    "    f_cats = list(f_cats)\n",
    "    array = list()\n",
    "    for i, cat1 in enumerate(tqdm(f_cats)):\n",
    "        array_row = list()\n",
    "        for j, cat2 in enumerate(f_cats):\n",
    "            array_row.append(f_cat_pairs.get((cat1, cat2), f_cat_pairs.get((cat2, cat1), 0)))\n",
    "        array.append(array_row)\n",
    "    df_cm = pd.DataFrame(array, index=list(f_cats), columns=list(f_cats))\n",
    "    \n",
    "    # dataframe, NxN array + labels\n",
    "    return df_cm, array, f_cats"
   ],
   "outputs": [],
   "metadata": {
    "ExecuteTime": {
     "end_time": "2020-05-25T09:52:24.807433Z",
     "start_time": "2020-05-25T09:52:24.793721Z"
    },
    "code_folding": [
     0,
     9
    ],
    "jupyter": {
     "source_hidden": true
    }
   }
  },
  {
   "cell_type": "markdown",
   "source": [
    "##### Print category trees"
   ],
   "metadata": {}
  },
  {
   "cell_type": "code",
   "execution_count": null,
   "source": [
    "def print_category_tree(map_categories):\n",
    "    root_categories = get_root_category_items(map_categories)\n",
    "    \n",
    "    def _print_cat_list_rec(lst_cats, level=0):\n",
    "        for item in sorted(lst_cats, key=lambda x: x[\"title\"]):\n",
    "            if level:\n",
    "                print(\"  \" * level, end=\"\")\n",
    "            print(f\"\"\"{item[\"title\"]} [{item[\"alias\"]}]\"\"\", end=\"\")\n",
    "            if item[\"children\"]:\n",
    "                print(f\"\"\" [#{len(item[\"children\"])} children]\"\"\")\n",
    "            else:\n",
    "                print()\n",
    "            \n",
    "            children = get_children_category_item_list(map_categories, item[\"alias\"])\n",
    "            _print_cat_list_rec(children, level=level + 1)\n",
    "            \n",
    "    _print_cat_list_rec(root_categories, level=0)\n",
    "\n",
    "\n",
    "def print_category_tree_with_num_businesses(map_categories, inv_cat_bids):\n",
    "    root_categories = get_root_category_items(map_categories)\n",
    "    \n",
    "    def _print_cat_list_rec(lst_cats, level=0):\n",
    "        for item in sorted(lst_cats, key=lambda x: x[\"title\"]):\n",
    "            cur_line = \" .\" * 30\n",
    "            parts = list()\n",
    "\n",
    "            if level:\n",
    "                parts.append(\"  \" * level)\n",
    "            parts.append(f\"\"\"{item[\"title\"]} [{item[\"alias\"]}]\"\"\")\n",
    "            \n",
    "            str_len = sum(len(part) for part in parts)\n",
    "            print(\"\".join(part for part in parts), end=\"\")\n",
    "            print(cur_line[str_len:], end=\"\")\n",
    "            \n",
    "            if item[\"title\"] not in inv_cat_bids:\n",
    "                print(\" No businesses associated!\")\n",
    "            else:\n",
    "                print(f\"\"\" {len((inv_cat_bids[item[\"title\"]])):>5d} businesses\"\"\")\n",
    "            \n",
    "            children = get_children_category_item_list(map_categories, item[\"alias\"])\n",
    "            _print_cat_list_rec(children, level=level + 1)\n",
    "            \n",
    "            if level == 0:\n",
    "                print()\n",
    "            \n",
    "    _print_cat_list_rec(root_categories, level=0)\n",
    "    \n",
    "\n",
    "def print_category_tree_with_num_businesses_rec(map_categories, inv_cat_bids, map_cat_name2id):\n",
    "    root_categories = get_root_category_items(map_categories)\n",
    "    \n",
    "    def _print_cat_list_rec(lst_cats, level=0):\n",
    "        for item in sorted(lst_cats, key=lambda x: x[\"title\"]):\n",
    "            cur_line = \" .\" * 30\n",
    "            parts = list()\n",
    "\n",
    "            if level:\n",
    "                parts.append(\"  \" * level)\n",
    "            parts.append(f\"\"\"{item[\"title\"]} [{item[\"alias\"]}]\"\"\")\n",
    "            \n",
    "            str_len = sum(len(part) for part in parts)\n",
    "            print(\"\".join(part for part in parts), end=\"\")\n",
    "            print(cur_line[str_len:], end=\"\")\n",
    "            \n",
    "            businesses = get_businesses_in_category_branch(inv_cat_bids, item[\"title\"], map_categories, map_cat_name2id)\n",
    "            businesses_self = get_businesses_in_category(inv_cat_bids, item[\"title\"])\n",
    "            if not businesses:\n",
    "                print(\" No businesses associated!\")\n",
    "            else:\n",
    "                businesses = set(businesses)\n",
    "                print(f\"\"\" {len(businesses):>5d} businesses\"\"\", end=\"\")\n",
    "                if len(businesses) != len(businesses_self):\n",
    "                    print(f\"\"\" (self: {len(businesses_self)})\"\"\", end=\"\")\n",
    "                print()\n",
    "            \n",
    "            children = get_children_category_item_list(map_categories, item[\"alias\"])\n",
    "            _print_cat_list_rec(children, level=level + 1)\n",
    "            \n",
    "            if level == 0:\n",
    "                print()\n",
    "            \n",
    "    _print_cat_list_rec(root_categories, level=0)\n",
    "    \n",
    "    \n",
    "def print_category_tree_with_num_businesses_root(map_categories, inv_cat_bids, map_cat_name2id):\n",
    "    root_categories = get_root_category_items(map_categories)\n",
    "    \n",
    "    for item in sorted(root_categories, key=lambda x: x[\"title\"]):\n",
    "        cur_line = \" .\" * 25\n",
    "        parts = [f\"\"\"{item[\"title\"]} [{item[\"alias\"]}] \"\"\"]\n",
    "\n",
    "        str_len = sum(len(part) for part in parts)\n",
    "        print(\"\".join(part for part in parts), end=\"\")\n",
    "        print(cur_line[str_len:], end=\"\")\n",
    "\n",
    "        businesses = get_businesses_in_category_branch(inv_cat_bids, item[\"title\"], map_categories, map_cat_name2id)\n",
    "        businesses_self = get_businesses_in_category(inv_cat_bids, item[\"title\"])\n",
    "\n",
    "        businesses = set(businesses)\n",
    "        print(f\"\"\" {len(businesses):>5d} businesses\"\"\", end=\"\")\n",
    "        if len(businesses) != len(businesses_self):\n",
    "            print(f\"\"\" (self: {len(businesses_self)})\"\"\", end=\"\")\n",
    "        print()\n",
    "        \n",
    "\n",
    "def print_category_tree_with_num_businesses_root2(map_categories, inv_cat_bids, map_cat_name2id):\n",
    "    root_categories = get_root_category_items(map_categories)\n",
    "    for item in root_categories:\n",
    "        item[\"businesses\"] = get_businesses_in_category_branch(inv_cat_bids, item[\"title\"], map_categories, map_cat_name2id)\n",
    "        item[\"businesses_self\"] = get_businesses_in_category(inv_cat_bids, item[\"title\"])\n",
    "    \n",
    "    for item in sorted(root_categories, key=lambda x: len(set(x[\"businesses\"]))):\n",
    "        cur_line = \" .\" * 25\n",
    "        parts = [f\"\"\"{item[\"title\"]} [{item[\"alias\"]}] \"\"\"]\n",
    "\n",
    "        str_len = sum(len(part) for part in parts)\n",
    "        print(\"\".join(part for part in parts), end=\"\")\n",
    "        print(cur_line[str_len:], end=\"\")\n",
    "\n",
    "        businesses = item[\"businesses\"]\n",
    "        businesses_self = item[\"businesses_self\"]\n",
    "\n",
    "        businesses = set(businesses)\n",
    "        print(f\"\"\" {len(businesses):>5d} businesses\"\"\", end=\"\")\n",
    "        if len(businesses) != len(businesses_self):\n",
    "            print(f\"\"\" (self: {len(businesses_self)})\"\"\", end=\"\")\n",
    "        print()"
   ],
   "outputs": [],
   "metadata": {
    "ExecuteTime": {
     "end_time": "2020-05-25T09:52:29.242019Z",
     "start_time": "2020-05-25T09:52:29.205730Z"
    },
    "code_folding": [
     0,
     19,
     49,
     85,
     106
    ],
    "jupyter": {
     "source_hidden": true
    }
   }
  },
  {
   "cell_type": "markdown",
   "source": [
    "##### Make category comparisons"
   ],
   "metadata": {}
  },
  {
   "cell_type": "code",
   "execution_count": null,
   "source": [
    "def print_2category_compare(inv_cat_bids, map_categories, map_cat_name2id, cat_name_i, cat_name_j):\n",
    "    businesses_i = get_businesses_in_category_branch(inv_cat_bids, cat_name_i, map_categories, map_cat_name2id)\n",
    "    businesses_j = get_businesses_in_category_branch(inv_cat_bids, cat_name_j, map_categories, map_cat_name2id)\n",
    "    \n",
    "    cat_name_i += \":\"\n",
    "    cat_name_j += \":\"\n",
    "    width = max(12, len(cat_name_i), len(cat_name_j))\n",
    "\n",
    "    print(f\"\"\"{cat_name_i:<{width}} {len(set(businesses_i)):>5d}\"\"\")\n",
    "    print(f\"\"\"{cat_name_j:<{width}} {len(set(businesses_j)):>5d}\"\"\")\n",
    "    print(f\"\"\"Both: {\"same:\":>{width - 6}} {len(set(businesses_i) & set(businesses_j)):>5d}\"\"\")\n",
    "    print(f\"\"\"{\"total:\":>{width}} {len(set(businesses_i) | set(businesses_j)):>5d}\"\"\")"
   ],
   "outputs": [],
   "metadata": {
    "ExecuteTime": {
     "end_time": "2020-05-25T09:52:31.432925Z",
     "start_time": "2020-05-25T09:52:31.423857Z"
    },
    "code_folding": [
     0
    ],
    "jupyter": {
     "source_hidden": true
    }
   }
  },
  {
   "cell_type": "markdown",
   "source": [
    "---"
   ],
   "metadata": {}
  },
  {
   "cell_type": "code",
   "execution_count": null,
   "source": [
    "# N positive + N negative\n",
    "# --> 2N pos+neg (not same-sentiment)\n",
    "num_pairs_per_class = 2\n",
    "\n",
    "#: number of negative same-sentiment samples same as positive same-sentiment samples\n",
    "num_pairs_negative = 2 * num_pairs_per_class\n",
    "\n",
    "#: whether for a single side (good or bad) there can be multiple occurrences of the same review\n",
    "#: may need to check afterwared that not by chance same pairing happens ...\n",
    "repeatable_on_side = False"
   ],
   "outputs": [],
   "metadata": {}
  },
  {
   "cell_type": "markdown",
   "source": [
    "---"
   ],
   "metadata": {}
  },
  {
   "cell_type": "markdown",
   "source": [
    "## Run"
   ],
   "metadata": {}
  },
  {
   "cell_type": "markdown",
   "source": [
    "#### Load reviews"
   ],
   "metadata": {}
  },
  {
   "cell_type": "code",
   "execution_count": null,
   "source": [
    "fn_yelp_reviews = data_yelp_path / \"review.json\"\n",
    "df = load_reviews(fn_yelp_reviews)"
   ],
   "outputs": [],
   "metadata": {}
  },
  {
   "cell_type": "markdown",
   "source": [
    "#### Load categories for businesses\n",
    "\n",
    "- business (id) with list of topics/categories\n",
    "- lookups (business -> categories, category -> businesses)\n",
    "- list of combinations (with amount)"
   ],
   "metadata": {}
  },
  {
   "cell_type": "code",
   "execution_count": null,
   "source": [
    "fn_yelp_topics = data_yelp_path / \"business.json\"\n",
    "bids_not_cats = set()\n",
    "inv_bid_cats = load_topics(fn_yelp_topics, bids_not_cats=bids_not_cats)\n",
    "\n",
    "inv_cat_bids = make_map_cats(inv_bid_cats)\n",
    "\n",
    "inv_cat_combis = make_cat_combis(inv_bid_cats)"
   ],
   "outputs": [],
   "metadata": {}
  },
  {
   "cell_type": "markdown",
   "source": [
    "#### Load category tree\n",
    "\n",
    "- hierarchy of categories"
   ],
   "metadata": {}
  },
  {
   "cell_type": "code",
   "execution_count": null,
   "source": [
    "fn_yelp_catgory_tree = data_yelp_path / \"all_category_list.json\"\n",
    "map_categories, map_cat_name2id, lst_root_categories = load_category_tree(fn_yelp_catgory_tree)"
   ],
   "outputs": [],
   "metadata": {}
  },
  {
   "cell_type": "markdown",
   "source": [
    "#### Pre-Cache all root category businesses (reviews)"
   ],
   "metadata": {}
  },
  {
   "cell_type": "code",
   "execution_count": null,
   "source": [
    "cache_root_category_businesses_df(df, inv_cat_bids, map_categories, map_cat_name2id)"
   ],
   "outputs": [],
   "metadata": {}
  },
  {
   "cell_type": "markdown",
   "source": [
    "---"
   ],
   "metadata": {}
  },
  {
   "cell_type": "markdown",
   "source": [
    "## Stats"
   ],
   "metadata": {}
  },
  {
   "cell_type": "code",
   "execution_count": null,
   "source": [
    "# number of businesses\n",
    "print(f\"Number of businesses total: {len(inv_bid_cats.keys())}\")\n",
    "# number of reviews (total)\n",
    "print(f\"Number of reviews total: {df.rid.count()}\")"
   ],
   "outputs": [],
   "metadata": {}
  },
  {
   "cell_type": "markdown",
   "source": [
    "---"
   ],
   "metadata": {}
  },
  {
   "cell_type": "markdown",
   "source": [
    "## Make train pairs (normal)"
   ],
   "metadata": {}
  },
  {
   "cell_type": "code",
   "execution_count": null,
   "source": [
    "set_seed(42)\n",
    "fn_yelp_df = data_yelp_path / \"df_traindev.p\"\n",
    "\n",
    "df = filter_min_review_freq(df, min_ratings=5)\n",
    "df = filter_both_good_bad(df)\n",
    "\n",
    "df_traindev = make_or_load_pairs(df, inv_cat_bids, str(fn_yelp_df), num_pairs_per_class=2)"
   ],
   "outputs": [],
   "metadata": {}
  },
  {
   "cell_type": "markdown",
   "source": [
    "### Make train pairs (double, typed)"
   ],
   "metadata": {}
  },
  {
   "cell_type": "code",
   "execution_count": null,
   "source": [
    "set_seed(42)\n",
    "fn_yelp_df = data_yelp_path / \"df_traindev4_typed.p\"\n",
    "\n",
    "df = filter_min_review_freq(df, min_ratings=8)\n",
    "df = filter_both_good_bad(df)\n",
    "\n",
    "df_traindev = make_or_load_pairs(df, inv_cat_bids, str(fn_yelp_df), num_pairs_per_class=4)"
   ],
   "outputs": [],
   "metadata": {}
  },
  {
   "cell_type": "markdown",
   "source": [
    "### Make pairs but ignore business id relationship\n",
    "\n",
    "(&rarr; pairs between different businesses)"
   ],
   "metadata": {}
  },
  {
   "cell_type": "code",
   "execution_count": null,
   "source": [
    "set_seed(42)\n",
    "fn_yelp_df = data_yelp_path / \"df_traindev_over_business.p\"\n",
    "\n",
    "df = filter_min_review_freq(df, min_ratings=5)\n",
    "df = filter_both_good_bad(df)\n",
    "\n",
    "df_traindev = make_or_load_pairs_over_businesses(df, inv_cat_bids, str(fn_yelp_df))"
   ],
   "outputs": [],
   "metadata": {}
  },
  {
   "cell_type": "markdown",
   "source": [
    "---"
   ],
   "metadata": {}
  },
  {
   "cell_type": "markdown",
   "source": [
    "## Write out training data"
   ],
   "metadata": {}
  },
  {
   "cell_type": "markdown",
   "source": [
    "### Split Test-Data"
   ],
   "metadata": {}
  },
  {
   "cell_type": "code",
   "execution_count": null,
   "source": [
    "fn_yelp_df = data_yelp_path / \"df_traindev4_typed.p\"\n",
    "\n",
    "with open(fn_yelp_df, \"rb\") as fp:\n",
    "    traindev_df = pickle.load(fp)"
   ],
   "outputs": [],
   "metadata": {}
  },
  {
   "cell_type": "code",
   "execution_count": null,
   "source": [
    "fn_yelp_df = data_yelp_path / \"df_traindev_test.p\"\n",
    "#fn_yelp_df = data_yelp_path / \"df_traindev_test_over_business.p\"\n",
    "#traindev_df = df_traindev"
   ],
   "outputs": [],
   "metadata": {}
  },
  {
   "cell_type": "code",
   "execution_count": null,
   "source": [
    "# store\n",
    "traindev_df, test_df = split_df(traindev_df, ratio=0.1, do_shuffle=True, random_state=42, name_train=\"traindev\", name_dev=\"test\")\n",
    "\n",
    "with open(fn_yelp_df, \"wb\") as fp:\n",
    "    pickle.dump(traindev_df, fp, protocol=pickle.HIGHEST_PROTOCOL)\n",
    "    pickle.dump(test_df, fp, protocol=pickle.HIGHEST_PROTOCOL)"
   ],
   "outputs": [],
   "metadata": {}
  },
  {
   "cell_type": "markdown",
   "source": [
    "---"
   ],
   "metadata": {}
  },
  {
   "cell_type": "code",
   "execution_count": null,
   "source": [
    "with open(fn_yelp_df, \"rb\") as fp:\n",
    "    traindev_df = pickle.load(fp)\n",
    "    test_df = pickle.load(fp)"
   ],
   "outputs": [],
   "metadata": {}
  },
  {
   "cell_type": "code",
   "execution_count": null,
   "source": [
    "root_path = data_yelp_b_tdt_path\n",
    "#root_path = data_yelp_b_rand_tdt_path"
   ],
   "outputs": [],
   "metadata": {}
  },
  {
   "cell_type": "code",
   "execution_count": null,
   "source": [
    "write_pair_tdt_tsv(root_path, traindev_df, split_test=0.1, split_dev=0.3)"
   ],
   "outputs": [],
   "metadata": {}
  },
  {
   "cell_type": "code",
   "execution_count": null,
   "source": [
    "# symlink pred.tsv\n",
    "! ln -s test.tsv {root_path}/pred.tsv"
   ],
   "outputs": [],
   "metadata": {}
  },
  {
   "cell_type": "code",
   "execution_count": null,
   "source": [
    "print(\"@ \", root_path, \"\\n\")\n",
    "! ls -lh {root_path}"
   ],
   "outputs": [],
   "metadata": {}
  }
 ],
 "metadata": {
  "kernelspec": {
   "display_name": "Python 3",
   "language": "python",
   "name": "python3"
  },
  "language_info": {
   "codemirror_mode": {
    "name": "ipython",
    "version": 3
   },
   "file_extension": ".py",
   "mimetype": "text/x-python",
   "name": "python",
   "nbconvert_exporter": "python",
   "pygments_lexer": "ipython3",
   "version": "3.8.5"
  }
 },
 "nbformat": 4,
 "nbformat_minor": 4
}
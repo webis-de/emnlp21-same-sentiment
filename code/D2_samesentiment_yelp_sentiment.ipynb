{
 "cells": [
  {
   "cell_type": "markdown",
   "source": [
    "# Dataset preparation & Experiments - SameSentiment Yelp"
   ],
   "metadata": {}
  },
  {
   "cell_type": "code",
   "execution_count": null,
   "source": [
    "import pickle\n",
    "from pathlib import Path"
   ],
   "outputs": [],
   "metadata": {}
  },
  {
   "cell_type": "code",
   "execution_count": null,
   "source": [
    "# download + scp to server + extract\n",
    "data_yelp_path = Path(\"data/sentiment/yelp/\")\n",
    "\n",
    "# ------------------------------------\n",
    "\n",
    "# local?\n",
    "data_yelp_path = Path(\"data_raw/sentiment/yelp/\")\n",
    "\n",
    "# local - output path for simple sentiment reviews yelp\n",
    "data_yelp_tdt_sentiment_5_path = Path(\"data/sentiment/yelp-sentiment-5/\")\n",
    "data_yelp_tdt_sentiment_b_path = Path(\"data/sentiment/yelp-sentiment-b/\")"
   ],
   "outputs": [],
   "metadata": {}
  },
  {
   "cell_type": "markdown",
   "source": [
    "---"
   ],
   "metadata": {}
  },
  {
   "cell_type": "code",
   "execution_count": null,
   "source": [
    "#  #### Load categories & topics\n",
    "from data_prep import load_reviews, load_topics\n",
    "\n",
    "# ##### Filter categories\n",
    "from data_prep import filter_min_cat_combis, make_map_cats, make_cat_combis\n",
    "\n",
    "# ##### Filter reviews\n",
    "from data_prep import filter_min_review_freq, filter_both_good_bad\n",
    "\n",
    "# ##### Filter businesses\n",
    "from data_prep import filter_by_businesses, filter_by_businesses_not_same\n",
    "\n",
    "# #### Load category tree\n",
    "from data_prep import load_category_tree\n",
    "from data_prep import get_root_category_items, get_children_category_item_list\n",
    "from data_prep import get_businesses_in_category, get_businesses_in_category_branch\n",
    "\n",
    "\n",
    "# #### Cache root category reviews in dataframes\n",
    "from data_prep import cache_root_category_businesses_df, load_cached_root_category_businesses_df\n",
    "\n",
    "\n",
    "# #### Make train/dev/test splits\n",
    "from data_prep import split_df, write_single_2_df_tsv, write_single_5_df_tsv, write_single_tdt_tsv"
   ],
   "outputs": [],
   "metadata": {}
  },
  {
   "cell_type": "markdown",
   "source": [
    "---"
   ],
   "metadata": {}
  },
  {
   "cell_type": "code",
   "execution_count": null,
   "source": [
    "model_name = \"distilroberta-base\"\n",
    "data_name = \"yelp-pair-b\"\n",
    "seq_len = 512\n",
    "batch_size = 16\n",
    "num_epoch = 3\n",
    "cuda_devs = \"0\"\n",
    "\n",
    "run_name = f\"{model_name}-{data_name}_{seq_len}_{batch_size}_{num_epoch}\""
   ],
   "outputs": [],
   "metadata": {}
  },
  {
   "cell_type": "code",
   "execution_count": null,
   "source": [
    "! CUDA_VISIBLE_DEVICES={cuda_devs} \\\n",
    "    python trainer.py \\\n",
    "    --do_train --do_eval --do_test \\\n",
    "    --model_name_or_path {model_name} \\\n",
    "    --task_name same-b \\\n",
    "    --data_dir ./data/sentiment/{data_name} \\\n",
    "    --output_dir ./output/{run_name} \\\n",
    "    --run_name {run_name} \\\n",
    "    --per_device_eval_batch_size {batch_size} \\\n",
    "    --per_device_train_batch_size {batch_size} \\\n",
    "    --logging_steps 5000 \\\n",
    "    --save_steps 5000 \\\n",
    "    --num_train_epochs {num_epoch} \\\n",
    "    --max_seq_length {seq_len} \\\n",
    "    --evaluation_strategy epoch \\\n",
    "    --overwrite_output_dir \\\n",
    "    --overwrite_cache"
   ],
   "outputs": [],
   "metadata": {}
  },
  {
   "cell_type": "markdown",
   "source": [
    "---"
   ],
   "metadata": {}
  },
  {
   "cell_type": "markdown",
   "source": [
    "## Write out single sentiment reviews"
   ],
   "metadata": {}
  },
  {
   "cell_type": "code",
   "execution_count": null,
   "source": [
    "fn_yelp_reviews = data_yelp_path / \"review.json\"\n",
    "df = load_reviews(fn_yelp_reviews)"
   ],
   "outputs": [],
   "metadata": {}
  },
  {
   "cell_type": "markdown",
   "source": [
    "#### 5-class (1-5 stars)"
   ],
   "metadata": {}
  },
  {
   "cell_type": "code",
   "execution_count": null,
   "source": [
    "root_path = data_yelp_tdt_sentiment_5_path\n",
    "\n",
    "write_single_tdt_tsv(root_path, df, split_test=0.1, split_dev=0.3, do_shuffle=True, random_state=42, binary=False)"
   ],
   "outputs": [],
   "metadata": {}
  },
  {
   "cell_type": "markdown",
   "source": [
    "#### binary (1 / 0)"
   ],
   "metadata": {}
  },
  {
   "cell_type": "code",
   "execution_count": null,
   "source": [
    "root_path = data_yelp_tdt_sentiment_b_path\n",
    "\n",
    "write_single_tdt_tsv(root_path, df, split_test=0.1, split_dev=0.3, do_shuffle=True, random_state=42, binary=True)"
   ],
   "outputs": [],
   "metadata": {}
  },
  {
   "cell_type": "code",
   "execution_count": null,
   "source": [
    "print(\"@ \", root_path, \"\\n\")\n",
    "! ls -lh {root_path}"
   ],
   "outputs": [],
   "metadata": {}
  },
  {
   "cell_type": "markdown",
   "source": [
    "#### Run ...\n",
    "\n",
    "Task: 5-class\n",
    "\n",
    "```bash\n",
    "python trainer.py --do_train --do_eval --model_name_or_path bert-base-uncased --task_name sent-5 --data_dir ./data/sentiment/yelp-sentiment-5 --output_dir ./output/yelp-sentiment-5 --run_name yelp-sentiment-5 --logging_steps 10000 --num_train_epochs 2 --per_device_train_batch_size 32 --per_device_eval_batch_size 32 --max_seq_length 128\n",
    "\n",
    "# eval\n",
    "CUDA_VISIBLE_DEVICES=1 python trainer.py --do_eval --model_name_or_path ./output/yelp-sentiment-5/checkpoint-10000/ --task_name sent-5 --data_dir ./data/sentiment/yelp-sentiment-5 --output_dir ./output/yelp-sentiment-5 --run_name yelp-sentiment-5 --logging_steps 10000 --num_train_epochs 2 --per_device_train_batch_size 32 --per_device_eval_batch_size 64 --max_seq_length 128\n",
    "```\n",
    "\n",
    "Task: binary (2-class)\n",
    "\n",
    "```bash\n",
    "CUDA_VISIBLE_DEVICES=1 python trainer.py --do_train --do_eval --model_name_or_path bert-base-uncased --task_name sent-b --data_dir ./data/sentiment/yelp-sentiment-b --output_dir ./output/yelp-sentiment-b --run_name yelp-sentiment-b --logging_steps 10000 --num_train_epochs 1 --per_device_train_batch_size 128 --per_device_eval_batch_size 128 --max_seq_length 128 --save_steps 2000 --max_steps 10000\n",
    "```\n",
    "\n",
    "Task: regression\n",
    "\n",
    "```bash\n",
    "# eval\n",
    "CUDA_VISIBLE_DEVICES=1 python trainer.py --do_eval --model_name_or_path ./output/yelp-sentiment-r/ --task_name sent-r --data_dir ./data/sentiment/yelp-sentiment-b --output_dir ./output/yelp-sentiment-r --run_name yelp-sentiment-r --per_device_eval_batch_size 128 --max_seq_length 128\n",
    "```\n",
    "\n",
    "SeqLen: 512\n",
    "\n",
    "```bash\n",
    "CUDA_VISIBLE_DEVICES=1 python trainer.py --do_train --do_eval --model_name_or_path bert-base-uncased --task_name sent-b --data_dir ./data/sentiment/yelp-sentiment-b --output_dir ./output/yelp-sentiment-b_512_16_1 --run_name yelp-sentiment-b_512_16_1 --per_device_train_batch_size 16 --per_device_eval_batch_size 16 --max_seq_length 512 --max_steps 10000 --save_steps 2000 --logging_steps 2000 --logging_first_step\n",
    "```"
   ],
   "metadata": {}
  },
  {
   "cell_type": "markdown",
   "source": [
    "---"
   ],
   "metadata": {}
  },
  {
   "cell_type": "markdown",
   "source": [
    "Model: **distilroberta-base**  \n",
    "Task: binary (2-class)\n",
    "\n",
    "```bash\n",
    "CUDA_VISIBLE_DEVICES=1 python trainer.py --do_train --do_eval --model_name_or_path distilroberta-base --task_name sent-b --data_dir ./data/sentiment/yelp-sentiment-b --output_dir ./output/distilroberta-base-yelp-sentiment-b --run_name distilroberta-base-yelp-sentiment-b --logging_steps 10000 --num_train_epochs 1 --per_device_train_batch_size 64 --per_device_eval_batch_size 64 --max_seq_length 128 --save_steps 2000 --max_steps 10000\n",
    "```\n",
    "\n",
    "```bash\n",
    "CUDA_VISIBLE_DEVICES=1 python trainer.py --do_predict --model_name_or_path distilroberta-base --task_name sent-b --data_dir ./data/sentiment/yelp-sentiment-b --output_dir ./output/distilroberta-base-yelp-sentiment-b --run_name distilroberta-base-yelp-sentiment-b --logging_steps 10000 --num_train_epochs 1 --per_device_train_batch_size 64 --per_device_eval_batch_size 64 --max_seq_length 128 --save_steps 2000 --max_steps 10000\n",
    "```"
   ],
   "metadata": {}
  },
  {
   "cell_type": "code",
   "execution_count": null,
   "source": [
    "! CUDA_VISIBLE_DEVICES=0 python trainer.py --do_test --model_name_or_path distilroberta-base --task_name sent-b --data_dir ./data/sentiment/yelp-sentiment-b --output_dir ./output/distilroberta-base-yelp-sentiment-b --run_name distilroberta-base-yelp-sentiment-b --logging_steps 10000 --num_train_epochs 1 --per_device_train_batch_size 64 --per_device_eval_batch_size 64 --max_seq_length 128 --save_steps 2000 --max_steps 10000"
   ],
   "outputs": [],
   "metadata": {}
  }
 ],
 "metadata": {
  "kernelspec": {
   "display_name": "Python 3",
   "language": "python",
   "name": "python3"
  },
  "language_info": {
   "codemirror_mode": {
    "name": "ipython",
    "version": 3
   },
   "file_extension": ".py",
   "mimetype": "text/x-python",
   "name": "python",
   "nbconvert_exporter": "python",
   "pygments_lexer": "ipython3",
   "version": "3.8.5"
  }
 },
 "nbformat": 4,
 "nbformat_minor": 4
}
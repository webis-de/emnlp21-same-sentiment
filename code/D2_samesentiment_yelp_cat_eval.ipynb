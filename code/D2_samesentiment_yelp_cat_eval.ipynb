{
 "cells": [
  {
   "cell_type": "markdown",
   "source": [
    "# SameSentiment Yelp - Category Evaluation"
   ],
   "metadata": {}
  },
  {
   "cell_type": "code",
   "execution_count": null,
   "source": [
    "import json\n",
    "import pickle\n",
    "from pathlib import Path\n",
    "\n",
    "from tqdm import tqdm\n",
    "from transformers.trainer_utils import set_seed\n",
    "\n",
    "tqdm.pandas()"
   ],
   "outputs": [],
   "metadata": {}
  },
  {
   "cell_type": "code",
   "execution_count": null,
   "source": [
    "# download + scp to server + extract\n",
    "data_yelp_path = Path(\"data/sentiment/yelp/\")\n",
    "\n",
    "# ------------------------------------\n",
    "\n",
    "# local?\n",
    "data_yelp_path = Path(\"data_raw/sentiment/yelp/\")\n",
    "\n",
    "# local? - output path (base) for sentiment review yelp pairs\n",
    "data_yelp_b_tdt_path = Path(\"data/sentiment/yelp-pair-b/\")\n",
    "data_yelp_b_rand_tdt_path = Path(\"data/sentiment/yelp-pair-rand-b/\")\n",
    "# local - output path for simple sentiment reviews yelp\n",
    "data_yelp_tdt_sentiment_5_path = Path(\"data/sentiment/yelp-sentiment-5/\")\n",
    "data_yelp_tdt_sentiment_b_path = Path(\"data/sentiment/yelp-sentiment-b/\")"
   ],
   "outputs": [],
   "metadata": {}
  },
  {
   "cell_type": "markdown",
   "source": [
    "---"
   ],
   "metadata": {}
  },
  {
   "cell_type": "code",
   "execution_count": 3,
   "source": [
    "dn_yelp_cached = data_yelp_path / \"cached\""
   ],
   "outputs": [],
   "metadata": {}
  },
  {
   "cell_type": "code",
   "execution_count": 4,
   "source": [
    "#  #### Load categories & topics\n",
    "from data_prep import load_reviews, load_topics\n",
    "\n",
    "# ##### Filter categories\n",
    "from data_prep import filter_min_cat_combis, make_map_cats, make_cat_combis\n",
    "\n",
    "# ##### Filter reviews\n",
    "from data_prep import filter_min_review_freq, filter_both_good_bad\n",
    "\n",
    "\n",
    "# #### Load category tree\n",
    "from data_prep import load_category_tree\n",
    "from data_prep import get_root_category_items\n",
    "\n",
    "# #### Filter other category businesses\n",
    "from data_prep import filter_root_category_businesses_not_other\n",
    "\n",
    "\n",
    "# #### Cache root category reviews in dataframes\n",
    "from data_prep import cache_root_category_businesses_df\n",
    "\n",
    "\n",
    "# #### Dataframe for training etc.\n",
    "from data_prep import make_or_load_pairs\n",
    "\n",
    "\n",
    "# #### Make train/dev/test splits\n",
    "from data_prep import write_pair_df_tsv\n"
   ],
   "outputs": [],
   "metadata": {}
  },
  {
   "cell_type": "markdown",
   "source": [
    "---"
   ],
   "metadata": {}
  },
  {
   "cell_type": "markdown",
   "source": [
    "## Run"
   ],
   "metadata": {}
  },
  {
   "cell_type": "markdown",
   "source": [
    "#### Load reviews"
   ],
   "metadata": {}
  },
  {
   "cell_type": "code",
   "execution_count": 5,
   "source": [
    "fn_yelp_reviews = data_yelp_path / \"review.json\"\n",
    "df = load_reviews(fn_yelp_reviews)"
   ],
   "outputs": [
    {
     "output_type": "stream",
     "name": "stderr",
     "text": [
      "6685900it [00:38, 175531.62it/s]\n"
     ]
    }
   ],
   "metadata": {}
  },
  {
   "cell_type": "markdown",
   "source": [
    "#### Load categories for businesses\n",
    "\n",
    "- business (id) with list of topics/categories\n",
    "- lookups (business -> categories, category -> businesses)\n",
    "- list of combinations (with amount)"
   ],
   "metadata": {}
  },
  {
   "cell_type": "code",
   "execution_count": null,
   "source": [
    "fn_yelp_topics = data_yelp_path / \"business.json\"\n",
    "bids_not_cats = set()\n",
    "inv_bid_cats = load_topics(fn_yelp_topics, bids_not_cats=bids_not_cats)\n",
    "\n",
    "inv_cat_bids = make_map_cats(inv_bid_cats)\n",
    "\n",
    "inv_cat_combis = make_cat_combis(inv_bid_cats)"
   ],
   "outputs": [],
   "metadata": {}
  },
  {
   "cell_type": "markdown",
   "source": [
    "#### Load category tree\n",
    "\n",
    "- hierarchy of categories"
   ],
   "metadata": {}
  },
  {
   "cell_type": "code",
   "execution_count": 7,
   "source": [
    "fn_yelp_catgory_tree = data_yelp_path / \"all_category_list.json\"\n",
    "map_categories, map_cat_name2id, lst_root_categories = load_category_tree(fn_yelp_catgory_tree)"
   ],
   "outputs": [],
   "metadata": {}
  },
  {
   "cell_type": "markdown",
   "source": [
    "#### Pre-Cache all root category businesses (reviews)"
   ],
   "metadata": {}
  },
  {
   "cell_type": "code",
   "execution_count": 8,
   "source": [
    "cache_root_category_businesses_df(df, inv_cat_bids, map_categories, map_cat_name2id)"
   ],
   "outputs": [],
   "metadata": {}
  },
  {
   "cell_type": "markdown",
   "source": [
    "---"
   ],
   "metadata": {}
  },
  {
   "cell_type": "markdown",
   "source": [
    "## Run test evaluation per category"
   ],
   "metadata": {}
  },
  {
   "cell_type": "code",
   "execution_count": 9,
   "source": [
    "model_name = \"bert-base-uncased\"\n",
    "#model_name = \"bert-base-cased\"\n",
    "#model_name = \"distilroberta-base\"\n",
    "#model_name = \"albert-base-v2\"\n",
    "\n",
    "data_name = \"yelp-pair-b\"\n",
    "#data_name = \"yelp-pair-rand-b\"\n",
    "\n",
    "seq_len = 256\n",
    "batch_size = 16\n",
    "acc_steps = 64\n",
    "num_epoch = 3\n",
    "cuda_devs = \"1\"\n",
    "\n",
    "category_name = \"*\"\n",
    "\n",
    "run_name = f\"{model_name}-{data_name}_{seq_len}_{batch_size}_{num_epoch}\"\n",
    "run_name = f\"{model_name.replace('/', '-')}-{data_name}_{seq_len}_{batch_size}-acc{acc_steps}_{num_epoch}\"\n",
    "\n",
    "fn_cateval_base = Path(f\"./output_cateval/{run_name}\")\n",
    "fn_cateval_base.mkdir(parents=True, exist_ok=True)"
   ],
   "outputs": [],
   "metadata": {}
  },
  {
   "cell_type": "code",
   "execution_count": 10,
   "source": [
    "# lst_root_categories\n",
    "root_categories = get_root_category_items(map_categories)\n",
    "root_categories = sorted(root_categories, key=lambda x: x[\"title\"])\n",
    "root_category_labels = [x[\"title\"] for x in root_categories]\n",
    "\n",
    "map_root_category_labels2alias = {x[\"title\"]: x[\"alias\"] for x in root_categories}\n",
    "map_root_category_alias2label = {x[\"alias\"]: x[\"title\"] for x in root_categories}"
   ],
   "outputs": [],
   "metadata": {}
  },
  {
   "cell_type": "code",
   "execution_count": null,
   "source": [
    "for root_category_label in root_category_labels:\n",
    "    if root_category_label == category_name:\n",
    "        continue\n",
    "    print(f\"Work on {root_category_label} ...\")\n",
    "\n",
    "    # prepare test data, without overlap\n",
    "    df_other = filter_root_category_businesses_not_other(dn_yelp_cached, root_category_label, category_name, inv_cat_bids, map_categories, map_cat_name2id)\n",
    "    if df_other.shape[0] == 0:\n",
    "        continue\n",
    "\n",
    "    df_other = filter_min_review_freq(df_other, min_ratings=10)\n",
    "    df_other = filter_both_good_bad(df_other)\n",
    "    if df_other.shape[0] == 0:\n",
    "        continue\n",
    "\n",
    "    df_other = make_or_load_pairs(df_other, inv_cat_bids, None, num_pairs_per_class=4)\n",
    "    print(f\"review pairs: {len(df_other)}\")\n",
    "\n",
    "    # check paths for writing\n",
    "    root_category_alias = map_root_category_labels2alias[root_category_label]\n",
    "    fn_data_path = Path(f\"data/sentiment/{run_name}/{root_category_alias}\")\n",
    "    fn_data_path.mkdir(parents=True, exist_ok=True)\n",
    "\n",
    "    # write test tsv\n",
    "    write_pair_df_tsv(df_other, fn_data_path / \"test.tsv\", \"test\")\n",
    "    \n",
    "    # evaluate\n",
    "    ! CUDA_VISIBLE_DEVICES={cuda_devs} \\\n",
    "        python trainer.py \\\n",
    "        --do_test \\\n",
    "        --model_name_or_path ./output_sent/{run_name} \\\n",
    "        --task_name same-b \\\n",
    "        --data_dir {fn_data_path} \\\n",
    "        --output_dir ./output_cateval/{run_name}/category/{root_category_alias} \\\n",
    "        --run_name {run_name}-{root_category_alias} \\\n",
    "        --per_device_eval_batch_size {batch_size} \\\n",
    "        --max_seq_length {seq_len} \\\n",
    "        --overwrite_cache \\\n",
    "\n",
    "    print()"
   ],
   "outputs": [],
   "metadata": {}
  },
  {
   "cell_type": "code",
   "execution_count": null,
   "source": [],
   "outputs": [],
   "metadata": {}
  },
  {
   "cell_type": "code",
   "execution_count": 24,
   "source": [
    "fn_base = fn_cateval_base / \"category\"\n",
    "\n",
    "# search for runs\n",
    "data = list()\n",
    "for fn in sorted(fn_base.iterdir()):\n",
    "    cat_name = fn.name\n",
    "\n",
    "    sfn = fn / \"test_results_same-b.json\"\n",
    "    if not sfn.exists():\n",
    "        print(f\"No result: {cat_name}\")\n",
    "        continue\n",
    "\n",
    "    with (fn / \"test_results_same-b.json\").open(\"r\") as fp:\n",
    "        stats_test = json.load(fp)\n",
    "        \n",
    "    data.append((cat_name, stats_test))\n",
    "\n",
    "# sort by test accuracy descending\n",
    "data = sorted(data, key=lambda x: x[1][\"eval_acc\"], reverse=True)\n",
    "\n",
    "# output\n",
    "print()\n",
    "print(f\"{run_name} results:\")\n",
    "print(f\"  CATEGORY----------------------  ACC-- (F1---)\")\n",
    "for cat_name, stats_test in data:\n",
    "    print(f\"  {cat_name:<30.30}  {stats_test['eval_acc'] * 100:.2f} ({stats_test['eval_f1'] * 100:.2f})\")\n",
    "    #   ({stats_test['eval_class_report']['macro avg']['precision'] * 100:.2f}  {stats_test['eval_class_report']['macro avg']['recall'] * 100:.2f})"
   ],
   "outputs": [
    {
     "output_type": "stream",
     "name": "stdout",
     "text": [
      "\n",
      "bert-base-uncased-yelp-pair-b_256_16-acc64_3 results:\n",
      "  CATEGORY----------------------  ACC-- (F1---)\n",
      "  health                          92.66 (92.68)\n",
      "  beautysvc                       92.56 (92.57)\n",
      "  homeservices                    92.22 (92.28)\n",
      "  financialservices               91.92 (92.02)\n",
      "  auto                            91.84 (91.86)\n",
      "  pets                            91.20 (91.23)\n",
      "  localservices                   90.99 (91.01)\n",
      "  professional                    90.89 (90.97)\n",
      "  massmedia                       86.93 (86.55)\n",
      "  shopping                        86.70 (86.77)\n",
      "  education                       86.35 (86.41)\n",
      "  religiousorgs                   85.16 (85.38)\n",
      "  eventservices                   84.63 (84.76)\n",
      "  hotelstravel                    84.63 (84.72)\n",
      "  active                          84.61 (84.69)\n",
      "  restaurants                     84.58 (84.67)\n",
      "  food                            84.51 (84.58)\n",
      "  nightlife                       83.45 (83.59)\n",
      "  localflavor                     81.49 (81.66)\n",
      "  publicservicesgovt              81.05 (81.13)\n",
      "  arts                            80.81 (80.98)\n"
     ]
    }
   ],
   "metadata": {}
  },
  {
   "cell_type": "code",
   "execution_count": null,
   "source": [],
   "outputs": [],
   "metadata": {}
  },
  {
   "cell_type": "markdown",
   "source": [
    "## Tests"
   ],
   "metadata": {}
  },
  {
   "cell_type": "code",
   "execution_count": null,
   "source": [
    "if False:\n",
    "    category_name = \"Food\"\n",
    "\n",
    "    from data_prep import load_cached_root_category_businesses_df\n",
    "    from data_prep import filter_root_category_businesses_uniq\n",
    "    from data_prep import get_reviews_for_category\n",
    "\n",
    "    dn_yelp_cached = data_yelp_path / \"cached\"\n",
    "    df_food = load_cached_root_category_businesses_df(dn_yelp_cached, category_name, map_categories)\n",
    "    # df_food = get_reviews_for_category(df, category_name, inv_cat_bids, map_categories, map_cat_name2id)\n",
    "\n",
    "    df_uniq_food = filter_root_category_businesses_uniq(dn_yelp_cached, category_name, inv_cat_bids, map_categories, map_cat_name2id)\n",
    "\n",
    "    print(f\"reviews:\")\n",
    "    print(f\"         all: {len(df):8d}\")\n",
    "    print(f\"        food: {len(df_food):8d}\")\n",
    "    print(f\" food-unique: {len(df_uniq_food):8d}\")"
   ],
   "outputs": [],
   "metadata": {}
  }
 ],
 "metadata": {
  "kernelspec": {
   "display_name": "Python 3",
   "language": "python",
   "name": "python3"
  },
  "language_info": {
   "codemirror_mode": {
    "name": "ipython",
    "version": 3
   },
   "file_extension": ".py",
   "mimetype": "text/x-python",
   "name": "python",
   "nbconvert_exporter": "python",
   "pygments_lexer": "ipython3",
   "version": "3.8.5"
  }
 },
 "nbformat": 4,
 "nbformat_minor": 4
}
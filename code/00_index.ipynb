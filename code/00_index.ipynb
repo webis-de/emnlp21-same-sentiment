{
 "cells": [
  {
   "cell_type": "markdown",
   "source": [
    "# Index for Sameness Classification"
   ],
   "metadata": {}
  },
  {
   "cell_type": "markdown",
   "source": [
    "See [**README.md**](README.md) for setup notes."
   ],
   "metadata": {}
  },
  {
   "cell_type": "code",
   "execution_count": null,
   "source": [],
   "outputs": [],
   "metadata": {}
  },
  {
   "cell_type": "markdown",
   "source": [
    "## Data"
   ],
   "metadata": {}
  },
  {
   "cell_type": "markdown",
   "source": [
    "#### Yelp\n",
    "\n",
    "https://www.yelp.com/dataset/documentation/main  \n",
    "https://www.yelp.com/developers/documentation/v3/all_category_list  \n",
    "&rarr; `business.json` + `review.json` + `all_category_list.json`\n",
    "\n",
    "```bash\n",
    "# download\n",
    "\n",
    "# - https://www.yelp.com/dataset/download\n",
    "#   extract business.json / review.json\n",
    "\n",
    "# - https://www.yelp.com/developers/documentation/v3/all_category_list/categories.json\n",
    "#   as `all_category_list.json`\n",
    "```\n",
    "\n",
    "See [Yelp dataset license](https://s3-media0.fl.yelpcdn.com/assets/srv0/engineering_pages/bea5c1e92bf3/assets/vendor/yelp-dataset-agreement.pdf)!\n",
    "\n",
    "#### Amazon\n",
    "\n",
    "https://nijianmo.github.io/amazon/index.html#subsets\n",
    "\n",
    "\n",
    "#### IMDB\n",
    "\n",
    "http://ai.stanford.edu/~amaas/data/sentiment/  \n",
    "https://www.imdb.com/interfaces/\n",
    "\n",
    "only single pos + neg review for each film  \n",
    "&rarr; no review text!"
   ],
   "metadata": {}
  },
  {
   "cell_type": "markdown",
   "source": [
    "## Code"
   ],
   "metadata": {}
  },
  {
   "cell_type": "markdown",
   "source": [
    "[datasets.py](datasets.py)  \n",
    "dataset (caching etc.), train data args\n",
    "\n",
    "[metrics.py](metrics.py)  \n",
    "simple evaluation metrics\n",
    "\n",
    "[processors.py](processors.py)  \n",
    "dataset loading (TSV), processor lookup (task definitions?)  \n",
    "(_own processors in conversion code_)\n",
    "\n",
    "[trainer.py](trainer.py)  \n",
    "main run script, model args\n",
    "\n",
    "[utils.py](utils.py)  \n",
    "optional utilities (`Timer` for timed sections)\n",
    "\n",
    "[data_prep.py](data_prep.py)  \n",
    "&rarr; [data_prep_sentiment_yelp.py](data_prep_sentiment_yelp.py)  \n",
    "utility functions for data preparation, like loading, shuffling, filtering and writing TSVs\n",
    "\n",
    "[trainer_siamese.py](trainer_siamese.py)  \n",
    "main siamese baseline run script, train args\n",
    "\n",
    "[utils_siamese.py](utils_siamese.py)  \n",
    "[hf_argparser.py](hf_argparser.py)  \n",
    "utils for siamese baseline\n"
   ],
   "metadata": {}
  },
  {
   "cell_type": "markdown",
   "source": [
    "**NOTE:** Changed the original `Trainer` to use `do_test` for test evaluation, and to use `do_predict` for predictions not on `test.tsv` but on `pred.tsv`.  \n",
    "changed convention to use `test.tsv` for test evaluation and `pred.tsv` for predictions  \n",
    "_Side-note: just symlink `pred.tsv` &rarr; `test.tsv`_"
   ],
   "metadata": {}
  },
  {
   "cell_type": "markdown",
   "source": [
    "---"
   ],
   "metadata": {}
  },
  {
   "cell_type": "markdown",
   "source": [
    "## Notebooks"
   ],
   "metadata": {}
  },
  {
   "cell_type": "markdown",
   "source": [
    "[D2_samesentiment_yelp_create_pairs.ipynb](D2_samesentiment_yelp_create_pairs.ipynb)  \n",
    "Conversion of samesentiment (yelp reviews) data into pairs\n",
    "\n",
    "- review pair (samesentiment)  \n",
    "  (2 per pair type, at least 5 sentiments per business)\n",
    "- review pair (samesentiment)  \n",
    "  (double amount of pairs)\n",
    "- splits:  \n",
    "  90:10 traindev/test split  \n",
    "  70:30 train/dev split"
   ],
   "metadata": {}
  },
  {
   "cell_type": "markdown",
   "source": [
    "[D2_samesentiment_yelp_base.ipynb](D2_samesentiment_yelp_base.ipynb)  \n",
    "Conversion of samesentiment (yelp reviews) data\n",
    "\n",
    "- splits:  \n",
    "  90:10 traindev/test split  \n",
    "  70:30 train/dev split\n",
    "- review pair (samesentiment)  \n",
    "  (2 per pair type, at least 5 sentiments per business)\n",
    "- review pair (samesentiment)  \n",
    "  (double amount of pairs)"
   ],
   "metadata": {}
  },
  {
   "cell_type": "markdown",
   "source": [
    "[D2_samesentiment_yelp_sentiment.ipynb](D2_samesentiment_yelp_sentiment.ipynb)  \n",
    "Baseline data/tests for (single) sentiment evaluations\n",
    "\n",
    "- singe review sentiment  \n",
    "  90:10 traindev/test split  \n",
    "  70:30 train/dev split"
   ],
   "metadata": {}
  },
  {
   "cell_type": "markdown",
   "source": [
    "[D2_samesentiment_yelp_baseline_doc2vec.ipynb](D2_samesentiment_yelp_baseline_doc2vec.ipynb)  \n",
    "Baseline experiments\n",
    "\n",
    "- count vectors\n",
    "- doc2vec\n",
    "- different sklearn classifiers\n"
   ],
   "metadata": {}
  },
  {
   "cell_type": "markdown",
   "source": [
    "[D2_samesentiment_yelp_siamese.ipynb](D2_samesentiment_yelp_siamese.ipynb)  \n",
    "Baseline experiments using siamese networks.  \n",
    "See head notes about environment setup. May require separate environment due to conflicts torch/tensorflow.\n",
    "\n",
    "- sandbox code, wrapped in [trainer_siamese.py](trainer_siamese.py)\n",
    "- train + eval\n",
    "\n",
    "Code based on [GH: sainimohit23/siamese-text-similarity](https://github.com/sainimohit23/siamese-text-similarity)."
   ],
   "metadata": {}
  },
  {
   "cell_type": "markdown",
   "source": [
    "[D2_samesentiment_yelp_cross_setup.ipynb](D2_samesentiment_yelp_cross_setup.ipynb)  \n",
    "SameSentiment (yelp reviews) data with cross-validation.\n",
    "\n",
    "- generating of cross-validation datasets for each shard"
   ],
   "metadata": {}
  },
  {
   "cell_type": "markdown",
   "source": [
    "[D2_samesentiment_yelp_siamese_cross.ipynb](D2_samesentiment_yelp_siamese_cross.ipynb)  \n",
    "SameSentiment (yelp reviews) data with cross-validation using siamese baseline.  \n",
    "&rarr; with results\n",
    "\n",
    "- same as [D2_samesentiment_yelp_cross.ipynb](D2_samesentiment_yelp_cross.ipynb)\n",
    "- see [D2_samesentiment_yelp_cross_setup.ipynb](D2_samesentiment_yelp_cross_setup.ipynb) for data generation\n",
    "- run experiments (train on group / eval on splits...)"
   ],
   "metadata": {}
  },
  {
   "cell_type": "markdown",
   "source": [
    "[D2_samesentiment_yelp_cross.ipynb](D2_samesentiment_yelp_cross.ipynb)  \n",
    "SameSentiment (yelp reviews) data with cross-validation using transformers\n",
    "\n",
    "- same as [D2_samesentiment_yelp_base.ipynb](D2_samesentiment_yelp_base.ipynb)\n",
    "- see [D2_samesentiment_yelp_cross_setup.ipynb](D2_samesentiment_yelp_cross_setup.ipynb) for data generation\n",
    "- run experiments (train on group / eval on splits...)"
   ],
   "metadata": {}
  },
  {
   "cell_type": "markdown",
   "source": [
    "[D2_samesentiment_yelp_pair_eval.ipynb](D2_samesentiment_yelp_pair_eval.ipynb)  \n",
    "SameSentiment (yelp reviews) test evaluation on trained model for each pair type.\n",
    "\n",
    "- train a model in [D2_samesentiment_yelp_base.ipynb](D2_samesentiment_yelp_base.ipynb)\n",
    "- evaluate per pair-type"
   ],
   "metadata": {}
  },
  {
   "cell_type": "markdown",
   "source": [
    "[D2_samesentiment_yelp_cat_eval.ipynb](D2_samesentiment_yelp_cat_eval.ipynb)  \n",
    "SameSentiment (yelp reviews) test evaluation on trained model for each category.\n",
    "\n",
    "- train a model in [D2_samesentiment_yelp_base.ipynb](D2_samesentiment_yelp_base.ipynb)\n",
    "- evaluate per category (similar to pair-type)"
   ],
   "metadata": {}
  }
 ],
 "metadata": {
  "kernelspec": {
   "display_name": "Python 3",
   "language": "python",
   "name": "python3"
  },
  "language_info": {
   "codemirror_mode": {
    "name": "ipython",
    "version": 3
   },
   "file_extension": ".py",
   "mimetype": "text/x-python",
   "name": "python",
   "nbconvert_exporter": "python",
   "pygments_lexer": "ipython3",
   "version": "3.8.5"
  }
 },
 "nbformat": 4,
 "nbformat_minor": 4
}
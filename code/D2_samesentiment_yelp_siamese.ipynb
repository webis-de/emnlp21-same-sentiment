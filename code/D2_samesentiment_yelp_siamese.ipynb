{
 "cells": [
  {
   "cell_type": "markdown",
   "source": [
    "# Siamese Text Similarity"
   ],
   "metadata": {}
  },
  {
   "cell_type": "markdown",
   "source": [
    "- **https://github.com/sainimohit23/siamese-text-similarity**\n",
    "  - https://github.com/MahmoudWahdan/Siamese-Sentence-Similarity\n",
    "  - https://github.com/avinashsai/Siamese-Recurrent-Architectures-for-Sentence-Similarity\n",
    "  - https://github.com/TharinduDR/Siamese-Recurrent-Architectures\n",
    "- https://nlp.stanford.edu/projects/glove/\n",
    "  - https://nlp.stanford.edu/data/glove.6B.zip\n",
    "- `conda install tensorflow-gpu`\n",
    "- monkeypatch: https://github.com/tensorflow/models/issues/9706#issuecomment-877788105\n",
    "- https://www.pyimagesearch.com/2018/12/24/how-to-use-keras-fit-and-fit_generator-a-hands-on-tutorial/\n",
    "- https://keras.io/examples/nlp/bidirectional_lstm_imdb/\n",
    "\n",
    "```bash\n",
    "conda install tensorflow-gpu  # conda install cudatoolkits etc.\n",
    "conda install jupyterlab\n",
    "#conda install Keras  # ?\n",
    "# monkeypatch tensorflow array_ops ...\n",
    "pip install numpy tqdm matplotlib scikit-learn pandas\n",
    "```"
   ],
   "metadata": {}
  },
  {
   "cell_type": "code",
   "execution_count": null,
   "source": [
    "import csv\n",
    "import dataclasses\n",
    "import json\n",
    "import os\n",
    "import gc\n",
    "import pickle\n",
    "import re\n",
    "import string\n",
    "import time\n",
    "from dataclasses import dataclass\n",
    "from enum import Enum\n",
    "from typing import List, Optional, Union\n",
    "\n",
    "import numpy as np\n",
    "\n",
    "import tensorflow as tf\n",
    "from tensorflow import keras\n",
    "from tensorflow.keras import layers\n",
    "from tensorflow.keras import backend as K\n",
    "from tensorflow.keras.callbacks import EarlyStopping, ModelCheckpoint, TensorBoard\n",
    "from tensorflow.keras.initializers import Constant\n",
    "from tensorflow.keras.layers import Bidirectional, LSTM, Input, Dense, BatchNormalization, Dropout\n",
    "from tensorflow.keras.layers import Embedding\n",
    "from tensorflow.keras.layers import concatenate\n",
    "from tensorflow.keras.preprocessing.sequence import pad_sequences\n",
    "from tensorflow.keras.preprocessing.text import Tokenizer\n",
    "#from tqdm.keras import TqdmCallback\n"
   ],
   "outputs": [],
   "metadata": {
    "tags": []
   }
  },
  {
   "cell_type": "code",
   "execution_count": null,
   "source": [
    "import tensorflow as tf\n",
    "\n",
    "print(\"Num GPUs Available: \", len(tf.config.experimental.list_physical_devices('GPU')))\n",
    "tf.config.list_physical_devices('GPU')"
   ],
   "outputs": [],
   "metadata": {
    "collapsed": true,
    "jupyter": {
     "outputs_hidden": true
    },
    "tags": []
   }
  },
  {
   "cell_type": "markdown",
   "source": [
    "classes"
   ],
   "metadata": {}
  },
  {
   "cell_type": "code",
   "execution_count": 3,
   "source": [
    "# https://github.com/huggingface/transformers/blob/9f72e8f4e1e767c5f608dd135199e592255b8a69/src/transformers/data/processors/utils.py\n",
    "\n",
    "\n",
    "@dataclass\n",
    "class InputExample:\n",
    "    \"\"\"\n",
    "    A single training/test example for simple sequence classification.\n",
    "    Args:\n",
    "        guid: Unique id for the example.\n",
    "        text_a: string. The untokenized text of the first sequence. For single\n",
    "            sequence tasks, only this sequence must be specified.\n",
    "        text_b: (Optional) string. The untokenized text of the second sequence.\n",
    "            Only must be specified for sequence pair tasks.\n",
    "        label: (Optional) string. The label of the example. This should be\n",
    "            specified for train and dev examples, but not for test examples.\n",
    "    \"\"\"\n",
    "\n",
    "    guid: str\n",
    "    text_a: str\n",
    "    text_b: Optional[str] = None\n",
    "    label: Optional[str] = None\n",
    "\n",
    "    def to_json_string(self):\n",
    "        \"\"\"Serializes this instance to a JSON string.\"\"\"\n",
    "        return json.dumps(dataclasses.asdict(self), indent=2) + \"\\n\"\n",
    "    \n",
    "\n",
    "class Split(Enum):\n",
    "    train = \"train\"\n",
    "    dev = \"dev\"\n",
    "    test = \"test\"\n",
    "    pred = \"pred\"\n",
    "\n",
    "\n",
    "class SameSentimentDataProcessor:\n",
    "    \"\"\"Base class for data converters for sequence classification data sets.\"\"\"\n",
    "    \n",
    "    def get_example_from_tensor_dict(self, tensor_dict):\n",
    "        \"\"\"\n",
    "        Gets an example from a dict with tensorflow tensors.\n",
    "        Args:\n",
    "            tensor_dict: Keys and values should match the corresponding Glue\n",
    "                tensorflow_dataset examples.\n",
    "        \"\"\"\n",
    "        return InputExample(\n",
    "            tensor_dict[\"idx\"].numpy(),\n",
    "            tensor_dict[\"sentence1\"].numpy().decode(\"utf-8\"),\n",
    "            tensor_dict[\"sentence2\"].numpy().decode(\"utf-8\"),\n",
    "            str(tensor_dict[\"label\"].numpy()),\n",
    "        )\n",
    "    \n",
    "    def get_train_examples(self, data_dir):\n",
    "        \"\"\"Gets a collection of :class:`InputExample` for the train set.\"\"\"\n",
    "        return self._create_examples(\n",
    "            self._read_tsv(os.path.join(data_dir, \"train.tsv\")), \"train\"\n",
    "        )\n",
    "\n",
    "    def get_dev_examples(self, data_dir):\n",
    "        \"\"\"Gets a collection of :class:`InputExample` for the dev set.\"\"\"\n",
    "        return self._create_examples(\n",
    "            self._read_tsv(os.path.join(data_dir, \"dev.tsv\")), \"dev\"\n",
    "        )\n",
    "\n",
    "    def get_test_examples(self, data_dir):\n",
    "        \"\"\"Gets a collection of :class:`InputExample` for the test set.\"\"\"\n",
    "        return self._create_examples(\n",
    "            self._read_tsv(os.path.join(data_dir, \"test.tsv\")), \"test\"\n",
    "        )\n",
    "\n",
    "    def get_pred_examples(self, data_dir):\n",
    "        \"\"\"Get prediction examples (no label in dataset).\"\"\"\n",
    "        return self._create_examples(\n",
    "            self._read_tsv(os.path.join(data_dir, \"pred.tsv\")), \"pred\"\n",
    "        )\n",
    "    \n",
    "    def get_labels(self):\n",
    "        \"\"\"Gets the list of labels for this data set.\"\"\"\n",
    "        return [\"0\", \"1\"]\n",
    "        \n",
    "    def _create_examples(self, lines, set_type):\n",
    "        \"\"\"Creates examples for the training, dev and test sets.\"\"\"\n",
    "        examples = []\n",
    "        for (i, line) in enumerate(lines):\n",
    "            # TODO: has headers?\n",
    "            # if i == 0:\n",
    "            #     continue\n",
    "            guid = \"%s-%s\" % (set_type, line[0])\n",
    "            text_a = line[1]\n",
    "            text_b = line[2]\n",
    "            label = None if set_type == \"pred\" else line[-1]\n",
    "            examples.append(\n",
    "                InputExample(guid=guid, text_a=text_a, text_b=text_b, label=label)\n",
    "            )\n",
    "        return examples\n",
    "\n",
    "    def tfds_map(self, example):\n",
    "        \"\"\"\n",
    "        Some tensorflow_datasets datasets are not formatted the same way the GLUE datasets are. This method converts\n",
    "        examples to the correct format.\n",
    "        \"\"\"\n",
    "        if len(self.get_labels()) > 1:\n",
    "            example.label = self.get_labels()[int(example.label)]\n",
    "        return example\n",
    "\n",
    "    @classmethod\n",
    "    def _read_tsv(cls, input_file, quotechar=None):\n",
    "        \"\"\"Reads a tab separated value file.\"\"\"\n",
    "        with open(input_file, \"r\", encoding=\"utf-8-sig\") as f:\n",
    "            return list(csv.reader(f, delimiter=\"\\t\", quotechar=quotechar))"
   ],
   "outputs": [],
   "metadata": {
    "jupyter": {
     "source_hidden": true
    },
    "tags": []
   }
  },
  {
   "cell_type": "markdown",
   "source": [
    "---"
   ],
   "metadata": {}
  },
  {
   "cell_type": "code",
   "execution_count": 4,
   "source": [
    "EMBEDDING_DIM = 50  # 50, 100, 200, 300\n",
    "MAX_SEQUENCE_LENGTH = 256\n",
    "VALIDATION_SPLIT = 0.1  # ?\n",
    "RATE_DROP_LSTM = 0.17\n",
    "RATE_DROP_DENSE = 0.25\n",
    "NUMBER_LSTM = 50  # 15\n",
    "NUMBER_DENSE_UNITS = 50\n",
    "ACTIVATION_FUNCTION = 'relu'\n",
    "\n",
    "NUM_EPOCHS = 20  # 200\n",
    "BATCH_SIZE = 512  # 1024  # 64\n",
    "\n",
    "assert EMBEDDING_DIM in (50, 100, 200, 300)\n",
    "fn_vectors = \"../test/siamese-text-similarity/glove.6B.{}d.txt\".format(EMBEDDING_DIM)\n",
    "fn_data = \"./data/sentiment/yelp-pair-b\"\n",
    "path = \"data/siamese\"\n",
    "\n",
    "os.makedirs(path, exist_ok=True)\n",
    "\n",
    "fn_cached_vocab = os.path.join(path, \"cached_vocab_{}.p\".format(EMBEDDING_DIM))\n",
    "fn_cached_train = os.path.join(path, \"cached_{}_{}.p\".format(Split.train.value, MAX_SEQUENCE_LENGTH))\n",
    "fn_cached_dev = os.path.join(path, \"cached_{}_{}.p\".format(Split.dev.value, MAX_SEQUENCE_LENGTH))\n",
    "fn_cached_test = os.path.join(path, \"cached_{}_{}.p\".format(Split.test.value, MAX_SEQUENCE_LENGTH))\n",
    "fn_best_model = os.path.join(path, \"bestmodel_{}_{}_{}.txt\".format(MAX_SEQUENCE_LENGTH, NUM_EPOCHS, BATCH_SIZE))"
   ],
   "outputs": [],
   "metadata": {}
  },
  {
   "cell_type": "markdown",
   "source": [
    "---"
   ],
   "metadata": {}
  },
  {
   "cell_type": "markdown",
   "source": [
    "load data (prep text fn)"
   ],
   "metadata": {}
  },
  {
   "cell_type": "code",
   "execution_count": 5,
   "source": [
    "def load_tsv_data(data_dir, processor, mode=None):\n",
    "    if mode == Split.dev:\n",
    "        examples = processor.get_dev_examples(data_dir)\n",
    "    elif mode == Split.test:\n",
    "        examples = processor.get_test_examples(data_dir)\n",
    "    elif mode == Split.pred:\n",
    "        examples = processor.get_pred_examples(data_dir)\n",
    "    else:\n",
    "        examples = processor.get_train_examples(data_dir)\n",
    "\n",
    "    guid, text_a, text_b, label = list(), list(), list(), list()\n",
    "    for example in examples:\n",
    "        guid.append(example.guid)\n",
    "        text_a.append(example.text_a)\n",
    "        text_b.append(example.text_b)\n",
    "        label.append(example.label)\n",
    "        \n",
    "    guid = np.array(guid)\n",
    "    text_a = np.array(text_a)\n",
    "    text_b = np.array(text_b)\n",
    "    label = np.array(label)\n",
    "\n",
    "    return guid, text_a, text_b, label"
   ],
   "outputs": [],
   "metadata": {
    "jupyter": {
     "source_hidden": true
    },
    "tags": []
   }
  },
  {
   "cell_type": "code",
   "execution_count": 6,
   "source": [
    "def clean_text(lines):\n",
    "    '''Clean text by removing unnecessary characters and altering the format of words.'''\n",
    "    re_print = re.compile('[^%s]' % re.escape(string.printable))\n",
    "    cleaned = list()\n",
    "    for text in lines:\n",
    "        text = text.lower()\n",
    "        \n",
    "        text = re.sub(r\"i'm\", \"i am\", text)\n",
    "        text = re.sub(r\"he's\", \"he is\", text)\n",
    "        text = re.sub(r\"she's\", \"she is\", text)\n",
    "        text = re.sub(r\"it's\", \"it is\", text)\n",
    "        text = re.sub(r\"that's\", \"that is\", text)\n",
    "        text = re.sub(r\"what's\", \"that is\", text)\n",
    "        text = re.sub(r\"where's\", \"where is\", text)\n",
    "        text = re.sub(r\"how's\", \"how is\", text)\n",
    "        text = re.sub(r\"\\'ll\", \" will\", text)\n",
    "        text = re.sub(r\"\\'ve\", \" have\", text)\n",
    "        text = re.sub(r\"\\'re\", \" are\", text)\n",
    "        text = re.sub(r\"\\'d\", \" would\", text)\n",
    "        text = re.sub(r\"\\'re\", \" are\", text)\n",
    "        text = re.sub(r\"won't\", \"will not\", text)\n",
    "        text = re.sub(r\"can't\", \"cannot\", text)\n",
    "        text = re.sub(r\"n't\", \" not\", text)\n",
    "        text = re.sub(r\"n'\", \"ng\", text)\n",
    "        text = re.sub(r\"'bout\", \"about\", text)\n",
    "        text = re.sub(r\"'til\", \"until\", text)\n",
    "        # remove punctuation\n",
    "        text = re.sub(r\"[$-()\\\"#/@;:<>{}`+=~|.!?,'*-]\", \"\", text)\n",
    "                         \n",
    "        text = text.split()\n",
    "        text = [re_print.sub('', w) for w in text]\n",
    "        \n",
    "        cleaned.append(' '.join(text))\n",
    "\n",
    "    cleaned = np.array(cleaned)\n",
    "\n",
    "    return cleaned"
   ],
   "outputs": [],
   "metadata": {
    "jupyter": {
     "source_hidden": true
    },
    "tags": []
   }
  },
  {
   "cell_type": "code",
   "execution_count": 7,
   "source": [
    "def read_glove_vectors(path):\n",
    "    \"\"\"\n",
    "    read Glove Vector Embeddings\n",
    "    \"\"\"\n",
    "    \n",
    "    with open(path, encoding='utf8') as f:\n",
    "        words = set()\n",
    "        word_to_vec_map = {}\n",
    "        \n",
    "        for line in f:\n",
    "            line = line.strip().split()\n",
    "            cur_word = line[0]\n",
    "            words.add(cur_word)\n",
    "            word_to_vec_map[cur_word] = np.array(line[1:], dtype=np.float64)\n",
    "\n",
    "    i = 1\n",
    "    words_to_index = {}\n",
    "    index_to_words = {}\n",
    "    for w in sorted(words):\n",
    "        words_to_index[w] = i\n",
    "        index_to_words[i] = w\n",
    "        i = i + 1\n",
    "\n",
    "    return words_to_index, index_to_words, word_to_vec_map\n",
    "\n",
    "\n",
    "def update_special_tokens(vocab_to_int, int_to_vocab, word_to_vec_map):\n",
    "    \"\"\" Special Tokens \"\"\"\n",
    "    for code in ['<PAD>', '<EOS>', '<UNK>', '<GO>']:\n",
    "        vocab_to_int[code] = len(vocab_to_int) + 1\n",
    "        int_to_vocab[len(int_to_vocab)+1] = code\n",
    "        word_to_vec_map[code] = np.random.random(50)\n",
    "    \n",
    "    return vocab_to_int, int_to_vocab, word_to_vec_map"
   ],
   "outputs": [],
   "metadata": {
    "jupyter": {
     "source_hidden": true
    },
    "tags": []
   }
  },
  {
   "cell_type": "markdown",
   "source": [
    "preprocess"
   ],
   "metadata": {
    "tags": []
   }
  },
  {
   "cell_type": "code",
   "execution_count": 8,
   "source": [
    "def preprocess(fn_data, vocab_to_int, int_to_vocab, word_to_vec_map, max_len=15, mode=None, filter_too_long=False):\n",
    "    processor = SameSentimentDataProcessor()\n",
    "    \n",
    "    guid, sent1, sent2, labels = load_tsv_data(fn_data, processor, mode)\n",
    "\n",
    "    # --------------------------------\n",
    "\n",
    "    # clean text, remove contractions, tokenize\n",
    "    sent1 = clean_text(sent1)\n",
    "    sent2 = clean_text(sent2)\n",
    "\n",
    "    guid = np.array(guid)\n",
    "    sent1 = np.array(sent1)\n",
    "    sent2 = np.array(sent2)\n",
    "    labels = np.array(labels)\n",
    "\n",
    "    # --------------------------------\n",
    "    \n",
    "    if filter_too_long:\n",
    "        # remove everything to long\n",
    "        def get_short_indices(length, sentences):\n",
    "            \"\"\"\n",
    "            Filter out sequences with length \"length\"\n",
    "            \"\"\"\n",
    "            idx = np.zeros((len(sentences)), dtype=bool)   \n",
    "            for num, sent in enumerate(sentences):\n",
    "                if len(sent.strip().split()) <= length:\n",
    "                    idx[num] = 1\n",
    "            return idx\n",
    "\n",
    "        dx = get_short_indices(max_len, sent1)\n",
    "        guid = guid[dx]\n",
    "        sent1 = sent1[dx]\n",
    "        sent2 = sent2[dx]\n",
    "        labels = labels[dx]\n",
    "\n",
    "        dx = get_short_indices(max_len, sent2)\n",
    "        guid = guid[dx]\n",
    "        sent1 = sent1[dx]\n",
    "        sent2 = sent2[dx]\n",
    "        labels = labels[dx]\n",
    "        \n",
    "    else:\n",
    "        # just trim first, so leaks do not contain the pad character\n",
    "        def _trim_too_long(length, sentences):\n",
    "            for idx in range(len(sentences)):\n",
    "                tokens = sentences[idx].strip().split()\n",
    "                tokens = tokens[:length]\n",
    "                sentences[idx] = \" \".join(tokens)\n",
    "            return sentences\n",
    "        \n",
    "        sent1 = _trim_too_long(max_len, sent1)\n",
    "        sent2 = _trim_too_long(max_len, sent2)\n",
    "\n",
    "    # --------------------------------\n",
    "\n",
    "    # encode labels\n",
    "    label_list = processor.get_labels()\n",
    "    label_map = {label: i for i, label in enumerate(label_list)}\n",
    "    labels = np.array([label_map[l] for l in labels])\n",
    "\n",
    "    # --------------------------------\n",
    "\n",
    "    # tokenize\n",
    "    sent1_tokenized = []\n",
    "    for sent in sent1:\n",
    "        li= []\n",
    "        for word in sent.strip().split():\n",
    "            if word in vocab_to_int.keys():\n",
    "                li.append(vocab_to_int[word])\n",
    "            else:\n",
    "                li.append(vocab_to_int['<UNK>'])\n",
    "        sent1_tokenized.append(li)\n",
    "\n",
    "    sent2_tokenized = []\n",
    "    for sent in sent2:\n",
    "        li= []\n",
    "        for word in sent.strip().split():\n",
    "            if word in vocab_to_int.keys(): \n",
    "                li.append(vocab_to_int[word])\n",
    "            else:\n",
    "                li.append(vocab_to_int['<UNK>'])\n",
    "        sent2_tokenized.append(li)\n",
    "\n",
    "    # --------------------------------\n",
    "\n",
    "    del sent1, sent2 #freeing up the memory\n",
    "    gc.collect()\n",
    "\n",
    "    # --------------------------------\n",
    "\n",
    "    # Keeping track of common words\n",
    "    leaks = [[len(set(x1)), len(set(x2)), len(set(x1).intersection(x2))] \n",
    "            for x1, x2 in zip(sent1_tokenized, sent2_tokenized)]\n",
    "    leaks = np.array(leaks)\n",
    "\n",
    "    # --------------------------------\n",
    "\n",
    "    # padding the sequences\n",
    "    sent1_padded = pad_sequences(sent1_tokenized, maxlen=max_len, padding='post', truncating='post', value=vocab_to_int['<PAD>'])\n",
    "    sent2_padded = pad_sequences(sent2_tokenized, maxlen=max_len, padding='post', truncating='post', value=vocab_to_int['<PAD>'])\n",
    "\n",
    "    # --------------------------------\n",
    "\n",
    "    del sent1_tokenized, sent2_tokenized #freeing up the memory\n",
    "    gc.collect()\n",
    "\n",
    "    # --------------------------------\n",
    "    \n",
    "    return (sent1_padded, sent2_padded, leaks, labels)"
   ],
   "outputs": [],
   "metadata": {
    "jupyter": {
     "source_hidden": true
    },
    "tags": []
   }
  },
  {
   "cell_type": "code",
   "execution_count": 9,
   "source": [
    "def get_vocab(fn_vectors, fn_cached_vocab):\n",
    "    if os.path.exists(fn_cached_vocab):\n",
    "        with open(fn_cached_vocab, \"rb\") as fp:\n",
    "            vocab_to_int, int_to_vocab, word_to_vec_map = pickle.load(fp)\n",
    "    else:\n",
    "        vocab_to_int, int_to_vocab, word_to_vec_map = read_glove_vectors(fn_vectors)\n",
    "        vocab_to_int, int_to_vocab, word_to_vec_map = update_special_tokens(vocab_to_int, int_to_vocab, word_to_vec_map)\n",
    "\n",
    "        with open(fn_cached_vocab, \"wb\") as fp:\n",
    "            pickle.dump((vocab_to_int, int_to_vocab, word_to_vec_map), fp, protocol=pickle.HIGHEST_PROTOCOL)\n",
    "            \n",
    "    return vocab_to_int, int_to_vocab, word_to_vec_map\n",
    "\n",
    "\n",
    "def get_samples(fn_data, mode, vocab_to_int, int_to_vocab, word_to_vec_map, fn_cached=None):\n",
    "    if fn_cached is None:\n",
    "        fn_cached = os.path.join(path, \"cached_{}_{}.p\".format(mode.value, MAX_SEQUENCE_LENGTH))\n",
    "\n",
    "    if os.path.exists(fn_cached):\n",
    "        print(\"Cached samples exist: {}\".format(fn_cached))\n",
    "        with open(fn_cached, \"rb\") as fp:\n",
    "            return pickle.load(fp)\n",
    "\n",
    "    sent1_padded, sent2_padded, leaks, labels = preprocess(\n",
    "        fn_data=fn_data,\n",
    "        vocab_to_int=vocab_to_int, int_to_vocab=int_to_vocab, word_to_vec_map=word_to_vec_map,\n",
    "        max_len=MAX_SEQUENCE_LENGTH,\n",
    "        mode=mode,\n",
    "    )\n",
    "\n",
    "    print(\"Write cached samples to: {}\".format(fn_cached))\n",
    "    with open(fn_cached, \"wb\") as fp:\n",
    "        pickle.dump((sent1_padded, sent2_padded, leaks, labels), fp, protocol=pickle.HIGHEST_PROTOCOL)\n",
    "        \n",
    "    return sent1_padded, sent2_padded, leaks, labels"
   ],
   "outputs": [],
   "metadata": {
    "jupyter": {
     "source_hidden": true
    },
    "tags": []
   }
  },
  {
   "cell_type": "code",
   "execution_count": 10,
   "source": [
    "def load_preprocess(filename):\n",
    "    with open(filename, mode='rb') as in_file:\n",
    "        return pickle.load(in_file)"
   ],
   "outputs": [],
   "metadata": {
    "jupyter": {
     "source_hidden": true
    },
    "tags": []
   }
  },
  {
   "cell_type": "code",
   "execution_count": 11,
   "source": [
    "def create_test_data(sent1, sent2, vocab_to_int):\n",
    "    sent1 = clean_text(sent1)\n",
    "    sent2 = clean_text(sent2)\n",
    "    sent1 = np.array(sent1)\n",
    "    sent2 = np.array(sent2)\n",
    "\n",
    "    # --------------------------------\n",
    "    \n",
    "    def _trim_too_long(length, sentences):\n",
    "        for idx in range(len(sentences)):\n",
    "            tokens = sentences[idx].strip().split()\n",
    "            tokens = tokens[:length]\n",
    "            sentences[idx] = \" \".join(tokens)\n",
    "        return sentences\n",
    "\n",
    "    sent1 = _trim_too_long(max_len, sent1)\n",
    "    sent2 = _trim_too_long(max_len, sent2)\n",
    "\n",
    "    # --------------------------------\n",
    "\n",
    "    sent1_tokenized = []\n",
    "    for sent in sent1:\n",
    "        li= []\n",
    "        for word in sent.strip().split():\n",
    "            if word in vocab_to_int.keys():\n",
    "                li.append(vocab_to_int[word])\n",
    "            else:\n",
    "                li.append(vocab_to_int['<UNK>'])\n",
    "        sent1_tokenized.append(li)\n",
    "    \n",
    "    sent2_tokenized = []\n",
    "    for sent in sent2:\n",
    "        li= []\n",
    "        for word in sent.strip().split():\n",
    "            if word in vocab_to_int.keys(): \n",
    "                li.append(vocab_to_int[word])\n",
    "            else:\n",
    "                li.append(vocab_to_int['<UNK>'])\n",
    "        sent2_tokenized.append(li)\n",
    "\n",
    "    # --------------------------------\n",
    "        \n",
    "    del sent1, sent2 #freeing up the memory\n",
    "    gc.collect()\n",
    "\n",
    "    # --------------------------------\n",
    "    \n",
    "    # Keeping track of common words\n",
    "    leaks = [[len(set(x1)), len(set(x2)), len(set(x1).intersection(x2))] \n",
    "            for x1, x2 in zip(sent1_tokenized, sent2_tokenized)]\n",
    "    leaks = np.array(leaks)\n",
    "\n",
    "    # --------------------------------\n",
    "    \n",
    "    #padding the sequences\n",
    "    sent1_padded = pad_sequences(sent1_tokenized, maxlen=15, padding='post', truncating='post', value=vocab_to_int['<PAD>'])\n",
    "    sent2_padded = pad_sequences(sent2_tokenized, maxlen=15, padding='post', truncating='post', value=vocab_to_int['<PAD>'])\n",
    "\n",
    "    # --------------------------------\n",
    "    \n",
    "    del sent1_tokenized, sent2_tokenized #freeing up the memory\n",
    "    gc.collect()\n",
    "\n",
    "    # --------------------------------\n",
    "    \n",
    "    return (sent1_padded, sent2_padded, leaks)"
   ],
   "outputs": [],
   "metadata": {
    "jupyter": {
     "source_hidden": true
    },
    "tags": []
   }
  },
  {
   "cell_type": "markdown",
   "source": [
    "model"
   ],
   "metadata": {
    "tags": []
   }
  },
  {
   "cell_type": "code",
   "execution_count": 12,
   "source": [
    "def pretrained_embedding_layer(word_to_vec_map, words_to_index):\n",
    "    emb_dim = word_to_vec_map['pen'].shape[0]\n",
    "    vocab_size = len(words_to_index) + 1\n",
    "    emb_matrix = np.zeros((vocab_size, emb_dim))\n",
    "    \n",
    "    for word, index in words_to_index.items():\n",
    "        emb_matrix[index, :] = word_to_vec_map[word]\n",
    "    \n",
    "    #emb_matrix = tf.convert_to_tensor(emb_matrix, dtype=tf.float32) \n",
    "    #emb_layer = Embedding(vocab_size, emb_dim, embeddings_initializer=Constant(emb_matrix), trainable=False)\n",
    "    \n",
    "    emb_layer = Embedding(vocab_size, emb_dim, trainable=True)\n",
    "    emb_layer.build((None,))\n",
    "    emb_layer.set_weights([emb_matrix])\n",
    "    \n",
    "    return emb_layer"
   ],
   "outputs": [],
   "metadata": {
    "jupyter": {
     "source_hidden": true
    },
    "tags": []
   }
  },
  {
   "cell_type": "code",
   "execution_count": 13,
   "source": [
    "def get_uncompiled_model(word_to_vec_map, vocab_to_int, leaks, labels):\n",
    "    embedding_layer = pretrained_embedding_layer(word_to_vec_map, vocab_to_int)\n",
    "    lstm_layer1 = Bidirectional(LSTM(NUMBER_LSTM, dropout=RATE_DROP_LSTM, recurrent_dropout=RATE_DROP_LSTM, return_sequences=True))\n",
    "    lstm_layer2 = Bidirectional(LSTM(NUMBER_LSTM, dropout=RATE_DROP_LSTM, recurrent_dropout=RATE_DROP_LSTM))\n",
    "    dropout_layer = Dropout(0.5)\n",
    "\n",
    "    seq1_inp = Input(shape=(MAX_SEQUENCE_LENGTH, ), dtype='int32', name='seq1_inp')\n",
    "    net1 = embedding_layer(seq1_inp)\n",
    "    net1 = lstm_layer1(net1)\n",
    "    net1 = dropout_layer(net1)\n",
    "    out1 = lstm_layer2(net1)\n",
    "\n",
    "    seq2_inp = Input(shape=(MAX_SEQUENCE_LENGTH, ), dtype='int32', name= 'seq2_inp')\n",
    "    net2 = embedding_layer(seq2_inp)\n",
    "    net2 = lstm_layer1(net2)\n",
    "    net2 = dropout_layer(net2)\n",
    "    out2 = lstm_layer2(net2)\n",
    "\n",
    "    leaks_inp = Input(shape=(leaks.shape[1],), name='leaks_inp')\n",
    "    leaks_out = Dense(units=int(NUMBER_DENSE_UNITS/2), activation=ACTIVATION_FUNCTION)(leaks_inp)\n",
    "\n",
    "    merged = concatenate([out1, out2, leaks_out])\n",
    "    merged = BatchNormalization()(merged)\n",
    "    merged = Dropout(RATE_DROP_DENSE)(merged)\n",
    "    merged = Dense(NUMBER_DENSE_UNITS, activation=ACTIVATION_FUNCTION)(merged)\n",
    "    merged = BatchNormalization()(merged)\n",
    "    merged = Dropout(RATE_DROP_DENSE)(merged)\n",
    "\n",
    "    # labels.shape[1]\n",
    "    preds = Dense(units=1, activation=\"sigmoid\", name='pred')(merged)\n",
    "\n",
    "    model = keras.models.Model(inputs=[seq1_inp, seq2_inp, leaks_inp], outputs=preds)\n",
    "\n",
    "    return model\n",
    "\n",
    "\n",
    "def get_compiled_model(word_to_vec_map, vocab_to_int, leaks, labels):\n",
    "    model = get_uncompiled_model(word_to_vec_map, vocab_to_int, leaks, labels)\n",
    "    model.compile(\n",
    "        loss='binary_crossentropy',\n",
    "        optimizer='adam',\n",
    "        metrics=['accuracy']\n",
    "    )\n",
    "    \n",
    "    return model"
   ],
   "outputs": [],
   "metadata": {
    "jupyter": {
     "source_hidden": true
    },
    "tags": []
   }
  },
  {
   "cell_type": "code",
   "execution_count": 14,
   "source": [
    "def data_generator(sent1, sent2, leaks, labels, batch_size):\n",
    "    while True:\n",
    "        idx = np.random.randint(len(sent1), size= batch_size)\n",
    "        x1_batch = sent1[idx]\n",
    "        x2_batch = sent2[idx]\n",
    "        labels_batch = labels[idx]\n",
    "        leaks_batch = leaks[idx]\n",
    "\n",
    "        x_data = {\n",
    "            'seq1_inp': x1_batch,\n",
    "            'seq2_inp': x2_batch,\n",
    "            'leaks_inp': leaks_batch\n",
    "        }\n",
    "        y_data = {\n",
    "            'pred': labels_batch\n",
    "        }\n",
    "\n",
    "        yield (x_data, y_data)"
   ],
   "outputs": [],
   "metadata": {
    "jupyter": {
     "source_hidden": true
    },
    "tags": []
   }
  },
  {
   "cell_type": "markdown",
   "source": [
    "---\n",
    "\n",
    "## prepare"
   ],
   "metadata": {}
  },
  {
   "cell_type": "code",
   "execution_count": 15,
   "source": [
    "if False:\n",
    "    ! rm {fn_cached_vocab}\n",
    "    ! rm {fn_cached_train} {fn_cached_dev} {fn_cached_test}"
   ],
   "outputs": [],
   "metadata": {}
  },
  {
   "cell_type": "code",
   "execution_count": 16,
   "source": [
    "vocab_to_int, int_to_vocab, word_to_vec_map = get_vocab(fn_vectors, fn_cached_vocab)"
   ],
   "outputs": [],
   "metadata": {}
  },
  {
   "cell_type": "code",
   "execution_count": null,
   "source": [
    "_ = get_samples(fn_data, Split.train, vocab_to_int, int_to_vocab, word_to_vec_map, fn_cached=fn_cached_train)\n",
    "_ = get_samples(fn_data, Split.dev, vocab_to_int, int_to_vocab, word_to_vec_map, fn_cached=fn_cached_dev)\n",
    "_ = get_samples(fn_data, Split.test, vocab_to_int, int_to_vocab, word_to_vec_map, fn_cached=fn_cached_test)"
   ],
   "outputs": [],
   "metadata": {}
  },
  {
   "cell_type": "markdown",
   "source": [
    "---\n",
    "\n",
    "## train"
   ],
   "metadata": {}
  },
  {
   "cell_type": "code",
   "execution_count": 18,
   "source": [
    "#vocab_to_int, int_to_vocab, word_to_vec_map = get_vocab(fn_vectors, fn_cached_vocab)\n",
    "#sent1, sent2, leaks, labels = get_samples(fn_data, Split.train, vocab_to_int, int_to_vocab, word_to_vec_map, fn_cached=fn_cached_train)\n",
    "#sent1_valid, sent2_valid, leaks_valid, labels_valid = get_samples(fn_data, Split.dev, vocab_to_int, int_to_vocab, word_to_vec_map, fn_cached=fn_cached_dev)\n",
    "\n",
    "vocab_to_int, int_to_vocab, word_to_vec_map = load_preprocess(fn_cached_vocab)\n",
    "sent1, sent2, leaks, labels = load_preprocess(fn_cached_train)\n",
    "sent1_valid, sent2_valid, leaks_valid, labels_valid = load_preprocess(fn_cached_dev)"
   ],
   "outputs": [],
   "metadata": {}
  },
  {
   "cell_type": "code",
   "execution_count": 19,
   "source": [
    "print(\"num train: \", len(labels))\n",
    "print(\"num dev:   \", len(labels_valid))\n",
    "\n",
    "if False:\n",
    "    np.random.seed(42)\n",
    "\n",
    "    idx_map = np.arange(len(labels))\n",
    "    idx_map = np.random.choice(idx_map, 30000, replace=False)\n",
    "    sent1, sent2, leaks, labels = sent1[idx_map], sent2[idx_map], leaks[idx_map], labels[idx_map]\n",
    "\n",
    "if True:\n",
    "    np.random.seed(43)\n",
    "\n",
    "    idx_map = np.arange(len(labels_valid))\n",
    "    idx_map = np.random.choice(idx_map, 10000, replace=False)\n",
    "    sent1_valid, sent2_valid, leaks_valid, labels_valid = sent1_valid[idx_map], sent2_valid[idx_map], leaks_valid[idx_map], labels_valid[idx_map]\n",
    "\n",
    "print(\"num train: \", len(labels))\n",
    "print(\"num dev:   \", len(labels_valid))"
   ],
   "outputs": [
    {
     "output_type": "stream",
     "name": "stdout",
     "text": [
      "num train:  359128\n",
      "num dev:    153912\n",
      "num train:  359128\n",
      "num dev:    10000\n"
     ]
    }
   ],
   "metadata": {}
  },
  {
   "cell_type": "code",
   "execution_count": 20,
   "source": [
    "labels = labels.astype(float)\n",
    "labels_valid = labels_valid.astype(float)"
   ],
   "outputs": [],
   "metadata": {}
  },
  {
   "cell_type": "code",
   "execution_count": null,
   "source": [
    "early_stopping = EarlyStopping(monitor='val_loss', patience=7)\n",
    "STAMP = 'lstm_%d_%d_%.2f_%.2f' % (NUMBER_LSTM, NUMBER_DENSE_UNITS, RATE_DROP_DENSE, RATE_DROP_LSTM)\n",
    "checkpoint_dir = os.path.join(path, 'checkpoints', str(int(time.time())))\n",
    "\n",
    "os.makedirs(checkpoint_dir, exist_ok=True)\n",
    "\n",
    "bst_model_path = os.path.join(checkpoint_dir, STAMP + '.h5')\n",
    "model_checkpoint = ModelCheckpoint(bst_model_path, save_best_only=True, save_weights_only=False)\n",
    "tensorboard = TensorBoard(log_dir=os.path.join(checkpoint_dir, \"logs\", \"{}\".format(time.time())))"
   ],
   "outputs": [],
   "metadata": {
    "collapsed": true,
    "jupyter": {
     "outputs_hidden": true
    },
    "tags": []
   }
  },
  {
   "cell_type": "code",
   "execution_count": null,
   "source": [
    "model = get_compiled_model(word_to_vec_map, vocab_to_int, leaks, labels)"
   ],
   "outputs": [],
   "metadata": {
    "collapsed": true,
    "jupyter": {
     "outputs_hidden": true
    },
    "tags": []
   }
  },
  {
   "cell_type": "code",
   "execution_count": 23,
   "source": [
    "model.summary()"
   ],
   "outputs": [
    {
     "output_type": "stream",
     "name": "stdout",
     "text": [
      "Model: \"model\"\n",
      "__________________________________________________________________________________________________\n",
      "Layer (type)                    Output Shape         Param #     Connected to                     \n",
      "==================================================================================================\n",
      "seq1_inp (InputLayer)           [(None, 256)]        0                                            \n",
      "__________________________________________________________________________________________________\n",
      "seq2_inp (InputLayer)           [(None, 256)]        0                                            \n",
      "__________________________________________________________________________________________________\n",
      "embedding (Embedding)           (None, 256, 50)      20000250    seq1_inp[0][0]                   \n",
      "                                                                 seq2_inp[0][0]                   \n",
      "__________________________________________________________________________________________________\n",
      "bidirectional (Bidirectional)   (None, 256, 100)     40400       embedding[0][0]                  \n",
      "                                                                 embedding[1][0]                  \n",
      "__________________________________________________________________________________________________\n",
      "dropout (Dropout)               (None, 256, 100)     0           bidirectional[0][0]              \n",
      "                                                                 bidirectional[1][0]              \n",
      "__________________________________________________________________________________________________\n",
      "leaks_inp (InputLayer)          [(None, 3)]          0                                            \n",
      "__________________________________________________________________________________________________\n",
      "bidirectional_1 (Bidirectional) (None, 100)          60400       dropout[0][0]                    \n",
      "                                                                 dropout[1][0]                    \n",
      "__________________________________________________________________________________________________\n",
      "dense (Dense)                   (None, 25)           100         leaks_inp[0][0]                  \n",
      "__________________________________________________________________________________________________\n",
      "concatenate (Concatenate)       (None, 225)          0           bidirectional_1[0][0]            \n",
      "                                                                 bidirectional_1[1][0]            \n",
      "                                                                 dense[0][0]                      \n",
      "__________________________________________________________________________________________________\n",
      "batch_normalization (BatchNorma (None, 225)          900         concatenate[0][0]                \n",
      "__________________________________________________________________________________________________\n",
      "dropout_1 (Dropout)             (None, 225)          0           batch_normalization[0][0]        \n",
      "__________________________________________________________________________________________________\n",
      "dense_1 (Dense)                 (None, 50)           11300       dropout_1[0][0]                  \n",
      "__________________________________________________________________________________________________\n",
      "batch_normalization_1 (BatchNor (None, 50)           200         dense_1[0][0]                    \n",
      "__________________________________________________________________________________________________\n",
      "dropout_2 (Dropout)             (None, 50)           0           batch_normalization_1[0][0]      \n",
      "__________________________________________________________________________________________________\n",
      "pred (Dense)                    (None, 1)            51          dropout_2[0][0]                  \n",
      "==================================================================================================\n",
      "Total params: 20,113,601\n",
      "Trainable params: 20,113,051\n",
      "Non-trainable params: 550\n",
      "__________________________________________________________________________________________________\n"
     ]
    }
   ],
   "metadata": {
    "collapsed": true,
    "jupyter": {
     "outputs_hidden": true
    },
    "tags": []
   }
  },
  {
   "cell_type": "code",
   "execution_count": 24,
   "source": [
    "generator = data_generator(sent1, sent2, leaks, labels, BATCH_SIZE)"
   ],
   "outputs": [],
   "metadata": {}
  },
  {
   "cell_type": "code",
   "execution_count": null,
   "source": [
    "NUM_TRAIN_SAMPLES = len(labels)\n",
    "\n",
    "print(\"number of train samples: \", NUM_TRAIN_SAMPLES)\n",
    "print(\"batch size:              \", BATCH_SIZE)\n",
    "print(\"number of epochs:        \", NUM_EPOCHS)\n",
    "print(\"steps per epoch:         \", NUM_TRAIN_SAMPLES // BATCH_SIZE)\n",
    "\n",
    "# _ = \"\"\"\n",
    "H = model.fit(\n",
    "    x=generator,\n",
    "    steps_per_epoch=NUM_TRAIN_SAMPLES // BATCH_SIZE,\n",
    "    epochs=NUM_EPOCHS,\n",
    "    callbacks=[\n",
    "        early_stopping,\n",
    "        model_checkpoint,\n",
    "        tensorboard,\n",
    "        #TqdmCallback(verbose=0),\n",
    "    ],\n",
    "    #verbose=0,\n",
    "    validation_data=(\n",
    "        [sent1_valid, sent2_valid, leaks_valid],\n",
    "        labels_valid\n",
    "    ),\n",
    "    #validation_steps=NUM_TRAIN_SAMPLES // BS,\n",
    ")\n",
    "# \"\"\"\n",
    "\n",
    "_ = \"\"\"\n",
    "H = model.fit_generator(\n",
    "    generator,\n",
    "    steps_per_epoch=80,\n",
    "    epochs=NUM_EPOCHS,\n",
    "    callbacks=[\n",
    "        early_stopping,\n",
    "        model_checkpoint,\n",
    "        tensorboard\n",
    "    ],\n",
    "    validation_data=(\n",
    "        [sent1_valid, sent2_valid, leaks_valid],\n",
    "        labels_valid\n",
    "    )\n",
    ")\n",
    "\"\"\"\n",
    "\n",
    "with open('bestmodel.txt', 'w') as file:\n",
    "    file.write(bst_model_path)"
   ],
   "outputs": [],
   "metadata": {
    "collapsed": true,
    "jupyter": {
     "outputs_hidden": true
    },
    "tags": []
   }
  },
  {
   "cell_type": "code",
   "execution_count": 33,
   "source": [
    "import matplotlib.pyplot as plt\n",
    "\n",
    "N = min(NUM_EPOCHS, len(H.history[\"loss\"]))\n",
    "\n",
    "plt.style.use(\"ggplot\")\n",
    "plt.figure()\n",
    "plt.plot(np.arange(0, N), H.history[\"loss\"], label=\"train_loss\")\n",
    "plt.plot(np.arange(0, N), H.history[\"val_loss\"], label=\"val_loss\")\n",
    "plt.plot(np.arange(0, N), H.history[\"accuracy\"], label=\"train_acc\")\n",
    "plt.plot(np.arange(0, N), H.history[\"val_accuracy\"], label=\"val_acc\")\n",
    "plt.title(\"Training Loss and Accuracy on Dataset\")\n",
    "plt.xlabel(\"Epoch #\")\n",
    "plt.ylabel(\"Loss/Accuracy\")\n",
    "plt.legend(loc=\"lower left\")\n",
    "plt.savefig(\"plot.png\")"
   ],
   "outputs": [
    {
     "output_type": "display_data",
     "data": {
      "image/png": "[encoded data removed]",
      "text/plain": [
       "<Figure size 432x288 with 1 Axes>"
      ]
     },
     "metadata": {}
    }
   ],
   "metadata": {}
  },
  {
   "cell_type": "markdown",
   "source": [
    "---\n",
    "\n",
    "## predict"
   ],
   "metadata": {}
  },
  {
   "cell_type": "code",
   "execution_count": null,
   "source": [
    "with open('bestmodel.txt', 'r') as file:\n",
    "    best_model_path = file.read()\n",
    "\n",
    "model = keras.models.load_model(best_model_path)"
   ],
   "outputs": [],
   "metadata": {
    "collapsed": true,
    "jupyter": {
     "outputs_hidden": true
    },
    "tags": []
   }
  },
  {
   "cell_type": "code",
   "execution_count": 35,
   "source": [
    "sent1_test, sent2_test, leaks_test, labels_test = load_preprocess(fn_cached_test)"
   ],
   "outputs": [],
   "metadata": {}
  },
  {
   "cell_type": "code",
   "execution_count": null,
   "source": [
    "preds_test = model.predict(x=[sent1_test, sent2_test, leaks_test], verbose=1)"
   ],
   "outputs": [],
   "metadata": {}
  },
  {
   "cell_type": "code",
   "execution_count": 37,
   "source": [
    "preds_test[preds_test <= 0.5] = 0.\n",
    "preds_test[preds_test > 0.5] = 1.\n",
    "preds_test = preds_test.astype(\"int32\")\n",
    "\n",
    "# preds_test = (preds_test > 0.5).astype(\"int32\")"
   ],
   "outputs": [],
   "metadata": {}
  },
  {
   "cell_type": "code",
   "execution_count": 38,
   "source": [
    "from sklearn.metrics import classification_report\n",
    "\n",
    "print(classification_report(labels_test, preds_test))"
   ],
   "outputs": [
    {
     "output_type": "stream",
     "name": "stdout",
     "text": [
      "              precision    recall  f1-score   support\n",
      "\n",
      "           0       0.83      0.82      0.83     28609\n",
      "           1       0.82      0.84      0.83     28396\n",
      "\n",
      "    accuracy                           0.83     57005\n",
      "   macro avg       0.83      0.83      0.83     57005\n",
      "weighted avg       0.83      0.83      0.83     57005\n",
      "\n"
     ]
    }
   ],
   "metadata": {}
  },
  {
   "cell_type": "code",
   "execution_count": 39,
   "source": [
    "np.unique(labels_test, return_counts=True)"
   ],
   "outputs": [
    {
     "output_type": "execute_result",
     "data": {
      "text/plain": [
       "(array([0, 1]), array([28609, 28396]))"
      ]
     },
     "metadata": {},
     "execution_count": 39
    }
   ],
   "metadata": {}
  },
  {
   "cell_type": "code",
   "execution_count": 40,
   "source": [
    "np.unique(preds_test, return_counts=True)"
   ],
   "outputs": [
    {
     "output_type": "execute_result",
     "data": {
      "text/plain": [
       "(array([0, 1], dtype=int32), array([28009, 28996]))"
      ]
     },
     "metadata": {},
     "execution_count": 40
    }
   ],
   "metadata": {}
  },
  {
   "cell_type": "code",
   "execution_count": null,
   "source": [],
   "outputs": [],
   "metadata": {}
  },
  {
   "cell_type": "code",
   "execution_count": null,
   "source": [
    "vocab_to_int, _, _ = load_preprocess(fn_cached_vocab)"
   ],
   "outputs": [],
   "metadata": {}
  },
  {
   "cell_type": "code",
   "execution_count": null,
   "source": [
    "sent_pairs = [\n",
    "    ['This is an example.', 'This is an example.'],\n",
    "    ['This is an example.', 'This is not a good example.'],\n",
    "    ['What can make Physics easy to learn?', 'How can you make physics easy to learn?'],\n",
    "    ['How many times a day do a clocks hands overlap?', 'What does it mean that every time I look at the clock the numbers are the same?'],\n",
    "    ['Fishes do not fly.', 'I like eating ice cream when the weather is really hot.'],\n",
    "]\n",
    "sent1, sent2 = zip(*sent_pairs)\n",
    "\n",
    "test_data_x1, test_data_x2, leaks_test = create_test_data(sent1, sent2, vocab_to_int)\n",
    "\n",
    "preds = model.predict([test_data_x1, test_data_x2, leaks_test], verbose=1)\n",
    "\n",
    "print(\"\\n\")\n",
    "for i in range(len(preds)):\n",
    "    print(\"Sentance 1: \" + sent1[i])\n",
    "    print(\"Sentance 2: \" + sent2[i])\n",
    "    print(\"Similarity Score: \" + str(calculate_total_score(preds[i])))\n",
    "    print(\"\\n\")"
   ],
   "outputs": [],
   "metadata": {}
  },
  {
   "cell_type": "code",
   "execution_count": null,
   "source": [
    "labels[20:30]"
   ],
   "outputs": [],
   "metadata": {}
  },
  {
   "cell_type": "code",
   "execution_count": null,
   "source": [],
   "outputs": [],
   "metadata": {}
  }
 ],
 "metadata": {
  "kernelspec": {
   "display_name": "Python 3 (ipykernel)",
   "language": "python",
   "name": "python3"
  },
  "language_info": {
   "codemirror_mode": {
    "name": "ipython",
    "version": 3
   },
   "file_extension": ".py",
   "mimetype": "text/x-python",
   "name": "python",
   "nbconvert_exporter": "python",
   "pygments_lexer": "ipython3",
   "version": "3.9.6"
  }
 },
 "nbformat": 4,
 "nbformat_minor": 4
}
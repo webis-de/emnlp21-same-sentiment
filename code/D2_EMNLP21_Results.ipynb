{
 "cells": [
  {
   "cell_type": "markdown",
   "source": [
    "# Same Sentiment Classification"
   ],
   "metadata": {}
  },
  {
   "cell_type": "markdown",
   "source": [
    "# Results\n",
    "\n",
    "- 3 epochs\n",
    "- accumulation steps: 64\n",
    "- sequence length 128-256-512 with batch sizes from 8-16(12)-32\n",
    "- tasks: yelp-pair-b/yelp-pair-rand-b\n",
    "- train/dev/test - 80:10:10 - @gregor\n",
    "\n",
    "See [D2_samesentiment_yelp_base.ipynb](D2_samesentiment_yelp_base.ipynb)"
   ],
   "metadata": {}
  },
  {
   "cell_type": "code",
   "execution_count": null,
   "source": [],
   "outputs": [],
   "metadata": {}
  },
  {
   "cell_type": "markdown",
   "source": [
    "## Result-Matrix\n",
    "\n",
    "- 3 epochs, acc-step: 64 (32)"
   ],
   "metadata": {}
  },
  {
   "cell_type": "markdown",
   "source": [
    "```\n",
    "model_name           task             seql  dev-acc (f1)   test-acc (f1)\n",
    "\n",
    "bert-base-uncased    yelp-pair-b      256   85.58 (85.67)  85.66 (85.70)\n",
    "albert-base-v2       yelp-pair-rand-b 256   85.80 (85.79)  85.60 (85.58)\n",
    "bert-base-uncased    yelp-pair-rand-b 256   85.00 (85.00)  84.86 (84.84)\n",
    "```"
   ],
   "metadata": {}
  },
  {
   "cell_type": "markdown",
   "source": [
    "```\n",
    "albert-base-v2       amazon-pair-b(k) 256   74.33 (74.59)  74.88 (75.11)\n",
    "bert-base-cased      amazon-pair-b(k) 256   73.79 (73.88)  74.28 (74.39)\n",
    "                                            73.47 (73.35)  73.81 (73.72)\n",
    "bert-base-uncased    amazon-pair-b(k) 256   52.76 (53.50)  51.18 (51.30)\n",
    "```"
   ],
   "metadata": {}
  },
  {
   "cell_type": "markdown",
   "source": [
    "---"
   ],
   "metadata": {}
  },
  {
   "cell_type": "markdown",
   "source": [
    "---"
   ],
   "metadata": {}
  },
  {
   "cell_type": "code",
   "execution_count": 9,
   "source": [
    "! ls -t ./output_sent"
   ],
   "outputs": [
    {
     "output_type": "stream",
     "name": "stdout",
     "text": [
      "albert-base-v2-amazon-pair-b_256_16-acc32_3-kindle\n",
      "bert-base-uncased-amazon-pair-b_256_16-acc32_3-kindle\n",
      "bert-base-cased-amazon-pair-b_256_16-acc32_3-kindle\n",
      "bert-base-cased-amazon-pair-b_256_16-acc64_3-kindle\n",
      "albert-base-v2-yelp-pair-b_256_16-acc64_3\n",
      "bert-base-uncased-yelp-pair-b_256_16-acc64_3\n",
      "albert-base-v2-yelp-pair-rand-b_256_16-acc64_3\n",
      "bert-base-uncased-yelp-pair-rand-b_256_16-acc64_3\n"
     ]
    }
   ],
   "metadata": {}
  },
  {
   "cell_type": "code",
   "execution_count": 4,
   "source": [
    "import json\n",
    "import os\n",
    "from datetime import datetime\n",
    "from pathlib import Path\n",
    "\n",
    "fn_base = Path(\"output_sent\")\n",
    "\n",
    "# search for runs\n",
    "data = list()\n",
    "for fn in sorted(fn_base.iterdir()):\n",
    "    run_name = fn.name\n",
    "\n",
    "    if \"yelp\" not in run_name:\n",
    "        continue\n",
    "\n",
    "    sfn = fn / \"eval_results_same-b.json\"\n",
    "    if not sfn.exists():\n",
    "        print(f\"No result: {run_name}\")\n",
    "        continue\n",
    "\n",
    "    with (sfn).open(\"r\") as fp:\n",
    "        stats_eval = json.load(fp)\n",
    "    with (fn / \"test_results_same-b.json\").open(\"r\") as fp:\n",
    "        stats_test = json.load(fp)\n",
    "        \n",
    "    data.append((run_name, stats_eval, stats_test))\n",
    "\n",
    "\n",
    "# sort by test accuracy descending\n",
    "data = sorted(data, key=lambda x: x[2][\"eval_acc\"], reverse=True)\n",
    "\n",
    "\n",
    "# output\n",
    "print()\n",
    "print(f\"  MODE: ACC-- (F1---)\")\n",
    "for run_name, stats_eval, stats_test in data:\n",
    "    print(run_name)\n",
    "    print(f\"  eval: {stats_eval['eval_acc'] * 100:.2f} ({stats_eval['eval_f1'] * 100:.2f})\")\n",
    "    print(f\"  test: {stats_test['eval_acc'] * 100:.2f} ({stats_test['eval_f1'] * 100:.2f})\")"
   ],
   "outputs": [
    {
     "output_type": "stream",
     "name": "stdout",
     "text": [
      "No result: albert-base-v2-yelp-pair-b_256_16-acc64_3\n",
      "\n",
      "  MODE: ACC-- (F1---)\n",
      "bert-base-uncased-yelp-pair-b_256_16-acc64_3\n",
      "  eval: 85.58 (85.67)\n",
      "  test: 85.66 (85.70)\n",
      "albert-base-v2-yelp-pair-rand-b_256_16-acc64_3\n",
      "  eval: 85.80 (85.79)\n",
      "  test: 85.60 (85.58)\n",
      "bert-base-uncased-yelp-pair-rand-b_256_16-acc64_3\n",
      "  eval: 85.00 (85.00)\n",
      "  test: 84.86 (84.84)\n"
     ]
    }
   ],
   "metadata": {}
  },
  {
   "cell_type": "code",
   "execution_count": 1,
   "source": [
    "import json\n",
    "import os\n",
    "from datetime import datetime\n",
    "from pathlib import Path\n",
    "\n",
    "fn_base = Path(\"output_sent\")\n",
    "\n",
    "# search for runs\n",
    "data = list()\n",
    "for fn in sorted(fn_base.iterdir()):\n",
    "    run_name = fn.name\n",
    "\n",
    "    if \"amazon\" not in run_name:\n",
    "        continue\n",
    "\n",
    "    sfn = fn / \"eval_results_same-b.json\"\n",
    "    if not sfn.exists():\n",
    "        print(f\"No result: {run_name}\")\n",
    "        continue\n",
    "\n",
    "    with (sfn).open(\"r\") as fp:\n",
    "        stats_eval = json.load(fp)\n",
    "    with (fn / \"test_results_same-b.json\").open(\"r\") as fp:\n",
    "        stats_test = json.load(fp)\n",
    "        \n",
    "    data.append((run_name, stats_eval, stats_test))\n",
    "\n",
    "\n",
    "# sort by test accuracy descending\n",
    "data = sorted(data, key=lambda x: x[2][\"eval_acc\"], reverse=True)\n",
    "\n",
    "\n",
    "# output\n",
    "print()\n",
    "print(f\"  MODE: ACC-- (F1---)\")\n",
    "for run_name, stats_eval, stats_test in data:\n",
    "    print(run_name)\n",
    "    print(f\"  eval: {stats_eval['eval_acc'] * 100:.2f} ({stats_eval['eval_f1'] * 100:.2f})\")\n",
    "    print(f\"  test: {stats_test['eval_acc'] * 100:.2f} ({stats_test['eval_f1'] * 100:.2f})\")"
   ],
   "outputs": [
    {
     "output_type": "stream",
     "name": "stdout",
     "text": [
      "\n",
      "  MODE: ACC-- (F1---)\n",
      "albert-base-v2-amazon-pair-b_256_20-acc60_2\n",
      "  eval: 78.54 (78.60)\n",
      "  test: 78.38 (78.54)\n",
      "albert-base-v2-amazon-pair-b_256_16-acc32_3-kindle\n",
      "  eval: 74.33 (74.59)\n",
      "  test: 74.88 (75.11)\n",
      "distilbert-base-cased-amazon-pair-b_256_32-acc64_2\n",
      "  eval: 74.65 (74.62)\n",
      "  test: 74.34 (74.33)\n",
      "bert-base-cased-amazon-pair-b_256_16-acc32_3-kindle\n",
      "  eval: 73.79 (73.88)\n",
      "  test: 74.28 (74.39)\n",
      "bert-base-cased-amazon-pair-b_256_16-acc64_3-kindle\n",
      "  eval: 73.47 (73.35)\n",
      "  test: 73.81 (73.72)\n",
      "bert-base-uncased-amazon-pair-b_256_16-acc32_3-kindle\n",
      "  eval: 52.76 (53.50)\n",
      "  test: 51.18 (51.30)\n"
     ]
    }
   ],
   "metadata": {}
  },
  {
   "cell_type": "code",
   "execution_count": 1,
   "source": [
    "import json\n",
    "import os\n",
    "from datetime import datetime\n",
    "from pathlib import Path\n",
    "\n",
    "fn_base = Path(\"output\")\n",
    "\n",
    "# search for runs\n",
    "data = list()\n",
    "for fn in sorted(fn_base.iterdir()):\n",
    "    run_name = fn.name\n",
    "\n",
    "    if \"amazon\" not in run_name:\n",
    "        continue\n",
    "    if \"-senti-\" not in run_name and \"-stance-\" not in run_name:\n",
    "        continue\n",
    "\n",
    "    sfn = fn / \"test_results_same-b.json\"\n",
    "    if not sfn.exists():\n",
    "        print(f\"No result: {run_name}\")\n",
    "        continue\n",
    "\n",
    "    with (sfn).open(\"r\") as fp:\n",
    "        stats_test = json.load(fp)\n",
    "        \n",
    "    data.append((run_name, stats_test))\n",
    "\n",
    "\n",
    "# sort by test accuracy descending\n",
    "data = sorted(data, key=lambda x: x[1][\"eval_acc\"], reverse=True)\n",
    "\n",
    "\n",
    "# output\n",
    "print()\n",
    "print(f\"  MODE: ACC-- (F1---)\")\n",
    "for run_name, stats_test in data:\n",
    "    print(run_name)\n",
    "    print(f\"  test: {stats_test['eval_acc'] * 100:.2f} ({stats_test['eval_f1'] * 100:.2f})\")"
   ],
   "outputs": [
    {
     "output_type": "stream",
     "name": "stdout",
     "text": [
      "No result: albert-base-v2-amazon-pair-b_256_20-acc60_2-senti-within\n",
      "\n",
      "  MODE: ACC-- (F1---)\n",
      "albert-base-v2-amazon-pair-b_256_20-acc60_2-stance-yelp-pair-rand-b\n",
      "  test: 83.85 (83.64)\n",
      "albert-base-v2-amazon-pair-b_256_20-acc60_2-stance-yelp-pair-b\n",
      "  test: 83.57 (83.47)\n",
      "albert-base-v2-amazon-pair-b_256_20-acc60_2-stance-cross\n",
      "  test: 53.31 (64.06)\n",
      "albert-base-v2-amazon-pair-b_256_20-acc60_2-stance-within\n",
      "  test: 51.95 (60.67)\n"
     ]
    }
   ],
   "metadata": {}
  },
  {
   "cell_type": "code",
   "execution_count": 2,
   "source": [
    "import json\n",
    "import os\n",
    "from datetime import datetime\n",
    "from pathlib import Path\n",
    "\n",
    "run_name = \"bert-base-uncased-yelp-pair-b_256_16-acc64_3\"\n",
    "fn_base = Path(f\"output_sent/{run_name}/pairtype\")\n",
    "\n",
    "# search for runs\n",
    "data = list()\n",
    "for fn in sorted(fn_base.iterdir()):\n",
    "    pair_name = fn.name\n",
    "\n",
    "    sfn = fn / \"test_results_same-b.json\"\n",
    "    if not sfn.exists():\n",
    "        print(f\"No result: {pair_name}\")\n",
    "        continue\n",
    "\n",
    "    with (sfn).open(\"r\") as fp:\n",
    "        stats_test = json.load(fp)\n",
    "        \n",
    "    data.append((pair_name, stats_test))\n",
    "\n",
    "\n",
    "# sort by test accuracy descending\n",
    "data = sorted(data, key=lambda x: x[1][\"eval_acc\"], reverse=True)\n",
    "\n",
    "\n",
    "# output\n",
    "print()\n",
    "print(run_name)\n",
    "print(f\"  PAIR-TYPE-: ACC-- (F1---)\")\n",
    "for pair_name, stats_test in data:\n",
    "    print(f\"  {pair_name:<10.10}: {stats_test['eval_acc'] * 100:05.2f} ({stats_test['eval_f1'] * 100:05.2f})\")"
   ],
   "outputs": [
    {
     "output_type": "stream",
     "name": "stdout",
     "text": [
      "\n",
      "bert-base-uncased-yelp-pair-b_256_16-acc64_3\n",
      "  PAIR-TYPE-: ACC-- (F1---)\n",
      "  good-good : 88.01 (93.62)\n",
      "  good-bad  : 85.83 (00.00)\n",
      "  bad-good  : 85.22 (00.00)\n",
      "  bad-bad   : 84.98 (91.88)\n"
     ]
    }
   ],
   "metadata": {}
  },
  {
   "cell_type": "markdown",
   "source": [
    "---"
   ],
   "metadata": {}
  },
  {
   "cell_type": "raw",
   "source": [
    "### ?\n",
    "\n",
    "<details>\n",
    "<summary>dev</summary>\n",
    "\n",
    "```python\n",
    "\n",
    "```\n",
    "\n",
    "</details>\n",
    "\n",
    "<details>\n",
    "<summary>test</summary>\n",
    "\n",
    "```python\n",
    "\n",
    "```\n",
    "\n",
    "</details>"
   ],
   "metadata": {}
  }
 ],
 "metadata": {
  "kernelspec": {
   "display_name": "Python 3",
   "language": "python",
   "name": "python3"
  },
  "language_info": {
   "codemirror_mode": {
    "name": "ipython",
    "version": 3
   },
   "file_extension": ".py",
   "mimetype": "text/x-python",
   "name": "python",
   "nbconvert_exporter": "python",
   "pygments_lexer": "ipython3",
   "version": "3.8.5"
  }
 },
 "nbformat": 4,
 "nbformat_minor": 4
}
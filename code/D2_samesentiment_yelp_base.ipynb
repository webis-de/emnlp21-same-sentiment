{
 "cells": [
  {
   "cell_type": "markdown",
   "source": [
    "# Dataset preparation - SameSentiment Yelp - Base"
   ],
   "metadata": {}
  },
  {
   "cell_type": "code",
   "execution_count": null,
   "source": [
    "import pickle\n",
    "from pathlib import Path\n",
    "\n",
    "from tqdm import tqdm\n",
    "from transformers.trainer_utils import set_seed\n",
    "\n",
    "tqdm.pandas()"
   ],
   "outputs": [],
   "metadata": {}
  },
  {
   "cell_type": "code",
   "execution_count": null,
   "source": [
    "# download + scp to server + extract\n",
    "data_yelp_path = Path(\"data/sentiment/yelp/\")\n",
    "\n",
    "# ------------------------------------\n",
    "\n",
    "# local?\n",
    "data_yelp_path = Path(\"data_raw/sentiment/yelp/\")\n",
    "\n",
    "# local? - output path (base) for sentiment review yelp pairs\n",
    "data_yelp_b_tdt_path = Path(\"data/sentiment/yelp-pair-b/\")\n",
    "data_yelp_b_rand_tdt_path = Path(\"data/sentiment/yelp-pair-rand-b/\")\n",
    "# local - output path for simple sentiment reviews yelp\n",
    "data_yelp_tdt_sentiment_5_path = Path(\"data/sentiment/yelp-sentiment-5/\")\n",
    "data_yelp_tdt_sentiment_b_path = Path(\"data/sentiment/yelp-sentiment-b/\")"
   ],
   "outputs": [],
   "metadata": {}
  },
  {
   "cell_type": "markdown",
   "source": [
    "---"
   ],
   "metadata": {}
  },
  {
   "cell_type": "code",
   "execution_count": null,
   "source": [
    "dn_yelp_cached = data_yelp_path / \"cached\""
   ],
   "outputs": [],
   "metadata": {}
  },
  {
   "cell_type": "code",
   "execution_count": null,
   "source": [
    "#  #### Load categories & topics\n",
    "from data_prep import load_reviews, load_topics\n",
    "\n",
    "# ##### Filter categories\n",
    "from data_prep import filter_min_cat_combis, make_map_cats, make_cat_combis\n",
    "\n",
    "# ##### Filter reviews\n",
    "from data_prep import filter_min_review_freq, filter_both_good_bad\n",
    "\n",
    "# ##### Filter businesses\n",
    "from data_prep import filter_by_businesses, filter_by_businesses_not_same\n",
    "\n",
    "# #### Load category tree\n",
    "from data_prep import load_category_tree\n",
    "from data_prep import get_root_category_items, get_children_category_item_list\n",
    "from data_prep import get_businesses_in_category, get_businesses_in_category_branch\n",
    "\n",
    "\n",
    "# #### Cache root category reviews in dataframes\n",
    "from data_prep import cache_root_category_businesses_df, load_cached_root_category_businesses_df\n",
    "\n",
    "\n",
    "# #### Positive + negative same-sentiment pairs\n",
    "from data_prep import make_pairs_good_bad\n",
    "from data_prep import make_pairs_good_bad_over_business\n",
    "\n",
    "# #### Not same-sentiment pairs (combinations positive + negative)\n",
    "from data_prep import make_pairs_negative\n",
    "from data_prep import make_pairs_negative_over_business\n",
    "\n",
    "# #### Dataframe for training etc.\n",
    "from data_prep import make_or_load_pairs\n",
    "from data_prep import make_or_load_pairs_over_businesses\n",
    "\n",
    "\n",
    "# #### Make train/dev/test splits\n",
    "from data_prep import split_df, write_pair_df_tsv, write_pair_tdt_tsv\n"
   ],
   "outputs": [],
   "metadata": {}
  },
  {
   "cell_type": "markdown",
   "source": [
    "---"
   ],
   "metadata": {}
  },
  {
   "cell_type": "code",
   "execution_count": null,
   "source": [
    "# N positive + N negative\n",
    "# --> 2N pos+neg (not same-sentiment)\n",
    "num_pairs_per_class = 2\n",
    "\n",
    "#: number of negative same-sentiment samples same as positive same-sentiment samples\n",
    "num_pairs_negative = 2 * num_pairs_per_class\n",
    "\n",
    "#: whether for a single side (good or bad) there can be multiple occurrences of the same review\n",
    "#: may need to check afterwared that not by chance same pairing happens ...\n",
    "repeatable_on_side = False"
   ],
   "outputs": [],
   "metadata": {}
  },
  {
   "cell_type": "markdown",
   "source": [
    "---"
   ],
   "metadata": {}
  },
  {
   "cell_type": "markdown",
   "source": [
    "## Write out training data"
   ],
   "metadata": {}
  },
  {
   "cell_type": "markdown",
   "source": [
    "### Split Test-Data"
   ],
   "metadata": {}
  },
  {
   "cell_type": "code",
   "execution_count": null,
   "source": [
    "fn_yelp_df = data_yelp_path / \"df_traindev4_typed.p\"\n",
    "\n",
    "with open(fn_yelp_df, \"rb\") as fp:\n",
    "    traindev_df = pickle.load(fp)"
   ],
   "outputs": [],
   "metadata": {}
  },
  {
   "cell_type": "code",
   "execution_count": null,
   "source": [
    "fn_yelp_df = data_yelp_path / \"df_traindev_test.p\"\n",
    "#fn_yelp_df = data_yelp_path / \"df_traindev_test_over_business.p\"\n",
    "#traindev_df = df_traindev"
   ],
   "outputs": [],
   "metadata": {}
  },
  {
   "cell_type": "code",
   "execution_count": null,
   "source": [
    "# store\n",
    "traindev_df, test_df = split_df(traindev_df, ratio=0.1, do_shuffle=True, random_state=42, name_train=\"traindev\", name_dev=\"test\")\n",
    "\n",
    "with open(fn_yelp_df, \"wb\") as fp:\n",
    "    pickle.dump(traindev_df, fp, protocol=pickle.HIGHEST_PROTOCOL)\n",
    "    pickle.dump(test_df, fp, protocol=pickle.HIGHEST_PROTOCOL)"
   ],
   "outputs": [],
   "metadata": {}
  },
  {
   "cell_type": "markdown",
   "source": [
    "---"
   ],
   "metadata": {}
  },
  {
   "cell_type": "code",
   "execution_count": null,
   "source": [
    "with open(fn_yelp_df, \"rb\") as fp:\n",
    "    traindev_df = pickle.load(fp)\n",
    "    test_df = pickle.load(fp)"
   ],
   "outputs": [],
   "metadata": {}
  },
  {
   "cell_type": "code",
   "execution_count": null,
   "source": [
    "root_path = data_yelp_b_tdt_path\n",
    "#root_path = data_yelp_b_rand_tdt_path"
   ],
   "outputs": [],
   "metadata": {}
  },
  {
   "cell_type": "code",
   "execution_count": null,
   "source": [
    "write_pair_tdt_tsv(root_path, traindev_df, split_test=0.1, split_dev=0.3)"
   ],
   "outputs": [],
   "metadata": {}
  },
  {
   "cell_type": "code",
   "execution_count": null,
   "source": [
    "# symlink pred.tsv\n",
    "! ln -s test.tsv {root_path}/pred.tsv"
   ],
   "outputs": [],
   "metadata": {}
  },
  {
   "cell_type": "code",
   "execution_count": null,
   "source": [
    "print(\"@ \", root_path, \"\\n\")\n",
    "! ls -lh {root_path}"
   ],
   "outputs": [],
   "metadata": {}
  },
  {
   "cell_type": "code",
   "execution_count": null,
   "source": [
    "#model_name = \"bert-base-uncased\"\n",
    "#model_name = \"bert-base-cased\"\n",
    "model_name = \"distilroberta-base\"\n",
    "#model_name = \"distilbert-base-cased\"\n",
    "#model_name = \"albert-base-v2\"\n",
    "\n",
    "data_name = \"yelp-pair-b\"\n",
    "#data_name = \"yelp-pair-rand-b\" ## over businesses\n",
    "\n",
    "seq_len = 256\n",
    "batch_size = 16\n",
    "acc_steps = 64\n",
    "num_epoch = 3\n",
    "cuda_devs = \"1\"\n",
    "\n",
    "run_name = f\"{model_name.replace('/', '-')}-{data_name}_{seq_len}_{batch_size}-acc{acc_steps}_{num_epoch}\""
   ],
   "outputs": [],
   "metadata": {}
  },
  {
   "cell_type": "code",
   "execution_count": null,
   "source": [
    "# create folder for logging\n",
    "! mkdir -p ./output_sent_logs/{run_name}\n",
    "\n",
    "! \\\n",
    "    MLFLOW_EXPERIMENT_NAME=same-sentiment \\\n",
    "    CUDA_VISIBLE_DEVICES={cuda_devs} \\\n",
    "    python trainer.py \\\n",
    "    --do_train --do_eval --do_test \\\n",
    "    --model_name_or_path {model_name} \\\n",
    "    --task_name same-b \\\n",
    "    --data_dir ./data/sentiment/{data_name} \\\n",
    "    --output_dir ./output_sent/{run_name} \\\n",
    "    --run_name {run_name} \\\n",
    "    --per_device_eval_batch_size {batch_size} \\\n",
    "    --per_device_train_batch_size {batch_size} \\\n",
    "    --gradient_accumulation_steps {acc_steps} \\\n",
    "    --logging_steps 5000 \\\n",
    "    --save_steps 10000 \\\n",
    "    --save_total_limit 3 \\\n",
    "    --num_train_epochs {num_epoch} \\\n",
    "    --max_seq_length {seq_len} \\\n",
    "    --evaluation_strategy epoch \\\n",
    "    > >(tee -a ./output_sent_logs/{run_name}/stdout.log) \\\n",
    "    2> >(tee -a ./output_sent_logs/{run_name}/stderr.log >&2)\n",
    "\n",
    "# --overwrite_output_dir \\\n",
    "# --overwrite_cache \\\n",
    "# --eval_steps 128 \\\n",
    "# --evaluation_strategy steps \\\n",
    "# --load_best_model_at_end \\\n",
    "# HF_MLFLOW_LOG_ARTIFACTS=TRUE \\"
   ],
   "outputs": [],
   "metadata": {}
  },
  {
   "cell_type": "markdown",
   "source": [
    "Train ...\n",
    "\n",
    "```bash\n",
    "CUDA_VISIBLE_DEVICES=1 python trainer.py --do_train --do_eval --model_name_or_path bert-base-uncased --task_name same-b --data_dir ./data/sentiment/yelp-pair-b --output_dir ./output/yelp-pair-b_128_32_3 --run_name yelp-pair-b_128_32_3 --per_device_eval_batch_size 32 --per_device_train_batch_size 32 --logging_steps 10000 --save_steps 2000 --num_train_epochs 3 --max_seq_length 128\n",
    "```"
   ],
   "metadata": {}
  },
  {
   "cell_type": "markdown",
   "source": [
    "Test ...\n",
    "\n",
    "```bash\n",
    "CUDA_VISIBLE_DEVICES=1 python trainer.py --do_test --model_name_or_path bert-base-uncased --task_name same-b --data_dir ./data/sentiment/yelp-pair-b --output_dir ./output/yelp-pair-b_128_32_3 --run_name yelp-pair-b_128_32_3 --per_device_eval_batch_size 32 --logging_steps 10000 --max_seq_length 128\n",
    "```"
   ],
   "metadata": {}
  },
  {
   "cell_type": "code",
   "execution_count": null,
   "source": [
    "! CUDA_VISIBLE_DEVICES=0 python trainer.py --do_eval --do_test --model_name_or_path bert-base-uncased --task_name same-b --data_dir ./data/sentiment/yelp-pair-b --output_dir ./output/yelp-pair-b_128_32_3 --run_name yelp-pair-b_128_32_3 --per_device_eval_batch_size 32 --logging_steps 10000 --max_seq_length 128"
   ],
   "outputs": [],
   "metadata": {}
  },
  {
   "cell_type": "markdown",
   "source": [
    "Model: **distilroberta-base**\n",
    "\n",
    "```bash\n",
    "CUDA_VISIBLE_DEVICES=0 python trainer.py --do_train --do_eval --do_test --model_name_or_path distilroberta-base --task_name same-b --data_dir ./data/sentiment/yelp-pair-b --output_dir ./output/distilroberta-base-yelp-pair-b_128_32_3 --run_name distilroberta-base-yelp-pair-b_128_32_3 --per_device_eval_batch_size 32 --per_device_train_batch_size 32 --logging_steps 10000 --save_steps 2000 --num_train_epochs 3 --max_seq_length 128\n",
    "```"
   ],
   "metadata": {}
  }
 ],
 "metadata": {
  "kernelspec": {
   "display_name": "Python 3",
   "language": "python",
   "name": "python3"
  },
  "language_info": {
   "codemirror_mode": {
    "name": "ipython",
    "version": 3
   },
   "file_extension": ".py",
   "mimetype": "text/x-python",
   "name": "python",
   "nbconvert_exporter": "python",
   "pygments_lexer": "ipython3",
   "version": "3.8.5"
  }
 },
 "nbformat": 4,
 "nbformat_minor": 4
}
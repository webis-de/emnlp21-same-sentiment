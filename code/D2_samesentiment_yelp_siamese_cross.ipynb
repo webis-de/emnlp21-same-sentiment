{
 "cells": [
  {
   "cell_type": "markdown",
   "source": [
    "# SameSentiment Yelp - Cross-Eval - Siamese"
   ],
   "metadata": {}
  },
  {
   "cell_type": "code",
   "execution_count": 38,
   "source": [
    "import json\n",
    "import os\n",
    "import pickle\n",
    "from itertools import groupby\n",
    "from pathlib import Path\n",
    "\n",
    "import numpy as np\n",
    "import pandas as pd\n",
    "from tqdm import tqdm\n",
    "\n",
    "from utils import Timer"
   ],
   "outputs": [],
   "metadata": {}
  },
  {
   "cell_type": "code",
   "execution_count": 5,
   "source": [
    "data_yelp_path = Path(\"data_raw/sentiment/yelp/\")\n",
    "\n",
    "# local - output path (base) for sentiment review yelp pairs\n",
    "data_yelp_b_tdt_path = Path(\"data/sentiment/yelp-pair-b/\")"
   ],
   "outputs": [],
   "metadata": {}
  },
  {
   "cell_type": "markdown",
   "source": [
    "---"
   ],
   "metadata": {}
  },
  {
   "cell_type": "code",
   "execution_count": 6,
   "source": [
    "dn_yelp_cached = data_yelp_path / \"cached\""
   ],
   "outputs": [],
   "metadata": {}
  },
  {
   "cell_type": "code",
   "execution_count": null,
   "source": [
    "#  #### Load categories & topics\n",
    "from data_prep import load_reviews, load_topics\n",
    "\n",
    "# ##### Filter categories\n",
    "from data_prep import filter_min_cat_combis, make_map_cats, make_cat_combis\n",
    "\n",
    "# ##### Filter reviews\n",
    "from data_prep import filter_min_review_freq, filter_both_good_bad\n",
    "\n",
    "# ##### Filter businesses\n",
    "from data_prep import filter_by_businesses, filter_by_businesses_not_same\n",
    "\n",
    "# #### Load category tree\n",
    "from data_prep import load_category_tree\n",
    "from data_prep import get_root_category_items, get_children_category_item_list\n",
    "from data_prep import get_businesses_in_category, get_businesses_in_category_branch\n",
    "\n",
    "\n",
    "# #### Cache root category reviews in dataframes\n",
    "from data_prep import cache_root_category_businesses_df, load_cached_root_category_businesses_df\n",
    "\n",
    "\n",
    "# #### Positive + negative same-sentiment pairs\n",
    "from data_prep import make_pairs_good_bad\n",
    "\n",
    "# #### Not same-sentiment pairs (combinations positive + negative)\n",
    "from data_prep import make_pairs_negative\n",
    "\n",
    "# #### Dataframe for training etc.\n",
    "from data_prep import make_or_load_pairs\n",
    "\n",
    "\n",
    "# #### Make train/dev/test splits\n",
    "from data_prep import split_df, write_pair_df_tsv, write_pair_tdt_tsv\n",
    "\n",
    "\n",
    "# ### Make cross eval splits\n",
    "from data_prep import build_category_business_lookup\n",
    "from data_prep import filter_category_business_lookup_no_overlap\n",
    "\n",
    "# #### Filter non-overlapping from pairs\n",
    "from data_prep import df_add_business_id\n",
    "from data_prep import filter_overlapping_businesses\n",
    "\n",
    "# #### Manually split into N shards for cross-validation\n",
    "from data_prep import make_group_split\n",
    "from data_prep import make_cross_eval_dfs\n",
    "\n",
    "\n",
    "# ### load predictions for evaluation\n",
    "from utils_siamese import load_predictions, load_truths, Split, compute_metrics, NumpyEncoder"
   ],
   "outputs": [],
   "metadata": {}
  },
  {
   "cell_type": "code",
   "execution_count": 8,
   "source": [
    "try:\n",
    "    from utils import init_random\n",
    "\n",
    "    init_random()\n",
    "except ImportError:\n",
    "    pass\n",
    "\n",
    "try:\n",
    "    from utils_siamese import set_seed\n",
    "\n",
    "    set_seed(42)\n",
    "except ImportError:\n",
    "    pass"
   ],
   "outputs": [],
   "metadata": {}
  },
  {
   "cell_type": "markdown",
   "source": [
    "---"
   ],
   "metadata": {}
  },
  {
   "cell_type": "markdown",
   "source": [
    "## Training and evaluation data"
   ],
   "metadata": {}
  },
  {
   "cell_type": "code",
   "execution_count": 9,
   "source": [
    "n_split = 4"
   ],
   "outputs": [],
   "metadata": {}
  },
  {
   "cell_type": "code",
   "execution_count": 10,
   "source": [
    "fn_yelp_df = data_yelp_path / \"df_traindev_test.p\"\n",
    "\n",
    "with open(fn_yelp_df, \"rb\") as fp:\n",
    "    traindev_df = pickle.load(fp)\n",
    "    test_df = pickle.load(fp)"
   ],
   "outputs": [],
   "metadata": {}
  },
  {
   "cell_type": "code",
   "execution_count": null,
   "source": [
    "fn_yelp_topics = data_yelp_path / \"business.json\"\n",
    "bids_not_cats = set()\n",
    "inv_bid_cats = load_topics(fn_yelp_topics, bids_not_cats=bids_not_cats)\n",
    "\n",
    "inv_cat_bids = make_map_cats(inv_bid_cats)\n",
    "\n",
    "inv_cat_combis = make_cat_combis(inv_bid_cats)"
   ],
   "outputs": [],
   "metadata": {
    "tags": []
   }
  },
  {
   "cell_type": "code",
   "execution_count": 12,
   "source": [
    "fn_yelp_catgory_tree = data_yelp_path / \"all_category_list.json\"\n",
    "map_categories, map_cat_name2id, lst_root_categories = load_category_tree(fn_yelp_catgory_tree)"
   ],
   "outputs": [],
   "metadata": {}
  },
  {
   "cell_type": "code",
   "execution_count": 13,
   "source": [
    "lookup_rootcat_bid = build_category_business_lookup(map_categories, inv_cat_bids, map_cat_name2id)\n",
    "lookup_rootcat_bid_no_overlap = filter_category_business_lookup_no_overlap(lookup_rootcat_bid)"
   ],
   "outputs": [],
   "metadata": {}
  },
  {
   "cell_type": "code",
   "execution_count": 14,
   "source": [
    "fn_group = data_yelp_path / f\"group_data_save_k={n_split}.p\"\n",
    "\n",
    "with open(fn_group, \"rb\") as fp:\n",
    "    groups = pickle.load(fp)\n",
    "    map_cg_train_dev_groups = pickle.load(fp)"
   ],
   "outputs": [],
   "metadata": {}
  },
  {
   "cell_type": "code",
   "execution_count": 15,
   "source": [
    "groups\n",
    "# map_cg_train_dev_groups.keys()"
   ],
   "outputs": [
    {
     "output_type": "execute_result",
     "data": {
      "text/plain": [
       "[(('Active Life', 'active'),\n",
       "  ('Arts & Entertainment', 'arts'),\n",
       "  ('Automotive', 'auto'),\n",
       "  ('Beauty & Spas', 'beautysvc'),\n",
       "  ('Education', 'education')),\n",
       " (('Event Planning & Services', 'eventservices'),\n",
       "  ('Financial Services', 'financialservices'),\n",
       "  ('Food', 'food'),\n",
       "  ('Health & Medical', 'health'),\n",
       "  ('Home Services', 'homeservices')),\n",
       " (('Hotels & Travel', 'hotelstravel'),\n",
       "  ('Local Flavor', 'localflavor'),\n",
       "  ('Local Services', 'localservices'),\n",
       "  ('Mass Media', 'massmedia'),\n",
       "  ('Nightlife', 'nightlife')),\n",
       " (('Pets', 'pets'),\n",
       "  ('Professional Services', 'professional'),\n",
       "  ('Public Services & Government', 'publicservicesgovt'),\n",
       "  ('Religious Organizations', 'religiousorgs'),\n",
       "  ('Restaurants', 'restaurants'),\n",
       "  ('Shopping', 'shopping'))]"
      ]
     },
     "metadata": {},
     "execution_count": 15
    }
   ],
   "metadata": {}
  },
  {
   "cell_type": "markdown",
   "source": [
    "---"
   ],
   "metadata": {}
  },
  {
   "cell_type": "markdown",
   "source": [
    "#### Run cross eval"
   ],
   "metadata": {}
  },
  {
   "cell_type": "code",
   "execution_count": 16,
   "source": [
    "run_name_base_data = f\"manual-cross-eval-{n_split}\"\n",
    "run_name_base = f\"manual-cross-eval-{n_split}-siamese\"\n",
    "fn_data_base_path = \"data/sentiment\"\n",
    "\n",
    "num_epochs = 15\n",
    "seq_len = 256\n",
    "batch_size = 512\n",
    "gpu_num = \"1\""
   ],
   "outputs": [],
   "metadata": {}
  },
  {
   "cell_type": "code",
   "execution_count": null,
   "source": [],
   "outputs": [],
   "metadata": {}
  },
  {
   "cell_type": "raw",
   "source": [
    "for i, (cg_ids, (train_df, dev_df, dev_dfs)) in enumerate(map_cg_train_dev_groups.items()):\n",
    "    print(f\"Train model on group fold {cg_ids} #{len(train_df)}...\")\n",
    "\n",
    "    run_name = f\"{run_name_base}_g{i}\"\n",
    "    run_ext = f\"_{seq_len}_{batch_size}_{num_epochs}\"\n",
    "\n",
    "    fn_data_path = Path(f\"{fn_data_base_path}/{run_name_base_data}/{run_name_base_data}_g{i}\")\n",
    "    print(fn_data_path)\n",
    "    assert fn_data_path.exists()\n",
    "\n",
    "    fn_run_path = Path(f\"output/{run_name_base}/{run_name}{run_ext}\")\n",
    "    fn_run_path.mkdir(parents=True, exist_ok=True)\n",
    "\n",
    "    with Timer(f\"train model - {num_epochs}\"):\n",
    "        ! CUDA_VISIBLE_DEVICES={gpu_num} \\\n",
    "            python trainer_siamese.py \\\n",
    "            --do_train \\\n",
    "            --data_dir {fn_data_path} \\\n",
    "            --output_dir {fn_run_path} \\\n",
    "            --fn_vectors data_raw/glove.6B.50d.txt \\\n",
    "            --embedding_dim 50 \\\n",
    "            --per_device_train_batch_size $batch_size \\\n",
    "            --num_epochs $num_epochs \\\n",
    "            --max_seq_length $seq_len \\\n",
    "            --overwrite_output_dir\n",
    "\n",
    "    #with Timer(f\"evaluate model\"):\n",
    "    #    ! CUDA_VISIBLE_DEVICES={gpu_num} \\\n",
    "    #        python trainer_siamese.py \\\n",
    "    #        --do_eval \\\n",
    "    #        --data_dir {fn_data_path} \\\n",
    "    #        --output_dir {fn_run_path} \\\n",
    "    #        --model_name_or_path {fn_run_path} \\\n",
    "    #        --fn_vectors data_raw/glove.6B.50d.txt \\\n",
    "    #        --embedding_dim 50 \\\n",
    "    #        --num_epochs $num_epochs \\\n",
    "    #        --per_device_train_batch_size $batch_size \\\n",
    "    #        --per_device_eval_batch_size $batch_size \\\n",
    "    #        --max_seq_length $seq_len \\\n",
    "    #        --overwrite_cache\n",
    "        \n",
    "    print(\"\\n\" + (\"#\" * 60) + \"\\n\")"
   ],
   "metadata": {}
  },
  {
   "cell_type": "markdown",
   "source": [
    "---"
   ],
   "metadata": {}
  },
  {
   "cell_type": "code",
   "execution_count": null,
   "source": [],
   "outputs": [],
   "metadata": {}
  },
  {
   "cell_type": "code",
   "execution_count": null,
   "source": [
    "# eval only (group)\n",
    "for i, (cg_ids, (train_df, dev_df, dev_dfs)) in enumerate(map_cg_train_dev_groups.items()):\n",
    "    print(f\"Eval model on group fold {cg_ids} #{len(train_df)}...\")\n",
    "\n",
    "    run_name = f\"{run_name_base}_g{i}\"\n",
    "    run_ext = f\"_{seq_len}_{batch_size}_{num_epochs}\"\n",
    "\n",
    "    fn_data_path = Path(f\"{fn_data_base_path}/{run_name_base_data}/{run_name_base_data}_g{i}\")\n",
    "    print(fn_data_path)\n",
    "    assert fn_data_path.exists()\n",
    "\n",
    "    fn_run_path = Path(f\"output/{run_name_base}/{run_name}{run_ext}\")\n",
    "    fn_run_path.mkdir(parents=True, exist_ok=True)\n",
    "\n",
    "    with Timer(f\"evaluate model\"):\n",
    "        ! CUDA_VISIBLE_DEVICES={gpu_num} \\\n",
    "            python trainer_siamese.py \\\n",
    "            --do_eval \\\n",
    "            --data_dir {fn_data_path} \\\n",
    "            --output_dir {fn_run_path} \\\n",
    "            --model_name_or_path {fn_run_path} \\\n",
    "            --fn_vectors data_raw/glove.6B.50d.txt \\\n",
    "            --embedding_dim 50 \\\n",
    "            --num_epochs $num_epochs \\\n",
    "            --per_device_train_batch_size $batch_size \\\n",
    "            --per_device_eval_batch_size $batch_size \\\n",
    "            --max_seq_length $seq_len \\\n",
    "            --overwrite_cache\n",
    "        \n",
    "    print(\"\\n\" + (\"#\" * 60) + \"\\n\")"
   ],
   "outputs": [],
   "metadata": {
    "tags": []
   }
  },
  {
   "cell_type": "code",
   "execution_count": null,
   "source": [],
   "outputs": [],
   "metadata": {}
  },
  {
   "cell_type": "code",
   "execution_count": null,
   "source": [
    "# eval cross single groups\n",
    "for i, (cg_ids, (train_df, dev_df, dev_dfs)) in enumerate(map_cg_train_dev_groups.items()):\n",
    "    print(f\"Eval cross single groups, fold {cg_ids} ...\")\n",
    "\n",
    "    run_name = f\"{run_name_base}_g{i}\"\n",
    "    run_ext = f\"_{seq_len}_{batch_size}_{num_epochs}\"\n",
    "    fn_run_path = Path(f\"output/{run_name_base}/{run_name}{run_ext}\")\n",
    "    fn_data_path = Path(f\"{fn_data_base_path}/{run_name_base_data}/{run_name_base_data}_g{i}\")\n",
    "    assert fn_run_path.exists()\n",
    "    assert fn_data_path.exists()\n",
    "        \n",
    "    cg_groups = [cg_ids_o for cg_ids_o in groups if cg_ids_o != cg_ids]\n",
    "    for cgi, (cg_ids_o, dev_df) in enumerate(zip(cg_groups, dev_dfs)):\n",
    "        name = f\"group-{cgi}\"\n",
    "        dn_dev = fn_data_path / name\n",
    "        fn_run_group_path = fn_run_path / name\n",
    "        fn_run_group_path.mkdir(parents=True, exist_ok=True)\n",
    "        \n",
    "        with Timer(f\"evaluate model {cgi}: {cg_ids_o}\"):\n",
    "            ! CUDA_VISIBLE_DEVICES={gpu_num} \\\n",
    "                python trainer_siamese.py \\\n",
    "                --do_eval \\\n",
    "                --data_dir {dn_dev} \\\n",
    "                --output_dir {fn_run_group_path} \\\n",
    "                --model_name_or_path {fn_run_path} \\\n",
    "                --fn_vectors data_raw/glove.6B.50d.txt \\\n",
    "                --embedding_dim 50 \\\n",
    "                --num_epochs $num_epochs \\\n",
    "                --per_device_train_batch_size $batch_size \\\n",
    "                --per_device_eval_batch_size $batch_size \\\n",
    "                --max_seq_length $seq_len \\\n",
    "                --overwrite_cache\n",
    "\n",
    "        print(\"\\n\" + (\"#\" * 60) + \"\\n\")"
   ],
   "outputs": [],
   "metadata": {
    "tags": []
   }
  },
  {
   "cell_type": "code",
   "execution_count": null,
   "source": [],
   "outputs": [],
   "metadata": {}
  },
  {
   "cell_type": "code",
   "execution_count": null,
   "source": [
    "# eval cross single categories\n",
    "for i, (cg_ids, (train_df, dev_df, dev_dfs)) in enumerate(map_cg_train_dev_groups.items()):\n",
    "    print(f\"Eval cross single categories, fold {cg_ids} ...\")\n",
    "\n",
    "    run_name = f\"{run_name_base}_g{i}\"\n",
    "    run_ext = f\"_{seq_len}_{batch_size}_{num_epochs}\"\n",
    "    fn_run_path = Path(f\"output/{run_name_base}/{run_name}{run_ext}\")\n",
    "    fn_data_path = Path(f\"{fn_data_base_path}/{run_name_base_data}/{run_name_base_data}_g{i}\")\n",
    "    assert fn_run_path.exists()\n",
    "    assert fn_data_path.exists()\n",
    "    \n",
    "    for cgi, (cg_id, businesses) in enumerate(lookup_rootcat_bid_no_overlap.items()):\n",
    "        # check if train data, skip since we did not split into eval\n",
    "        if cg_id in cg_ids:\n",
    "            continue\n",
    "        if not businesses:\n",
    "            print(f\"Skip empty df: {cg_id}\")\n",
    "            continue\n",
    "\n",
    "        name = f\"categ-{cgi}\"\n",
    "        dn_dev = fn_data_path / name\n",
    "        fn_run_group_path = fn_run_path / name\n",
    "        fn_run_group_path.mkdir(parents=True, exist_ok=True)\n",
    "        \n",
    "        with Timer(f\"evaluate model {cgi}: {cg_id}\"):\n",
    "            ! CUDA_VISIBLE_DEVICES={gpu_num} \\\n",
    "                python trainer_siamese.py \\\n",
    "                --do_eval \\\n",
    "                --data_dir {dn_dev} \\\n",
    "                --output_dir {fn_run_group_path} \\\n",
    "                --model_name_or_path {fn_run_path} \\\n",
    "                --fn_vectors data_raw/glove.6B.50d.txt \\\n",
    "                --embedding_dim 50 \\\n",
    "                --num_epochs $num_epochs \\\n",
    "                --per_device_train_batch_size $batch_size \\\n",
    "                --per_device_eval_batch_size $batch_size \\\n",
    "                --max_seq_length $seq_len \\\n",
    "                --overwrite_cache\n",
    "\n",
    "        print(\"\\n\" + (\"#\" * 60) + \"\\n\")"
   ],
   "outputs": [],
   "metadata": {
    "tags": []
   }
  },
  {
   "cell_type": "markdown",
   "source": [
    "---"
   ],
   "metadata": {}
  },
  {
   "cell_type": "markdown",
   "source": [
    "- based on: https://github.com/Querela/argmining19-same-side-classification/blob/same-sentiment/SentimentDatasets_Yelp_Categories-CrossEval.ipynb"
   ],
   "metadata": {}
  },
  {
   "cell_type": "code",
   "execution_count": 24,
   "source": [
    "def do_metrics(fn_data_path, fn_run_path, mode, precision=8, store=True):\n",
    "    y_true = load_truths(fn_data_path, mode)\n",
    "    y_pred = load_predictions(fn_run_path, mode)\n",
    "\n",
    "    metrics = compute_metrics(y_true, y_pred, precision=precision)\n",
    "\n",
    "    if store:\n",
    "        output_metrics_file = os.path.join(fn_run_path, f\"{mode.value!s}_metrics.json\")\n",
    "        with open(output_metrics_file, \"w\") as fp:\n",
    "            json.dump(metrics, fp, indent=4, cls=NumpyEncoder)\n",
    "\n",
    "    return metrics"
   ],
   "outputs": [],
   "metadata": {}
  },
  {
   "cell_type": "code",
   "execution_count": null,
   "source": [
    "mode = Split.dev  # \"dev\"\n",
    "\n",
    "cg_results = dict()\n",
    "cg_results_single_group = dict()\n",
    "cg_results_single_cat = dict()\n",
    "\n",
    "for i, (cg_ids, (train_df, dev_df, dev_dfs)) in enumerate(map_cg_train_dev_groups.items()):\n",
    "    print(f\"Load predictions {cg_ids}...\")\n",
    "\n",
    "    run_name = f\"{run_name_base}_g{i}\"\n",
    "    run_ext = f\"_{seq_len}_{batch_size}_{num_epochs}\"\n",
    "    fn_run_path = Path(f\"output/{run_name_base}/{run_name}{run_ext}\")\n",
    "    fn_data_path = Path(f\"{fn_data_base_path}/{run_name_base_data}/{run_name_base_data}_g{i}\")\n",
    "    assert fn_data_path.exists()\n",
    "    assert fn_run_path.exists()\n",
    "\n",
    "    m = do_metrics(fn_data_path, fn_run_path, mode)\n",
    "    cg_results[cg_ids] = m\n",
    "        \n",
    "    # ------------------\n",
    "\n",
    "    cg_groups = [cg_ids_o for cg_ids_o in groups if cg_ids_o != cg_ids]\n",
    "    for cgi, (cg_ids_o, dev_df) in enumerate(zip(cg_groups, dev_dfs)):\n",
    "        name = f\"group-{cgi}\"\n",
    "        dn_dev = fn_data_path / name\n",
    "        fn_run_group_path = fn_run_path / name\n",
    "\n",
    "        m = do_metrics(dn_dev, fn_run_group_path, mode)\n",
    "        cg_results_single_group[(cg_ids, cg_ids_o, i, cgi)]  = m\n",
    "        \n",
    "    # ------------------\n",
    "\n",
    "    for cgi, (cg_id, businesses) in enumerate(lookup_rootcat_bid_no_overlap.items()):\n",
    "        # check if train data, skip since we did not split into eval\n",
    "        if cg_id in cg_ids:\n",
    "            continue\n",
    "        if not businesses:\n",
    "            print(f\"Skip empty df: {cg_id}\")\n",
    "            continue\n",
    "\n",
    "        name = f\"categ-{cgi}\"\n",
    "        dn_dev = fn_data_path / name\n",
    "        fn_run_group_path = fn_run_path / name\n",
    "        \n",
    "        m = do_metrics(dn_dev, fn_run_group_path, mode)\n",
    "        cg_results_single_cat[(cg_ids, cg_id, i, cgi)] = m\n",
    "\n",
    "    # old:\n",
    "    # cg_results[cg_ids] = compute_metrics(y_true, y_pred, precision=8, averaging=\"macro\", dump=False)"
   ],
   "outputs": [],
   "metadata": {}
  },
  {
   "cell_type": "markdown",
   "source": [
    "---"
   ],
   "metadata": {}
  },
  {
   "cell_type": "code",
   "execution_count": 26,
   "source": [
    "fn_cg_results = Path(f\"output/{run_name_base}/cg_results.p\")"
   ],
   "outputs": [],
   "metadata": {}
  },
  {
   "cell_type": "code",
   "execution_count": 27,
   "source": [
    "with open(fn_cg_results, \"wb\") as fp:\n",
    "    pickle.dump(cg_results, fp, protocol=pickle.HIGHEST_PROTOCOL)\n",
    "    pickle.dump(cg_results_single_group, fp, protocol=pickle.HIGHEST_PROTOCOL)\n",
    "    pickle.dump(cg_results_single_cat, fp, protocol=pickle.HIGHEST_PROTOCOL)"
   ],
   "outputs": [],
   "metadata": {}
  },
  {
   "cell_type": "code",
   "execution_count": 28,
   "source": [
    "with open(fn_cg_results, \"rb\") as fp:\n",
    "    cg_results = pickle.load(fp)\n",
    "    cg_results_single_group = pickle.load(fp)\n",
    "    cg_results_single_cat = pickle.load(fp)"
   ],
   "outputs": [],
   "metadata": {}
  },
  {
   "cell_type": "code",
   "execution_count": null,
   "source": [],
   "outputs": [],
   "metadata": {}
  },
  {
   "cell_type": "code",
   "execution_count": 29,
   "source": [
    "cur_cat = None\n",
    "for cg_ids, m in cg_results.items():\n",
    "    if cur_cat is None or cur_cat != cg_ids:\n",
    "        cur_cat = cg_ids\n",
    "        print(f\"\\n\\n{cg_ids}\\n\")\n",
    "    (prec, rec, f1, acc) = m[\"precision\"], m[\"recall\"], m[\"fscore\"], m[\"accuracy\"]\n",
    "    print(f\"P:{prec * 100:5.2f}%  R:{rec * 100:5.2f}%  F:{f1 * 100:5.2f}%  A:{acc * 100:5.2f}%\")"
   ],
   "outputs": [
    {
     "output_type": "stream",
     "name": "stdout",
     "text": [
      "\n",
      "\n",
      "(('Active Life', 'active'), ('Arts & Entertainment', 'arts'), ('Automotive', 'auto'), ('Beauty & Spas', 'beautysvc'), ('Education', 'education'))\n",
      "\n",
      "P:80.89%  R:82.85%  F:81.86%  A:81.61%\n",
      "\n",
      "\n",
      "(('Event Planning & Services', 'eventservices'), ('Financial Services', 'financialservices'), ('Food', 'food'), ('Health & Medical', 'health'), ('Home Services', 'homeservices'))\n",
      "\n",
      "P:81.28%  R:83.77%  F:82.51%  A:82.20%\n",
      "\n",
      "\n",
      "(('Hotels & Travel', 'hotelstravel'), ('Local Flavor', 'localflavor'), ('Local Services', 'localservices'), ('Mass Media', 'massmedia'), ('Nightlife', 'nightlife'))\n",
      "\n",
      "P:81.95%  R:84.35%  F:83.13%  A:82.85%\n",
      "\n",
      "\n",
      "(('Pets', 'pets'), ('Professional Services', 'professional'), ('Public Services & Government', 'publicservicesgovt'), ('Religious Organizations', 'religiousorgs'), ('Restaurants', 'restaurants'), ('Shopping', 'shopping'))\n",
      "\n",
      "P:83.05%  R:82.49%  F:82.77%  A:82.80%\n"
     ]
    }
   ],
   "metadata": {}
  },
  {
   "cell_type": "code",
   "execution_count": 30,
   "source": [
    "cur_cat = None\n",
    "for (cg_ids, cg_ids_o, i, cgi), m in cg_results_single_group.items():\n",
    "    if cur_cat is None or cur_cat != cg_ids:\n",
    "        cur_cat = cg_ids\n",
    "        print(f\"\\n\\n{cg_ids}\\n\")\n",
    "    (prec, rec, f1, acc) = m[\"precision\"], m[\"recall\"], m[\"fscore\"], m[\"accuracy\"]\n",
    "    print(f\"P:{prec * 100:5.2f}%  R:{rec * 100:5.2f}%  F:{f1 * 100:5.2f}%  A:{acc * 100:5.2f}% -- {cg_ids_o}\")"
   ],
   "outputs": [
    {
     "output_type": "stream",
     "name": "stdout",
     "text": [
      "\n",
      "\n",
      "(('Active Life', 'active'), ('Arts & Entertainment', 'arts'), ('Automotive', 'auto'), ('Beauty & Spas', 'beautysvc'), ('Education', 'education'))\n",
      "\n",
      "P:84.06%  R:85.99%  F:85.01%  A:84.83% -- (('Event Planning & Services', 'eventservices'), ('Financial Services', 'financialservices'), ('Food', 'food'), ('Health & Medical', 'health'), ('Home Services', 'homeservices'))\n",
      "P:79.62%  R:82.64%  F:81.10%  A:80.72% -- (('Hotels & Travel', 'hotelstravel'), ('Local Flavor', 'localflavor'), ('Local Services', 'localservices'), ('Mass Media', 'massmedia'), ('Nightlife', 'nightlife'))\n",
      "P:80.92%  R:83.13%  F:82.01%  A:81.78% -- (('Pets', 'pets'), ('Professional Services', 'professional'), ('Public Services & Government', 'publicservicesgovt'), ('Religious Organizations', 'religiousorgs'), ('Restaurants', 'restaurants'), ('Shopping', 'shopping'))\n",
      "\n",
      "\n",
      "(('Event Planning & Services', 'eventservices'), ('Financial Services', 'financialservices'), ('Food', 'food'), ('Health & Medical', 'health'), ('Home Services', 'homeservices'))\n",
      "\n",
      "P:88.26%  R:89.64%  F:88.94%  A:88.84% -- (('Active Life', 'active'), ('Arts & Entertainment', 'arts'), ('Automotive', 'auto'), ('Beauty & Spas', 'beautysvc'), ('Education', 'education'))\n",
      "P:80.04%  R:83.79%  F:81.87%  A:81.42% -- (('Hotels & Travel', 'hotelstravel'), ('Local Flavor', 'localflavor'), ('Local Services', 'localservices'), ('Mass Media', 'massmedia'), ('Nightlife', 'nightlife'))\n",
      "P:81.45%  R:84.00%  F:82.71%  A:82.44% -- (('Pets', 'pets'), ('Professional Services', 'professional'), ('Public Services & Government', 'publicservicesgovt'), ('Religious Organizations', 'religiousorgs'), ('Restaurants', 'restaurants'), ('Shopping', 'shopping'))\n",
      "\n",
      "\n",
      "(('Hotels & Travel', 'hotelstravel'), ('Local Flavor', 'localflavor'), ('Local Services', 'localservices'), ('Mass Media', 'massmedia'), ('Nightlife', 'nightlife'))\n",
      "\n",
      "P:88.86%  R:90.08%  F:89.46%  A:89.37% -- (('Active Life', 'active'), ('Arts & Entertainment', 'arts'), ('Automotive', 'auto'), ('Beauty & Spas', 'beautysvc'), ('Education', 'education'))\n",
      "P:85.02%  R:87.45%  F:86.22%  A:86.01% -- (('Event Planning & Services', 'eventservices'), ('Financial Services', 'financialservices'), ('Food', 'food'), ('Health & Medical', 'health'), ('Home Services', 'homeservices'))\n",
      "P:82.06%  R:84.73%  F:83.37%  A:83.11% -- (('Pets', 'pets'), ('Professional Services', 'professional'), ('Public Services & Government', 'publicservicesgovt'), ('Religious Organizations', 'religiousorgs'), ('Restaurants', 'restaurants'), ('Shopping', 'shopping'))\n",
      "\n",
      "\n",
      "(('Pets', 'pets'), ('Professional Services', 'professional'), ('Public Services & Government', 'publicservicesgovt'), ('Religious Organizations', 'religiousorgs'), ('Restaurants', 'restaurants'), ('Shopping', 'shopping'))\n",
      "\n",
      "P:90.80%  R:90.24%  F:90.52%  A:90.53% -- (('Active Life', 'active'), ('Arts & Entertainment', 'arts'), ('Automotive', 'auto'), ('Beauty & Spas', 'beautysvc'), ('Education', 'education'))\n",
      "P:87.71%  R:87.58%  F:87.65%  A:87.65% -- (('Event Planning & Services', 'eventservices'), ('Financial Services', 'financialservices'), ('Food', 'food'), ('Health & Medical', 'health'), ('Home Services', 'homeservices'))\n",
      "P:83.86%  R:84.26%  F:84.06%  A:84.00% -- (('Hotels & Travel', 'hotelstravel'), ('Local Flavor', 'localflavor'), ('Local Services', 'localservices'), ('Mass Media', 'massmedia'), ('Nightlife', 'nightlife'))\n"
     ]
    }
   ],
   "metadata": {}
  },
  {
   "cell_type": "code",
   "execution_count": 31,
   "source": [
    "cur_cat = None\n",
    "for (cg_ids, cg_id, i, cgi), m in cg_results_single_cat.items():\n",
    "    if cur_cat is None or cur_cat != cg_ids:\n",
    "        cur_cat = cg_ids\n",
    "        print(f\"\\n\\n{cg_ids}\\n\")\n",
    "    (prec, rec, f1, acc) = m[\"precision\"], m[\"recall\"], m[\"fscore\"], m[\"accuracy\"]\n",
    "    print(f\"P:{prec * 100:5.2f}%  R:{rec * 100:5.2f}%  F:{f1 * 100:5.2f}%  A:{acc * 100:5.2f}% -- {cg_id}\")"
   ],
   "outputs": [
    {
     "output_type": "stream",
     "name": "stdout",
     "text": [
      "\n",
      "\n",
      "(('Active Life', 'active'), ('Arts & Entertainment', 'arts'), ('Automotive', 'auto'), ('Beauty & Spas', 'beautysvc'), ('Education', 'education'))\n",
      "\n",
      "P:86.05%  R:86.25%  F:86.15%  A:86.21% -- ('Event Planning & Services', 'eventservices')\n",
      "P:86.17%  R:89.01%  F:87.57%  A:87.48% -- ('Financial Services', 'financialservices')\n",
      "P:77.78%  R:80.80%  F:79.26%  A:78.87% -- ('Food', 'food')\n",
      "P:90.71%  R:91.47%  F:91.09%  A:91.03% -- ('Health & Medical', 'health')\n",
      "P:91.76%  R:91.99%  F:91.87%  A:91.85% -- ('Home Services', 'homeservices')\n",
      "P:82.25%  R:84.78%  F:83.49%  A:83.31% -- ('Hotels & Travel', 'hotelstravel')\n",
      "P:73.33%  R:78.57%  F:75.86%  A:75.44% -- ('Local Flavor', 'localflavor')\n",
      "P:89.64%  R:89.73%  F:89.68%  A:89.70% -- ('Local Services', 'localservices')\n",
      "P:77.78%  R:75.00%  F:76.36%  A:77.19% -- ('Mass Media', 'massmedia')\n",
      "P:74.47%  R:78.73%  F:76.54%  A:75.74% -- ('Nightlife', 'nightlife')\n",
      "P:90.34%  R:91.05%  F:90.69%  A:90.68% -- ('Pets', 'pets')\n",
      "P:92.44%  R:89.83%  F:91.12%  A:91.22% -- ('Professional Services', 'professional')\n",
      "P:73.48%  R:81.69%  F:77.37%  A:76.34% -- ('Public Services & Government', 'publicservicesgovt')\n",
      "P:72.73%  R:75.00%  F:73.85%  A:73.64% -- ('Religious Organizations', 'religiousorgs')\n",
      "P:80.57%  R:82.78%  F:81.66%  A:81.41% -- ('Restaurants', 'restaurants')\n",
      "P:81.44%  R:83.94%  F:82.67%  A:82.42% -- ('Shopping', 'shopping')\n",
      "\n",
      "\n",
      "(('Event Planning & Services', 'eventservices'), ('Financial Services', 'financialservices'), ('Food', 'food'), ('Health & Medical', 'health'), ('Home Services', 'homeservices'))\n",
      "\n",
      "P:79.59%  R:83.54%  F:81.52%  A:81.10% -- ('Active Life', 'active')\n",
      "P:74.81%  R:79.93%  F:77.28%  A:76.23% -- ('Arts & Entertainment', 'arts')\n",
      "P:90.04%  R:90.73%  F:90.38%  A:90.35% -- ('Automotive', 'auto')\n",
      "P:91.20%  R:91.73%  F:91.46%  A:91.42% -- ('Beauty & Spas', 'beautysvc')\n",
      "P:85.27%  R:85.65%  F:85.46%  A:85.59% -- ('Education', 'education')\n",
      "P:83.30%  R:85.39%  F:84.33%  A:84.20% -- ('Hotels & Travel', 'hotelstravel')\n",
      "P:77.42%  R:85.71%  F:81.36%  A:80.70% -- ('Local Flavor', 'localflavor')\n",
      "P:89.65%  R:90.64%  F:90.14%  A:90.11% -- ('Local Services', 'localservices')\n",
      "P:82.14%  R:82.14%  F:82.14%  A:82.46% -- ('Mass Media', 'massmedia')\n",
      "P:74.79%  R:80.14%  F:77.37%  A:76.44% -- ('Nightlife', 'nightlife')\n",
      "P:91.08%  R:91.67%  F:91.37%  A:91.37% -- ('Pets', 'pets')\n",
      "P:90.91%  R:90.40%  F:90.65%  A:90.65% -- ('Professional Services', 'professional')\n",
      "P:73.67%  R:79.66%  F:76.55%  A:75.84% -- ('Public Services & Government', 'publicservicesgovt')\n",
      "P:73.91%  R:79.69%  F:76.69%  A:75.97% -- ('Religious Organizations', 'religiousorgs')\n",
      "P:81.09%  R:83.65%  F:82.35%  A:82.08% -- ('Restaurants', 'restaurants')\n",
      "P:81.92%  R:84.91%  F:83.39%  A:83.10% -- ('Shopping', 'shopping')\n",
      "\n",
      "\n",
      "(('Hotels & Travel', 'hotelstravel'), ('Local Flavor', 'localflavor'), ('Local Services', 'localservices'), ('Mass Media', 'massmedia'), ('Nightlife', 'nightlife'))\n",
      "\n",
      "P:80.35%  R:84.24%  F:82.25%  A:81.86% -- ('Active Life', 'active')\n",
      "P:75.18%  R:80.75%  F:77.87%  A:76.78% -- ('Arts & Entertainment', 'arts')\n",
      "P:90.74%  R:91.32%  F:91.03%  A:91.00% -- ('Automotive', 'auto')\n",
      "P:91.72%  R:91.96%  F:91.84%  A:91.81% -- ('Beauty & Spas', 'beautysvc')\n",
      "P:87.61%  R:85.65%  F:86.62%  A:86.92% -- ('Education', 'education')\n",
      "P:86.70%  R:88.11%  F:87.40%  A:87.37% -- ('Event Planning & Services', 'eventservices')\n",
      "P:88.03%  R:90.93%  F:89.46%  A:89.39% -- ('Financial Services', 'financialservices')\n",
      "P:78.62%  R:82.56%  F:80.54%  A:80.06% -- ('Food', 'food')\n",
      "P:91.99%  R:92.79%  F:92.39%  A:92.33% -- ('Health & Medical', 'health')\n",
      "P:92.79%  R:92.79%  F:92.79%  A:92.78% -- ('Home Services', 'homeservices')\n",
      "P:91.60%  R:92.56%  F:92.08%  A:92.06% -- ('Pets', 'pets')\n",
      "P:93.10%  R:91.53%  F:92.31%  A:92.35% -- ('Professional Services', 'professional')\n",
      "P:75.94%  R:82.37%  F:79.02%  A:78.36% -- ('Public Services & Government', 'publicservicesgovt')\n",
      "P:75.36%  R:81.25%  F:78.20%  A:77.52% -- ('Religious Organizations', 'religiousorgs')\n",
      "P:81.69%  R:84.41%  F:83.03%  A:82.75% -- ('Restaurants', 'restaurants')\n",
      "P:82.59%  R:85.25%  F:83.90%  A:83.64% -- ('Shopping', 'shopping')\n",
      "\n",
      "\n",
      "(('Pets', 'pets'), ('Professional Services', 'professional'), ('Public Services & Government', 'publicservicesgovt'), ('Religious Organizations', 'religiousorgs'), ('Restaurants', 'restaurants'), ('Shopping', 'shopping'))\n",
      "\n",
      "P:83.82%  R:83.86%  F:83.84%  A:83.87% -- ('Active Life', 'active')\n",
      "P:79.08%  R:80.45%  F:79.76%  A:79.34% -- ('Arts & Entertainment', 'arts')\n",
      "P:92.43%  R:91.63%  F:92.03%  A:92.06% -- ('Automotive', 'auto')\n",
      "P:93.11%  R:92.22%  F:92.66%  A:92.68% -- ('Beauty & Spas', 'beautysvc')\n",
      "P:86.04%  R:85.65%  F:85.84%  A:86.03% -- ('Education', 'education')\n",
      "P:90.78%  R:89.51%  F:90.14%  A:90.27% -- ('Event Planning & Services', 'eventservices')\n",
      "P:91.39%  R:90.38%  F:90.88%  A:91.02% -- ('Financial Services', 'financialservices')\n",
      "P:82.21%  R:82.37%  F:82.29%  A:82.28% -- ('Food', 'food')\n",
      "P:93.65%  R:93.39%  F:93.52%  A:93.51% -- ('Health & Medical', 'health')\n",
      "P:93.77%  R:93.09%  F:93.43%  A:93.44% -- ('Home Services', 'homeservices')\n",
      "P:87.26%  R:87.08%  F:87.17%  A:87.24% -- ('Hotels & Travel', 'hotelstravel')\n",
      "P:75.86%  R:78.57%  F:77.19%  A:77.19% -- ('Local Flavor', 'localflavor')\n",
      "P:92.70%  R:91.94%  F:92.32%  A:92.37% -- ('Local Services', 'localservices')\n",
      "P:76.67%  R:82.14%  F:79.31%  A:78.95% -- ('Mass Media', 'massmedia')\n",
      "P:78.78%  R:79.78%  F:79.28%  A:79.04% -- ('Nightlife', 'nightlife')\n"
     ]
    }
   ],
   "metadata": {}
  },
  {
   "cell_type": "code",
   "execution_count": 44,
   "source": [
    "# min/max for cross-groups\n",
    "for k, g in groupby(cg_results_single_group.items(), key=lambda x: x[0][0]):\n",
    "    print(f\"\\n{k}\\n\")\n",
    "    cur_min = cur_max = None\n",
    "    all_acc = list()\n",
    "    for (cg_ids, cg_ids_o, i, cgi), m in g:\n",
    "        acc = m[\"accuracy\"]\n",
    "        all_acc.append(acc)\n",
    "        if cur_min is None or cur_min > acc:\n",
    "            cur_min = acc\n",
    "        if cur_max is None or cur_max < acc:\n",
    "            cur_max = acc\n",
    "    print(f\"A:{cur_min * 100:5.2f}% - {cur_max * 100:5.2f}%\")\n",
    "    print(f\"avg: {np.mean(all_acc) * 100:.2f}%, var: {np.var(all_acc) * 100:.2f}\")"
   ],
   "outputs": [
    {
     "output_type": "stream",
     "name": "stdout",
     "text": [
      "\n",
      "(('Active Life', 'active'), ('Arts & Entertainment', 'arts'), ('Automotive', 'auto'), ('Beauty & Spas', 'beautysvc'), ('Education', 'education'))\n",
      "\n",
      "A:80.72% - 84.83%\n",
      "avg: 82.44%, var: 0.03\n",
      "\n",
      "(('Event Planning & Services', 'eventservices'), ('Financial Services', 'financialservices'), ('Food', 'food'), ('Health & Medical', 'health'), ('Home Services', 'homeservices'))\n",
      "\n",
      "A:81.42% - 88.84%\n",
      "avg: 84.23%, var: 0.11\n",
      "\n",
      "(('Hotels & Travel', 'hotelstravel'), ('Local Flavor', 'localflavor'), ('Local Services', 'localservices'), ('Mass Media', 'massmedia'), ('Nightlife', 'nightlife'))\n",
      "\n",
      "A:83.11% - 89.37%\n",
      "avg: 86.16%, var: 0.07\n",
      "\n",
      "(('Pets', 'pets'), ('Professional Services', 'professional'), ('Public Services & Government', 'publicservicesgovt'), ('Religious Organizations', 'religiousorgs'), ('Restaurants', 'restaurants'), ('Shopping', 'shopping'))\n",
      "\n",
      "A:84.00% - 90.53%\n",
      "avg: 87.39%, var: 0.07\n"
     ]
    }
   ],
   "metadata": {}
  },
  {
   "cell_type": "code",
   "execution_count": 45,
   "source": [
    "# min/max for cross-category\n",
    "for k, g in groupby(cg_results_single_cat.items(), key=lambda x: x[0][0]):\n",
    "    print(f\"\\n{k}\\n\")\n",
    "    cur_min = cur_max = None\n",
    "    all_acc = list()\n",
    "    for (cg_ids, cg_id, i, cgi), m in g:\n",
    "        acc = m[\"accuracy\"]\n",
    "        all_acc.append(acc)\n",
    "        if cur_min is None or cur_min > acc:\n",
    "            cur_min = acc\n",
    "        if cur_max is None or cur_max < acc:\n",
    "            cur_max = acc\n",
    "    print(f\"acc: {cur_min * 100:5.2f}% - {cur_max * 100:5.2f}%\")\n",
    "    print(f\"avg: {np.mean(all_acc) * 100:.2f}%, var: {np.var(all_acc) * 100:.2f}\")"
   ],
   "outputs": [
    {
     "output_type": "stream",
     "name": "stdout",
     "text": [
      "\n",
      "(('Active Life', 'active'), ('Arts & Entertainment', 'arts'), ('Automotive', 'auto'), ('Beauty & Spas', 'beautysvc'), ('Education', 'education'))\n",
      "\n",
      "acc: 73.64% - 91.85%\n",
      "avg: 83.28%, var: 0.40\n",
      "\n",
      "(('Event Planning & Services', 'eventservices'), ('Financial Services', 'financialservices'), ('Food', 'food'), ('Health & Medical', 'health'), ('Home Services', 'homeservices'))\n",
      "\n",
      "acc: 75.84% - 91.42%\n",
      "avg: 83.60%, var: 0.32\n",
      "\n",
      "(('Hotels & Travel', 'hotelstravel'), ('Local Flavor', 'localflavor'), ('Local Services', 'localservices'), ('Mass Media', 'massmedia'), ('Nightlife', 'nightlife'))\n",
      "\n",
      "acc: 76.78% - 92.78%\n",
      "avg: 86.06%, var: 0.32\n",
      "\n",
      "(('Pets', 'pets'), ('Professional Services', 'professional'), ('Public Services & Government', 'publicservicesgovt'), ('Religious Organizations', 'religiousorgs'), ('Restaurants', 'restaurants'), ('Shopping', 'shopping'))\n",
      "\n",
      "acc: 77.19% - 93.51%\n",
      "avg: 86.62%, var: 0.34\n"
     ]
    }
   ],
   "metadata": {}
  },
  {
   "cell_type": "code",
   "execution_count": 34,
   "source": [
    "# compute average accuracy over single categories\n",
    "cur_cat = None\n",
    "map_cg_cat_avg = dict()\n",
    "for (cg_ids, cg_id, i, cgi), m in cg_results_single_cat.items():\n",
    "    if cur_cat is None or cur_cat != cg_ids:\n",
    "        cur_cat = cg_ids\n",
    "        map_cg_cat_avg[cg_ids] = list()\n",
    "    (prec, rec, f1, acc) = m[\"precision\"], m[\"recall\"], m[\"fscore\"], m[\"accuracy\"]\n",
    "    map_cg_cat_avg[cg_ids].append(acc)\n",
    "\n",
    "for cg_ids, vals in map_cg_cat_avg.items():\n",
    "    print(f\"avg: {np.mean(vals) * 100:.2f}%, var: {np.var(vals) * 100:.2f}     {cg_ids}\")"
   ],
   "outputs": [
    {
     "output_type": "stream",
     "name": "stdout",
     "text": [
      "avg: 83.28%, var: 0.40     (('Active Life', 'active'), ('Arts & Entertainment', 'arts'), ('Automotive', 'auto'), ('Beauty & Spas', 'beautysvc'), ('Education', 'education'))\n",
      "avg: 83.60%, var: 0.32     (('Event Planning & Services', 'eventservices'), ('Financial Services', 'financialservices'), ('Food', 'food'), ('Health & Medical', 'health'), ('Home Services', 'homeservices'))\n",
      "avg: 86.06%, var: 0.32     (('Hotels & Travel', 'hotelstravel'), ('Local Flavor', 'localflavor'), ('Local Services', 'localservices'), ('Mass Media', 'massmedia'), ('Nightlife', 'nightlife'))\n",
      "avg: 86.62%, var: 0.34     (('Pets', 'pets'), ('Professional Services', 'professional'), ('Public Services & Government', 'publicservicesgovt'), ('Religious Organizations', 'religiousorgs'), ('Restaurants', 'restaurants'), ('Shopping', 'shopping'))\n"
     ]
    }
   ],
   "metadata": {}
  },
  {
   "cell_type": "markdown",
   "source": [
    "---"
   ],
   "metadata": {}
  },
  {
   "cell_type": "code",
   "execution_count": null,
   "source": [],
   "outputs": [],
   "metadata": {}
  }
 ],
 "metadata": {
  "kernelspec": {
   "display_name": "Python 3 (ipykernel)",
   "language": "python",
   "name": "python3"
  },
  "language_info": {
   "codemirror_mode": {
    "name": "ipython",
    "version": 3
   },
   "file_extension": ".py",
   "mimetype": "text/x-python",
   "name": "python",
   "nbconvert_exporter": "python",
   "pygments_lexer": "ipython3",
   "version": "3.9.6"
  }
 },
 "nbformat": 4,
 "nbformat_minor": 4
}
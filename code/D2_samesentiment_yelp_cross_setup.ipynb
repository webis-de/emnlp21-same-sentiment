{
 "cells": [
  {
   "cell_type": "markdown",
   "source": [
    "# SameSentiment Yelp - CrossEval - Data Setup"
   ],
   "metadata": {}
  },
  {
   "cell_type": "code",
   "execution_count": 1,
   "source": [
    "import pickle\n",
    "from pathlib import Path\n",
    "\n",
    "import pandas as pd\n",
    "from tqdm import tqdm\n",
    "\n",
    "from utils import Timer\n",
    "\n",
    "tqdm.pandas()"
   ],
   "outputs": [],
   "metadata": {}
  },
  {
   "cell_type": "code",
   "execution_count": 2,
   "source": [
    "data_yelp_path = Path(\"data_raw/sentiment/yelp/\")\n",
    "\n",
    "# local - output path (base) for sentiment review yelp pairs\n",
    "data_yelp_b_tdt_path = Path(\"data/sentiment/yelp-pair-b/\")\n",
    "# local - output path for simple sentiment reviews yelp\n",
    "data_yelp_tdt_sentiment_5_path = Path(\"data/sentiment/yelp-sentiment-5/\")\n",
    "data_yelp_tdt_sentiment_b_path = Path(\"data/sentiment/yelp-sentiment-b/\")"
   ],
   "outputs": [],
   "metadata": {}
  },
  {
   "cell_type": "markdown",
   "source": [
    "---"
   ],
   "metadata": {}
  },
  {
   "cell_type": "code",
   "execution_count": 3,
   "source": [
    "dn_yelp_cached = data_yelp_path / \"cached\""
   ],
   "outputs": [],
   "metadata": {}
  },
  {
   "cell_type": "code",
   "execution_count": 4,
   "source": [
    "#  #### Load categories & topics\n",
    "from data_prep import load_reviews, load_topics\n",
    "\n",
    "# ##### Filter categories\n",
    "from data_prep import filter_min_cat_combis, make_map_cats, make_cat_combis\n",
    "\n",
    "# ##### Filter reviews\n",
    "from data_prep import filter_min_review_freq, filter_both_good_bad\n",
    "\n",
    "# ##### Filter businesses\n",
    "from data_prep import filter_by_businesses, filter_by_businesses_not_same\n",
    "\n",
    "# #### Load category tree\n",
    "from data_prep import load_category_tree\n",
    "from data_prep import get_root_category_items, get_children_category_item_list\n",
    "from data_prep import get_businesses_in_category, get_businesses_in_category_branch\n",
    "\n",
    "\n",
    "# #### Cache root category reviews in dataframes\n",
    "from data_prep import cache_root_category_businesses_df, load_cached_root_category_businesses_df\n",
    "\n",
    "\n",
    "# #### Positive + negative same-sentiment pairs\n",
    "from data_prep import make_pairs_good_bad\n",
    "\n",
    "# #### Not same-sentiment pairs (combinations positive + negative)\n",
    "from data_prep import make_pairs_negative\n",
    "\n",
    "# #### Dataframe for training etc.\n",
    "from data_prep import make_or_load_pairs\n",
    "\n",
    "\n",
    "# #### Make train/dev/test splits\n",
    "from data_prep import split_df, write_pair_df_tsv, write_pair_tdt_tsv\n",
    "\n",
    "\n",
    "# ### Make cross eval splits\n",
    "from data_prep import build_category_business_lookup\n",
    "from data_prep import filter_category_business_lookup_no_overlap\n",
    "\n",
    "# #### Filter non-overlapping from pairs\n",
    "from data_prep import df_add_business_id\n",
    "from data_prep import filter_overlapping_businesses\n",
    "\n",
    "# #### Manually split into N shards for cross-validation\n",
    "from data_prep import make_group_split\n",
    "from data_prep import make_cross_eval_dfs"
   ],
   "outputs": [],
   "metadata": {}
  },
  {
   "cell_type": "markdown",
   "source": [
    "---"
   ],
   "metadata": {}
  },
  {
   "cell_type": "code",
   "execution_count": 5,
   "source": [
    "# N positive + N negative\n",
    "# --> 2N pos+neg (not same-sentiment)\n",
    "num_pairs_per_class = 2\n",
    "\n",
    "#: number of negative same-sentiment samples same as positive same-sentiment samples\n",
    "num_pairs_negative = 2 * num_pairs_per_class\n",
    "\n",
    "#: whether for a single side (good or bad) there can be multiple occurrences of the same review\n",
    "#: may need to check afterwared that not by chance same pairing happens ...\n",
    "repeatable_on_side = False"
   ],
   "outputs": [],
   "metadata": {}
  },
  {
   "cell_type": "code",
   "execution_count": 21,
   "source": [
    "try:\n",
    "    from utils import init_random\n",
    "\n",
    "    init_random()\n",
    "except ImportError:\n",
    "    pass\n",
    "\n",
    "try:\n",
    "    from utils_siamese import set_seed\n",
    "\n",
    "    set_seed(42)\n",
    "except ImportError:\n",
    "    pass    "
   ],
   "outputs": [],
   "metadata": {}
  },
  {
   "cell_type": "markdown",
   "source": [
    "---"
   ],
   "metadata": {}
  },
  {
   "cell_type": "markdown",
   "source": [
    "## Run"
   ],
   "metadata": {}
  },
  {
   "cell_type": "markdown",
   "source": [
    "#### Load reviews"
   ],
   "metadata": {}
  },
  {
   "cell_type": "code",
   "execution_count": 6,
   "source": [
    "fn_yelp_reviews = data_yelp_path / \"review.json\"\n",
    "df = load_reviews(fn_yelp_reviews)"
   ],
   "outputs": [
    {
     "output_type": "stream",
     "name": "stderr",
     "text": [
      "6685900it [00:34, 192419.18it/s]\n"
     ]
    }
   ],
   "metadata": {}
  },
  {
   "cell_type": "markdown",
   "source": [
    "#### Load categories for businesses\n",
    "\n",
    "- business (id) with list of topics/categories\n",
    "- lookups (business -> categories, category -> businesses)\n",
    "- list of combinations (with amount)"
   ],
   "metadata": {}
  },
  {
   "cell_type": "code",
   "execution_count": null,
   "source": [
    "fn_yelp_topics = data_yelp_path / \"business.json\"\n",
    "bids_not_cats = set()\n",
    "inv_bid_cats = load_topics(fn_yelp_topics, bids_not_cats=bids_not_cats)\n",
    "\n",
    "inv_cat_bids = make_map_cats(inv_bid_cats)\n",
    "\n",
    "inv_cat_combis = make_cat_combis(inv_bid_cats)"
   ],
   "outputs": [],
   "metadata": {}
  },
  {
   "cell_type": "markdown",
   "source": [
    "#### Load category tree\n",
    "\n",
    "- hierarchy of categories"
   ],
   "metadata": {}
  },
  {
   "cell_type": "code",
   "execution_count": 8,
   "source": [
    "fn_yelp_catgory_tree = data_yelp_path / \"all_category_list.json\"\n",
    "map_categories, map_cat_name2id, lst_root_categories = load_category_tree(fn_yelp_catgory_tree)"
   ],
   "outputs": [],
   "metadata": {}
  },
  {
   "cell_type": "markdown",
   "source": [
    "#### Pre-Cache all root category businesses (reviews)"
   ],
   "metadata": {}
  },
  {
   "cell_type": "code",
   "execution_count": 9,
   "source": [
    "cache_root_category_businesses_df(df, inv_cat_bids, map_categories, map_cat_name2id)"
   ],
   "outputs": [],
   "metadata": {}
  },
  {
   "cell_type": "markdown",
   "source": [
    "---"
   ],
   "metadata": {}
  },
  {
   "cell_type": "markdown",
   "source": [
    "## Write out training data"
   ],
   "metadata": {}
  },
  {
   "cell_type": "markdown",
   "source": [
    "### Split Test-Data"
   ],
   "metadata": {}
  },
  {
   "cell_type": "code",
   "execution_count": 10,
   "source": [
    "fn_yelp_df = data_yelp_path / \"df_traindev4_typed.p\"\n",
    "\n",
    "with open(fn_yelp_df, \"rb\") as fp:\n",
    "    traindev_df = pickle.load(fp)"
   ],
   "outputs": [],
   "metadata": {}
  },
  {
   "cell_type": "code",
   "execution_count": 11,
   "source": [
    "fn_yelp_df = data_yelp_path / \"df_traindev_test.p\""
   ],
   "outputs": [],
   "metadata": {}
  },
  {
   "cell_type": "raw",
   "source": [
    "# store\n",
    "traindev_df, test_df = split_df(traindev_df, ratio=0.1, do_shuffle=True, random_state=42, name_train=\"traindev\", name_dev=\"test\")\n",
    "\n",
    "with open(fn_yelp_df, \"wb\") as fp:\n",
    "    pickle.dump(traindev_df, fp, protocol=pickle.HIGHEST_PROTOCOL)\n",
    "    pickle.dump(test_df, fp, protocol=pickle.HIGHEST_PROTOCOL)"
   ],
   "metadata": {}
  },
  {
   "cell_type": "code",
   "execution_count": 12,
   "source": [
    "with open(fn_yelp_df, \"rb\") as fp:\n",
    "    traindev_df = pickle.load(fp)\n",
    "    test_df = pickle.load(fp)"
   ],
   "outputs": [],
   "metadata": {}
  },
  {
   "cell_type": "markdown",
   "source": [
    "---"
   ],
   "metadata": {}
  },
  {
   "cell_type": "raw",
   "source": [
    "root_path = data_yelp_b_tdt_path\n",
    "\n",
    "write_pair_tdt_tsv(root_path, traindev_df, split_test=0.1, split_dev=0.3)"
   ],
   "metadata": {}
  },
  {
   "cell_type": "markdown",
   "source": [
    "### Make cross eval splits"
   ],
   "metadata": {}
  },
  {
   "cell_type": "code",
   "execution_count": 22,
   "source": [
    "fn_yelp_df = data_yelp_path / \"df_traindev_test.p\"\n",
    "\n",
    "with open(fn_yelp_df, \"rb\") as fp:\n",
    "    traindev_df = pickle.load(fp)\n",
    "    test_df = pickle.load(fp)"
   ],
   "outputs": [],
   "metadata": {}
  },
  {
   "cell_type": "code",
   "execution_count": 23,
   "source": [
    "lookup_rootcat_bid = build_category_business_lookup(map_categories, inv_cat_bids, map_cat_name2id)\n",
    "lookup_rootcat_bid_no_overlap = filter_category_business_lookup_no_overlap(lookup_rootcat_bid)"
   ],
   "outputs": [],
   "metadata": {}
  },
  {
   "cell_type": "code",
   "execution_count": 24,
   "source": [
    "print(f\"Number businesses all (overlapping): {sum(len(bs) for bs in lookup_rootcat_bid.values())}\")\n",
    "print(f\"Number businesses all (no overlap): {sum(len(bs) for bs in lookup_rootcat_bid_no_overlap.values())}\")\n",
    "\n",
    "pd.DataFrame([\n",
    "    {\n",
    "        # \"category\": f\"{title}[{alias}]\",\n",
    "        \"category\": title,\n",
    "        \"alias\": alias,\n",
    "        \"businesses\": len(businesses),\n",
    "        \"business (no overlap)\": len(business_no_overlap)\n",
    "    }\n",
    "    for ((title, alias), businesses), business_no_overlap in zip(lookup_rootcat_bid.items(), lookup_rootcat_bid_no_overlap.values())    \n",
    "])"
   ],
   "outputs": [
    {
     "output_type": "stream",
     "name": "stdout",
     "text": [
      "Number businesses all (overlapping): 270427\n",
      "Number businesses all (no overlap): 129877\n"
     ]
    },
    {
     "output_type": "execute_result",
     "data": {
      "text/html": [
       "<div>\n",
       "<style scoped>\n",
       "    .dataframe tbody tr th:only-of-type {\n",
       "        vertical-align: middle;\n",
       "    }\n",
       "\n",
       "    .dataframe tbody tr th {\n",
       "        vertical-align: top;\n",
       "    }\n",
       "\n",
       "    .dataframe thead th {\n",
       "        text-align: right;\n",
       "    }\n",
       "</style>\n",
       "<table border=\"1\" class=\"dataframe\">\n",
       "  <thead>\n",
       "    <tr style=\"text-align: right;\">\n",
       "      <th></th>\n",
       "      <th>category</th>\n",
       "      <th>alias</th>\n",
       "      <th>businesses</th>\n",
       "      <th>business (no overlap)</th>\n",
       "    </tr>\n",
       "  </thead>\n",
       "  <tbody>\n",
       "    <tr>\n",
       "      <th>0</th>\n",
       "      <td>Active Life</td>\n",
       "      <td>active</td>\n",
       "      <td>9521</td>\n",
       "      <td>4533</td>\n",
       "    </tr>\n",
       "    <tr>\n",
       "      <th>1</th>\n",
       "      <td>Arts &amp; Entertainment</td>\n",
       "      <td>arts</td>\n",
       "      <td>6304</td>\n",
       "      <td>1225</td>\n",
       "    </tr>\n",
       "    <tr>\n",
       "      <th>2</th>\n",
       "      <td>Automotive</td>\n",
       "      <td>auto</td>\n",
       "      <td>13203</td>\n",
       "      <td>9755</td>\n",
       "    </tr>\n",
       "    <tr>\n",
       "      <th>3</th>\n",
       "      <td>Beauty &amp; Spas</td>\n",
       "      <td>beautysvc</td>\n",
       "      <td>19370</td>\n",
       "      <td>12931</td>\n",
       "    </tr>\n",
       "    <tr>\n",
       "      <th>4</th>\n",
       "      <td>Bicycles</td>\n",
       "      <td>bicycles</td>\n",
       "      <td>9</td>\n",
       "      <td>0</td>\n",
       "    </tr>\n",
       "    <tr>\n",
       "      <th>5</th>\n",
       "      <td>Education</td>\n",
       "      <td>education</td>\n",
       "      <td>3314</td>\n",
       "      <td>831</td>\n",
       "    </tr>\n",
       "    <tr>\n",
       "      <th>6</th>\n",
       "      <td>Event Planning &amp; Services</td>\n",
       "      <td>eventservices</td>\n",
       "      <td>10371</td>\n",
       "      <td>1456</td>\n",
       "    </tr>\n",
       "    <tr>\n",
       "      <th>7</th>\n",
       "      <td>Financial Services</td>\n",
       "      <td>financialservices</td>\n",
       "      <td>3082</td>\n",
       "      <td>1749</td>\n",
       "    </tr>\n",
       "    <tr>\n",
       "      <th>8</th>\n",
       "      <td>Food</td>\n",
       "      <td>food</td>\n",
       "      <td>29989</td>\n",
       "      <td>10418</td>\n",
       "    </tr>\n",
       "    <tr>\n",
       "      <th>9</th>\n",
       "      <td>Health &amp; Medical</td>\n",
       "      <td>health</td>\n",
       "      <td>17171</td>\n",
       "      <td>10767</td>\n",
       "    </tr>\n",
       "    <tr>\n",
       "      <th>10</th>\n",
       "      <td>Home Services</td>\n",
       "      <td>homeservices</td>\n",
       "      <td>19744</td>\n",
       "      <td>11131</td>\n",
       "    </tr>\n",
       "    <tr>\n",
       "      <th>11</th>\n",
       "      <td>Hotels &amp; Travel</td>\n",
       "      <td>hotelstravel</td>\n",
       "      <td>6033</td>\n",
       "      <td>1725</td>\n",
       "    </tr>\n",
       "    <tr>\n",
       "      <th>12</th>\n",
       "      <td>Local Flavor</td>\n",
       "      <td>localflavor</td>\n",
       "      <td>1444</td>\n",
       "      <td>120</td>\n",
       "    </tr>\n",
       "    <tr>\n",
       "      <th>13</th>\n",
       "      <td>Local Services</td>\n",
       "      <td>localservices</td>\n",
       "      <td>13932</td>\n",
       "      <td>4244</td>\n",
       "    </tr>\n",
       "    <tr>\n",
       "      <th>14</th>\n",
       "      <td>Mass Media</td>\n",
       "      <td>massmedia</td>\n",
       "      <td>319</td>\n",
       "      <td>142</td>\n",
       "    </tr>\n",
       "    <tr>\n",
       "      <th>15</th>\n",
       "      <td>Nightlife</td>\n",
       "      <td>nightlife</td>\n",
       "      <td>13095</td>\n",
       "      <td>2342</td>\n",
       "    </tr>\n",
       "    <tr>\n",
       "      <th>16</th>\n",
       "      <td>Pets</td>\n",
       "      <td>pets</td>\n",
       "      <td>4111</td>\n",
       "      <td>3470</td>\n",
       "    </tr>\n",
       "    <tr>\n",
       "      <th>17</th>\n",
       "      <td>Professional Services</td>\n",
       "      <td>professional</td>\n",
       "      <td>6276</td>\n",
       "      <td>1514</td>\n",
       "    </tr>\n",
       "    <tr>\n",
       "      <th>18</th>\n",
       "      <td>Public Services &amp; Government</td>\n",
       "      <td>publicservicesgovt</td>\n",
       "      <td>1343</td>\n",
       "      <td>628</td>\n",
       "    </tr>\n",
       "    <tr>\n",
       "      <th>19</th>\n",
       "      <td>Religious Organizations</td>\n",
       "      <td>religiousorgs</td>\n",
       "      <td>547</td>\n",
       "      <td>386</td>\n",
       "    </tr>\n",
       "    <tr>\n",
       "      <th>20</th>\n",
       "      <td>Restaurants</td>\n",
       "      <td>restaurants</td>\n",
       "      <td>59371</td>\n",
       "      <td>35639</td>\n",
       "    </tr>\n",
       "    <tr>\n",
       "      <th>21</th>\n",
       "      <td>Shopping</td>\n",
       "      <td>shopping</td>\n",
       "      <td>31878</td>\n",
       "      <td>14871</td>\n",
       "    </tr>\n",
       "  </tbody>\n",
       "</table>\n",
       "</div>"
      ],
      "text/plain": [
       "                        category               alias  businesses  \\\n",
       "0                    Active Life              active        9521   \n",
       "1           Arts & Entertainment                arts        6304   \n",
       "2                     Automotive                auto       13203   \n",
       "3                  Beauty & Spas           beautysvc       19370   \n",
       "4                       Bicycles            bicycles           9   \n",
       "5                      Education           education        3314   \n",
       "6      Event Planning & Services       eventservices       10371   \n",
       "7             Financial Services   financialservices        3082   \n",
       "8                           Food                food       29989   \n",
       "9               Health & Medical              health       17171   \n",
       "10                 Home Services        homeservices       19744   \n",
       "11               Hotels & Travel        hotelstravel        6033   \n",
       "12                  Local Flavor         localflavor        1444   \n",
       "13                Local Services       localservices       13932   \n",
       "14                    Mass Media           massmedia         319   \n",
       "15                     Nightlife           nightlife       13095   \n",
       "16                          Pets                pets        4111   \n",
       "17         Professional Services        professional        6276   \n",
       "18  Public Services & Government  publicservicesgovt        1343   \n",
       "19       Religious Organizations       religiousorgs         547   \n",
       "20                   Restaurants         restaurants       59371   \n",
       "21                      Shopping            shopping       31878   \n",
       "\n",
       "    business (no overlap)  \n",
       "0                    4533  \n",
       "1                    1225  \n",
       "2                    9755  \n",
       "3                   12931  \n",
       "4                       0  \n",
       "5                     831  \n",
       "6                    1456  \n",
       "7                    1749  \n",
       "8                   10418  \n",
       "9                   10767  \n",
       "10                  11131  \n",
       "11                   1725  \n",
       "12                    120  \n",
       "13                   4244  \n",
       "14                    142  \n",
       "15                   2342  \n",
       "16                   3470  \n",
       "17                   1514  \n",
       "18                    628  \n",
       "19                    386  \n",
       "20                  35639  \n",
       "21                  14871  "
      ]
     },
     "metadata": {},
     "execution_count": 24
    }
   ],
   "metadata": {
    "collapsed": true,
    "jupyter": {
     "outputs_hidden": true
    },
    "tags": []
   }
  },
  {
   "cell_type": "markdown",
   "source": [
    "---"
   ],
   "metadata": {}
  },
  {
   "cell_type": "markdown",
   "source": [
    "#### Filter non-overlapping from pairs"
   ],
   "metadata": {}
  },
  {
   "cell_type": "code",
   "execution_count": 25,
   "source": [
    "traindev_df = df_add_business_id(traindev_df)\n",
    "traindev_df = filter_overlapping_businesses(traindev_df, lookup_rootcat_bid_no_overlap)"
   ],
   "outputs": [
    {
     "output_type": "stream",
     "name": "stderr",
     "text": [
      "100%|█████████████████████████████████████████████████████████████████████████| 633384/633384 [03:36<00:00, 2921.09it/s]\n"
     ]
    }
   ],
   "metadata": {}
  },
  {
   "cell_type": "markdown",
   "source": [
    "#### Manually split into N shards for cross-validation"
   ],
   "metadata": {}
  },
  {
   "cell_type": "code",
   "execution_count": 26,
   "source": [
    "n_split = 4"
   ],
   "outputs": [],
   "metadata": {}
  },
  {
   "cell_type": "code",
   "execution_count": 27,
   "source": [
    "groups = make_group_split(lookup_rootcat_bid_no_overlap, n=n_split)\n",
    "map_cg_train_dev_groups = make_cross_eval_dfs(traindev_df, groups, lookup_rootcat_bid_no_overlap)"
   ],
   "outputs": [],
   "metadata": {}
  },
  {
   "cell_type": "code",
   "execution_count": 28,
   "source": [
    "fn_group = data_yelp_path / f\"group_data_save_k={n_split}.p\"\n",
    "\n",
    "with open(fn_group, \"wb\") as fp:\n",
    "    pickle.dump(groups, fp, protocol=pickle.HIGHEST_PROTOCOL)\n",
    "    pickle.dump(map_cg_train_dev_groups, fp, protocol=pickle.HIGHEST_PROTOCOL)"
   ],
   "outputs": [],
   "metadata": {}
  },
  {
   "cell_type": "code",
   "execution_count": 29,
   "source": [
    "fn_group = data_yelp_path / f\"group_data_save_k={n_split}.p\"\n",
    "\n",
    "with open(fn_group, \"rb\") as fp:\n",
    "    groups = pickle.load(fp)\n",
    "    map_cg_train_dev_groups = pickle.load(fp)"
   ],
   "outputs": [],
   "metadata": {}
  },
  {
   "cell_type": "markdown",
   "source": [
    "---"
   ],
   "metadata": {}
  },
  {
   "cell_type": "markdown",
   "source": [
    "#### Run cross eval"
   ],
   "metadata": {}
  },
  {
   "cell_type": "code",
   "execution_count": 30,
   "source": [
    "run_name_base = f\"manual-cross-eval-{n_split}\"\n",
    "fn_data_base_path = \"data/sentiment\""
   ],
   "outputs": [],
   "metadata": {}
  },
  {
   "cell_type": "code",
   "execution_count": null,
   "source": [
    "for i, (cg_ids, (train_df, dev_df, dev_dfs)) in enumerate(map_cg_train_dev_groups.items()):\n",
    "    print(f\"Write data for group fold {cg_ids} #{len(train_df)}...\")\n",
    "\n",
    "    run_name = f\"{run_name_base}_g{i}\"\n",
    "\n",
    "    fn_data_path = Path(f\"{fn_data_base_path}/{run_name_base}/{run_name}\")\n",
    "    fn_data_path.mkdir(parents=True, exist_ok=True)\n",
    "\n",
    "    with Timer(f\"write data\"):\n",
    "        fn_group = fn_data_path / \"group_data.p\"\n",
    "        with open(fn_group, \"wb\") as fp:\n",
    "            pickle.dump(cg_ids, fp, protocol=pickle.HIGHEST_PROTOCOL)\n",
    "            pickle.dump(train_df, fp, protocol=pickle.HIGHEST_PROTOCOL)\n",
    "            pickle.dump(dev_df, fp, protocol=pickle.HIGHEST_PROTOCOL)\n",
    "            pickle.dump(dev_dfs, fp, protocol=pickle.HIGHEST_PROTOCOL)\n",
    "            pickle.dump(groups, fp, protocol=pickle.HIGHEST_PROTOCOL)\n",
    "\n",
    "        write_pair_tdt_tsv(fn_data_path, traindev_df, split_test=0.1, split_dev=0.3)\n",
    "        \n",
    "    # ------------------\n",
    "        \n",
    "    cg_groups = [cg_ids_o for cg_ids_o in groups if cg_ids_o != cg_ids]\n",
    "    for cgi, (cg_ids_o, dev_df) in enumerate(zip(cg_groups, dev_dfs)):\n",
    "        fn_dev_tsv = fn_data_path / f\"group-{cgi}\" / \"dev.tsv\"\n",
    "        write_pair_df_tsv(dev_df, fn_dev_tsv, desc=\"dev\")\n",
    "        \n",
    "    # ------------------\n",
    "    \n",
    "    for cgi, (cg_id, businesses) in enumerate(lookup_rootcat_bid_no_overlap.items()):\n",
    "        # check if train data, skip since we did not split into eval\n",
    "        if cg_id in cg_ids:\n",
    "            continue\n",
    "        if not businesses:\n",
    "            print(f\"Skip empty df: {cg_id}\")\n",
    "            continue\n",
    "            \n",
    "        dev_df = traindev_df[traindev_df.business_id.isin(businesses)]\n",
    "\n",
    "        fn_dev_tsv = fn_data_path / f\"categ-{cgi}\" / \"dev.tsv\"\n",
    "        write_pair_df_tsv(dev_df, fn_dev_tsv, desc=\"dev\")\n",
    "\n",
    "        \n",
    "    # cg_results[cg_ids] = compute_metrics(y_true, y_pred, precision=8, averaging=\"macro\", dump=False)"
   ],
   "outputs": [],
   "metadata": {}
  }
 ],
 "metadata": {
  "kernelspec": {
   "display_name": "Python 3 (ipykernel)",
   "language": "python",
   "name": "python3"
  },
  "language_info": {
   "codemirror_mode": {
    "name": "ipython",
    "version": 3
   },
   "file_extension": ".py",
   "mimetype": "text/x-python",
   "name": "python",
   "nbconvert_exporter": "python",
   "pygments_lexer": "ipython3",
   "version": "3.9.6"
  }
 },
 "nbformat": 4,
 "nbformat_minor": 4
}